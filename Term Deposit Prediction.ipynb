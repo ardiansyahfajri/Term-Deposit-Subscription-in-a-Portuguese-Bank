{
 "cells": [
  {
   "cell_type": "code",
   "execution_count": 1,
   "metadata": {},
   "outputs": [],
   "source": [
    "from sklearn.preprocessing import OneHotEncoder\n",
    "from sklearn.compose import ColumnTransformer\n",
    "from sklearn.pipeline import Pipeline\n",
    "from sklearn.model_selection import train_test_split, GridSearchCV\n",
    "from sklearn.metrics import accuracy_score, classification_report\n",
    "import numpy as np\n",
    "\n",
    "# Our algorithms, by from the easiest to the hardest to intepret.\n",
    "from sklearn.linear_model import LogisticRegression\n",
    "from sklearn.tree import DecisionTreeClassifier\n",
    "from sklearn.ensemble import RandomForestClassifier\n",
    "from xgboost.sklearn import XGBClassifier\n",
    "import warnings\n",
    "warnings.filterwarnings('ignore')\n",
    "\n",
    "import numpy as np\n",
    "import pandas as pd\n",
    "import seaborn as sns\n",
    "import matplotlib.pyplot as plt\n",
    "from matplotlib import rcParams"
   ]
  },
  {
   "cell_type": "markdown",
   "metadata": {},
   "source": [
    "# Pre-processing"
   ]
  },
  {
   "cell_type": "markdown",
   "metadata": {},
   "source": [
    "## Data Cleansing"
   ]
  },
  {
   "cell_type": "markdown",
   "metadata": {},
   "source": [
    "### Load dataset"
   ]
  },
  {
   "cell_type": "code",
   "execution_count": 2,
   "metadata": {},
   "outputs": [
    {
     "data": {
      "text/html": [
       "<div>\n",
       "<style scoped>\n",
       "    .dataframe tbody tr th:only-of-type {\n",
       "        vertical-align: middle;\n",
       "    }\n",
       "\n",
       "    .dataframe tbody tr th {\n",
       "        vertical-align: top;\n",
       "    }\n",
       "\n",
       "    .dataframe thead th {\n",
       "        text-align: right;\n",
       "    }\n",
       "</style>\n",
       "<table border=\"1\" class=\"dataframe\">\n",
       "  <thead>\n",
       "    <tr style=\"text-align: right;\">\n",
       "      <th></th>\n",
       "      <th>age</th>\n",
       "      <th>job</th>\n",
       "      <th>marital</th>\n",
       "      <th>education</th>\n",
       "      <th>default</th>\n",
       "      <th>balance</th>\n",
       "      <th>housing</th>\n",
       "      <th>loan</th>\n",
       "      <th>contact</th>\n",
       "      <th>day</th>\n",
       "      <th>month</th>\n",
       "      <th>duration</th>\n",
       "      <th>campaign</th>\n",
       "      <th>pdays</th>\n",
       "      <th>previous</th>\n",
       "      <th>poutcome</th>\n",
       "      <th>term_deposit</th>\n",
       "    </tr>\n",
       "  </thead>\n",
       "  <tbody>\n",
       "    <tr>\n",
       "      <th>0</th>\n",
       "      <td>58</td>\n",
       "      <td>management</td>\n",
       "      <td>married</td>\n",
       "      <td>tertiary</td>\n",
       "      <td>no</td>\n",
       "      <td>2143</td>\n",
       "      <td>yes</td>\n",
       "      <td>no</td>\n",
       "      <td>unknown</td>\n",
       "      <td>5</td>\n",
       "      <td>may</td>\n",
       "      <td>261</td>\n",
       "      <td>1</td>\n",
       "      <td>-1</td>\n",
       "      <td>0</td>\n",
       "      <td>unknown</td>\n",
       "      <td>no</td>\n",
       "    </tr>\n",
       "    <tr>\n",
       "      <th>1</th>\n",
       "      <td>44</td>\n",
       "      <td>technician</td>\n",
       "      <td>single</td>\n",
       "      <td>secondary</td>\n",
       "      <td>no</td>\n",
       "      <td>29</td>\n",
       "      <td>yes</td>\n",
       "      <td>no</td>\n",
       "      <td>unknown</td>\n",
       "      <td>5</td>\n",
       "      <td>may</td>\n",
       "      <td>151</td>\n",
       "      <td>1</td>\n",
       "      <td>-1</td>\n",
       "      <td>0</td>\n",
       "      <td>unknown</td>\n",
       "      <td>no</td>\n",
       "    </tr>\n",
       "    <tr>\n",
       "      <th>2</th>\n",
       "      <td>33</td>\n",
       "      <td>entrepreneur</td>\n",
       "      <td>married</td>\n",
       "      <td>secondary</td>\n",
       "      <td>no</td>\n",
       "      <td>2</td>\n",
       "      <td>yes</td>\n",
       "      <td>yes</td>\n",
       "      <td>unknown</td>\n",
       "      <td>5</td>\n",
       "      <td>may</td>\n",
       "      <td>76</td>\n",
       "      <td>1</td>\n",
       "      <td>-1</td>\n",
       "      <td>0</td>\n",
       "      <td>unknown</td>\n",
       "      <td>no</td>\n",
       "    </tr>\n",
       "    <tr>\n",
       "      <th>3</th>\n",
       "      <td>47</td>\n",
       "      <td>blue-collar</td>\n",
       "      <td>married</td>\n",
       "      <td>unknown</td>\n",
       "      <td>no</td>\n",
       "      <td>1506</td>\n",
       "      <td>yes</td>\n",
       "      <td>no</td>\n",
       "      <td>unknown</td>\n",
       "      <td>5</td>\n",
       "      <td>may</td>\n",
       "      <td>92</td>\n",
       "      <td>1</td>\n",
       "      <td>-1</td>\n",
       "      <td>0</td>\n",
       "      <td>unknown</td>\n",
       "      <td>no</td>\n",
       "    </tr>\n",
       "    <tr>\n",
       "      <th>4</th>\n",
       "      <td>33</td>\n",
       "      <td>unknown</td>\n",
       "      <td>single</td>\n",
       "      <td>unknown</td>\n",
       "      <td>no</td>\n",
       "      <td>1</td>\n",
       "      <td>no</td>\n",
       "      <td>no</td>\n",
       "      <td>unknown</td>\n",
       "      <td>5</td>\n",
       "      <td>may</td>\n",
       "      <td>198</td>\n",
       "      <td>1</td>\n",
       "      <td>-1</td>\n",
       "      <td>0</td>\n",
       "      <td>unknown</td>\n",
       "      <td>no</td>\n",
       "    </tr>\n",
       "  </tbody>\n",
       "</table>\n",
       "</div>"
      ],
      "text/plain": [
       "   age           job  marital  education default  balance housing loan  \\\n",
       "0   58    management  married   tertiary      no     2143     yes   no   \n",
       "1   44    technician   single  secondary      no       29     yes   no   \n",
       "2   33  entrepreneur  married  secondary      no        2     yes  yes   \n",
       "3   47   blue-collar  married    unknown      no     1506     yes   no   \n",
       "4   33       unknown   single    unknown      no        1      no   no   \n",
       "\n",
       "   contact  day month  duration  campaign  pdays  previous poutcome  \\\n",
       "0  unknown    5   may       261         1     -1         0  unknown   \n",
       "1  unknown    5   may       151         1     -1         0  unknown   \n",
       "2  unknown    5   may        76         1     -1         0  unknown   \n",
       "3  unknown    5   may        92         1     -1         0  unknown   \n",
       "4  unknown    5   may       198         1     -1         0  unknown   \n",
       "\n",
       "  term_deposit  \n",
       "0           no  \n",
       "1           no  \n",
       "2           no  \n",
       "3           no  \n",
       "4           no  "
      ]
     },
     "execution_count": 2,
     "metadata": {},
     "output_type": "execute_result"
    }
   ],
   "source": [
    "df = pd.read_csv('BankCustomerData.csv')\n",
    "df.head()"
   ]
  },
  {
   "cell_type": "code",
   "execution_count": 3,
   "metadata": {},
   "outputs": [
    {
     "name": "stdout",
     "output_type": "stream",
     "text": [
      "<class 'pandas.core.frame.DataFrame'>\n",
      "RangeIndex: 42639 entries, 0 to 42638\n",
      "Data columns (total 17 columns):\n",
      " #   Column        Non-Null Count  Dtype \n",
      "---  ------        --------------  ----- \n",
      " 0   age           42639 non-null  int64 \n",
      " 1   job           42639 non-null  object\n",
      " 2   marital       42639 non-null  object\n",
      " 3   education     42639 non-null  object\n",
      " 4   default       42639 non-null  object\n",
      " 5   balance       42639 non-null  int64 \n",
      " 6   housing       42639 non-null  object\n",
      " 7   loan          42639 non-null  object\n",
      " 8   contact       42639 non-null  object\n",
      " 9   day           42639 non-null  int64 \n",
      " 10  month         42639 non-null  object\n",
      " 11  duration      42639 non-null  int64 \n",
      " 12  campaign      42639 non-null  int64 \n",
      " 13  pdays         42639 non-null  int64 \n",
      " 14  previous      42639 non-null  int64 \n",
      " 15  poutcome      42639 non-null  object\n",
      " 16  term_deposit  42639 non-null  object\n",
      "dtypes: int64(7), object(10)\n",
      "memory usage: 5.5+ MB\n"
     ]
    }
   ],
   "source": [
    "df.info()"
   ]
  },
  {
   "cell_type": "markdown",
   "metadata": {},
   "source": [
    "* Target klasifikasi adalah `term_deposit`"
   ]
  },
  {
   "cell_type": "markdown",
   "metadata": {},
   "source": [
    "### Missing Value"
   ]
  },
  {
   "cell_type": "code",
   "execution_count": 4,
   "metadata": {},
   "outputs": [
    {
     "data": {
      "text/plain": [
       "age             0\n",
       "job             0\n",
       "marital         0\n",
       "education       0\n",
       "default         0\n",
       "balance         0\n",
       "housing         0\n",
       "loan            0\n",
       "contact         0\n",
       "day             0\n",
       "month           0\n",
       "duration        0\n",
       "campaign        0\n",
       "pdays           0\n",
       "previous        0\n",
       "poutcome        0\n",
       "term_deposit    0\n",
       "dtype: int64"
      ]
     },
     "execution_count": 4,
     "metadata": {},
     "output_type": "execute_result"
    }
   ],
   "source": [
    "df.isna().sum()"
   ]
  },
  {
   "cell_type": "markdown",
   "metadata": {},
   "source": [
    "* Tidak terdapat missing value"
   ]
  },
  {
   "cell_type": "markdown",
   "metadata": {},
   "source": [
    "### Outlier"
   ]
  },
  {
   "cell_type": "markdown",
   "metadata": {},
   "source": [
    "cek outlier dengan melihat data describe"
   ]
  },
  {
   "cell_type": "code",
   "execution_count": 5,
   "metadata": {},
   "outputs": [
    {
     "data": {
      "text/html": [
       "<div>\n",
       "<style scoped>\n",
       "    .dataframe tbody tr th:only-of-type {\n",
       "        vertical-align: middle;\n",
       "    }\n",
       "\n",
       "    .dataframe tbody tr th {\n",
       "        vertical-align: top;\n",
       "    }\n",
       "\n",
       "    .dataframe thead th {\n",
       "        text-align: right;\n",
       "    }\n",
       "</style>\n",
       "<table border=\"1\" class=\"dataframe\">\n",
       "  <thead>\n",
       "    <tr style=\"text-align: right;\">\n",
       "      <th></th>\n",
       "      <th>age</th>\n",
       "      <th>balance</th>\n",
       "      <th>day</th>\n",
       "      <th>duration</th>\n",
       "      <th>campaign</th>\n",
       "      <th>pdays</th>\n",
       "      <th>previous</th>\n",
       "    </tr>\n",
       "  </thead>\n",
       "  <tbody>\n",
       "    <tr>\n",
       "      <th>count</th>\n",
       "      <td>42639.000000</td>\n",
       "      <td>42639.000000</td>\n",
       "      <td>42639.000000</td>\n",
       "      <td>42639.000000</td>\n",
       "      <td>42639.000000</td>\n",
       "      <td>42639.000000</td>\n",
       "      <td>42639.000000</td>\n",
       "    </tr>\n",
       "    <tr>\n",
       "      <th>mean</th>\n",
       "      <td>40.788808</td>\n",
       "      <td>1331.863951</td>\n",
       "      <td>15.854781</td>\n",
       "      <td>255.957504</td>\n",
       "      <td>2.816412</td>\n",
       "      <td>34.169141</td>\n",
       "      <td>0.465442</td>\n",
       "    </tr>\n",
       "    <tr>\n",
       "      <th>std</th>\n",
       "      <td>10.200236</td>\n",
       "      <td>3011.537676</td>\n",
       "      <td>8.293901</td>\n",
       "      <td>258.361368</td>\n",
       "      <td>3.163564</td>\n",
       "      <td>92.041713</td>\n",
       "      <td>2.166705</td>\n",
       "    </tr>\n",
       "    <tr>\n",
       "      <th>min</th>\n",
       "      <td>18.000000</td>\n",
       "      <td>-8019.000000</td>\n",
       "      <td>1.000000</td>\n",
       "      <td>0.000000</td>\n",
       "      <td>1.000000</td>\n",
       "      <td>-1.000000</td>\n",
       "      <td>0.000000</td>\n",
       "    </tr>\n",
       "    <tr>\n",
       "      <th>25%</th>\n",
       "      <td>33.000000</td>\n",
       "      <td>62.000000</td>\n",
       "      <td>8.000000</td>\n",
       "      <td>101.000000</td>\n",
       "      <td>1.000000</td>\n",
       "      <td>-1.000000</td>\n",
       "      <td>0.000000</td>\n",
       "    </tr>\n",
       "    <tr>\n",
       "      <th>50%</th>\n",
       "      <td>39.000000</td>\n",
       "      <td>429.000000</td>\n",
       "      <td>16.000000</td>\n",
       "      <td>177.000000</td>\n",
       "      <td>2.000000</td>\n",
       "      <td>-1.000000</td>\n",
       "      <td>0.000000</td>\n",
       "    </tr>\n",
       "    <tr>\n",
       "      <th>75%</th>\n",
       "      <td>48.000000</td>\n",
       "      <td>1381.500000</td>\n",
       "      <td>21.000000</td>\n",
       "      <td>315.000000</td>\n",
       "      <td>3.000000</td>\n",
       "      <td>-1.000000</td>\n",
       "      <td>0.000000</td>\n",
       "    </tr>\n",
       "    <tr>\n",
       "      <th>max</th>\n",
       "      <td>95.000000</td>\n",
       "      <td>102127.000000</td>\n",
       "      <td>31.000000</td>\n",
       "      <td>4918.000000</td>\n",
       "      <td>63.000000</td>\n",
       "      <td>536.000000</td>\n",
       "      <td>275.000000</td>\n",
       "    </tr>\n",
       "  </tbody>\n",
       "</table>\n",
       "</div>"
      ],
      "text/plain": [
       "                age        balance           day      duration      campaign  \\\n",
       "count  42639.000000   42639.000000  42639.000000  42639.000000  42639.000000   \n",
       "mean      40.788808    1331.863951     15.854781    255.957504      2.816412   \n",
       "std       10.200236    3011.537676      8.293901    258.361368      3.163564   \n",
       "min       18.000000   -8019.000000      1.000000      0.000000      1.000000   \n",
       "25%       33.000000      62.000000      8.000000    101.000000      1.000000   \n",
       "50%       39.000000     429.000000     16.000000    177.000000      2.000000   \n",
       "75%       48.000000    1381.500000     21.000000    315.000000      3.000000   \n",
       "max       95.000000  102127.000000     31.000000   4918.000000     63.000000   \n",
       "\n",
       "              pdays      previous  \n",
       "count  42639.000000  42639.000000  \n",
       "mean      34.169141      0.465442  \n",
       "std       92.041713      2.166705  \n",
       "min       -1.000000      0.000000  \n",
       "25%       -1.000000      0.000000  \n",
       "50%       -1.000000      0.000000  \n",
       "75%       -1.000000      0.000000  \n",
       "max      536.000000    275.000000  "
      ]
     },
     "execution_count": 5,
     "metadata": {},
     "output_type": "execute_result"
    }
   ],
   "source": [
    "df.describe()"
   ]
  },
  {
   "cell_type": "code",
   "execution_count": 6,
   "metadata": {},
   "outputs": [],
   "source": [
    "numerics = ['int8','int16', 'int32', 'int64', 'float16', 'float32', 'float64']\n",
    "nums  = df.select_dtypes(include = numerics).columns\n",
    "kategoris = ['object']\n",
    "cats = df.select_dtypes(include = kategoris).columns"
   ]
  },
  {
   "cell_type": "markdown",
   "metadata": {},
   "source": [
    "cek outlier dengan melihat data describe"
   ]
  },
  {
   "cell_type": "code",
   "execution_count": 7,
   "metadata": {},
   "outputs": [
    {
     "data": {
      "image/png": "[encoded data removed]",
      "text/plain": [
       "<Figure size 864x360 with 7 Axes>"
      ]
     },
     "metadata": {
      "needs_background": "light"
     },
     "output_type": "display_data"
    }
   ],
   "source": [
    "plt.figure(figsize=(12, 5))\n",
    "for i in range(0, len(nums)):\n",
    "    plt.subplot(1, len(nums), i+1)\n",
    "    sns.boxplot(y=df[nums[i]], color='blue', orient='v')\n",
    "    plt.tight_layout()"
   ]
  },
  {
   "cell_type": "markdown",
   "metadata": {},
   "source": [
    "* Berdasarkan describe data dan boxplot, outlier terlihat pada semua features, kecuali `day`\n",
    "* Treatment drop outlier hanya dilakukan pada feature `campaign`. Karena untuk data numeric akan dilakukan proses grouping. Dan Performa model paling bagus ketika dilakukan drop outlier pada feature `campaign`"
   ]
  },
  {
   "cell_type": "markdown",
   "metadata": {},
   "source": [
    "#### Drop Outlier"
   ]
  },
  {
   "cell_type": "markdown",
   "metadata": {},
   "source": [
    "Drop Outlier dengan IQR"
   ]
  },
  {
   "cell_type": "code",
   "execution_count": 8,
   "metadata": {},
   "outputs": [
    {
     "name": "stdout",
     "output_type": "stream",
     "text": [
      "Jumlah baris sebelum memfilter outlier: 42639\n",
      "Jumlah baris setelah memfilter outlier: 39618\n"
     ]
    }
   ],
   "source": [
    "print(f'Jumlah baris sebelum memfilter outlier: {len(df)}')\n",
    "\n",
    "filtered_entries = np.array([True] * len(df))\n",
    "for col in ['campaign']:\n",
    "    Q1 = df[col].quantile(0.25)\n",
    "    Q3 = df[col].quantile(0.75)\n",
    "    IQR = Q3 - Q1\n",
    "    low_limit = Q1 - (IQR * 1.5)\n",
    "    high_limit = Q3 + (IQR * 1.5)\n",
    "\n",
    "    filtered_entries = ((df[col] >= low_limit) & (df[col] <= high_limit)) & filtered_entries\n",
    "    \n",
    "df = df[filtered_entries]\n",
    "\n",
    "print(f'Jumlah baris setelah memfilter outlier: {len(df)}')"
   ]
  },
  {
   "cell_type": "markdown",
   "metadata": {},
   "source": [
    "### Duplicated Values"
   ]
  },
  {
   "cell_type": "code",
   "execution_count": 9,
   "metadata": {},
   "outputs": [
    {
     "data": {
      "text/plain": [
       "(39618, 17)"
      ]
     },
     "execution_count": 9,
     "metadata": {},
     "output_type": "execute_result"
    }
   ],
   "source": [
    "df = df.drop_duplicates()\n",
    "df.shape"
   ]
  },
  {
   "cell_type": "markdown",
   "metadata": {},
   "source": [
    "* Tidak terdapat duplicated values, jumlah baris masih sama dengan yang sebelumnya yaitu 39618."
   ]
  },
  {
   "cell_type": "markdown",
   "metadata": {},
   "source": [
    "## Feature engineering"
   ]
  },
  {
   "cell_type": "markdown",
   "metadata": {},
   "source": [
    "### Data Numeric menjadi Categorical"
   ]
  },
  {
   "cell_type": "markdown",
   "metadata": {},
   "source": [
    "* Perubahan data numeric menjadi categorical agar mempermudah proses analisa dan meningkatkan peformance model\n",
    "* Sebelumnya sudah dilakukan percobaan model kondisi data numeric dengan dan tanpa treatment categorical, performance model (AUC/Recall/Precision) lebih tinggi pada model yang sebelumnya dilakukan treatment pada data numeric menjadi categorical"
   ]
  },
  {
   "cell_type": "markdown",
   "metadata": {},
   "source": [
    "#### Age"
   ]
  },
  {
   "cell_type": "code",
   "execution_count": 10,
   "metadata": {},
   "outputs": [],
   "source": [
    "def umur(x): \n",
    "    if x['age'] <= 24: \n",
    "        result = 'Youth: <=24' \n",
    "    elif x['age'] >24 and x['age'] <= 29: \n",
    "        result = 'Adult_1: 25-29' \n",
    "    elif x['age'] >29 and x['age'] <= 34: \n",
    "        result = 'Adult_2: 30-34'     \n",
    "    elif x['age'] >34 and x['age'] <= 39: \n",
    "        result = 'Adult_3: 35-39' \n",
    "    elif x['age'] >39 and x['age'] <= 44: \n",
    "        result = 'Adult_4: 40-44'        \n",
    "    elif x['age'] >44 and x['age'] <= 49: \n",
    "        result = 'Adult_5: 45-49'        \n",
    "    elif x['age'] >49 and x['age'] <= 54:\n",
    "         result = 'Adult_6: 50-54'       \n",
    "    elif x['age'] >54 and x['age'] <= 59:\n",
    "         result = 'Adult_7: 55 -59'\n",
    "    elif x['age'] >59 and x['age'] <= 64:\n",
    "         result = 'Adult_8: 60 -64'\n",
    "    elif x['age'] >64:\n",
    "         result = 'Senior: >=65'\n",
    "    return result\n",
    "\n",
    "df['age_cat'] = df.apply(lambda x : umur(x), axis =1)"
   ]
  },
  {
   "cell_type": "code",
   "execution_count": 11,
   "metadata": {},
   "outputs": [
    {
     "data": {
      "text/plain": [
       "Adult_2: 30-34     8605\n",
       "Adult_3: 35-39     7368\n",
       "Adult_4: 40-44     5573\n",
       "Adult_5: 45-49     4855\n",
       "Adult_6: 50-54     3988\n",
       "Adult_1: 25-29     3860\n",
       "Adult_7: 55 -59    3515\n",
       "Adult_8: 60 -64     724\n",
       "Youth: <=24         646\n",
       "Senior: >=65        484\n",
       "Name: age_cat, dtype: int64"
      ]
     },
     "execution_count": 11,
     "metadata": {},
     "output_type": "execute_result"
    }
   ],
   "source": [
    "df['age_cat'].value_counts()"
   ]
  },
  {
   "cell_type": "markdown",
   "metadata": {},
   "source": [
    "#### Balance"
   ]
  },
  {
   "cell_type": "markdown",
   "metadata": {},
   "source": [
    "Grouping dilakukan berdasarkan percentile"
   ]
  },
  {
   "cell_type": "code",
   "execution_count": 12,
   "metadata": {},
   "outputs": [
    {
     "data": {
      "text/html": [
       "<div>\n",
       "<style scoped>\n",
       "    .dataframe tbody tr th:only-of-type {\n",
       "        vertical-align: middle;\n",
       "    }\n",
       "\n",
       "    .dataframe tbody tr th {\n",
       "        vertical-align: top;\n",
       "    }\n",
       "\n",
       "    .dataframe thead th {\n",
       "        text-align: right;\n",
       "    }\n",
       "</style>\n",
       "<table border=\"1\" class=\"dataframe\">\n",
       "  <thead>\n",
       "    <tr style=\"text-align: right;\">\n",
       "      <th></th>\n",
       "      <th>age</th>\n",
       "      <th>balance</th>\n",
       "      <th>day</th>\n",
       "      <th>duration</th>\n",
       "      <th>campaign</th>\n",
       "      <th>pdays</th>\n",
       "      <th>previous</th>\n",
       "    </tr>\n",
       "  </thead>\n",
       "  <tbody>\n",
       "    <tr>\n",
       "      <th>count</th>\n",
       "      <td>39618.000000</td>\n",
       "      <td>39618.000000</td>\n",
       "      <td>39618.000000</td>\n",
       "      <td>39618.000000</td>\n",
       "      <td>39618.000000</td>\n",
       "      <td>39618.000000</td>\n",
       "      <td>39618.000000</td>\n",
       "    </tr>\n",
       "    <tr>\n",
       "      <th>mean</th>\n",
       "      <td>40.765763</td>\n",
       "      <td>1336.687743</td>\n",
       "      <td>15.551290</td>\n",
       "      <td>261.362007</td>\n",
       "      <td>2.152077</td>\n",
       "      <td>35.690368</td>\n",
       "      <td>0.477636</td>\n",
       "    </tr>\n",
       "    <tr>\n",
       "      <th>std</th>\n",
       "      <td>10.246982</td>\n",
       "      <td>3014.550414</td>\n",
       "      <td>8.218294</td>\n",
       "      <td>258.671154</td>\n",
       "      <td>1.324296</td>\n",
       "      <td>93.587313</td>\n",
       "      <td>2.185902</td>\n",
       "    </tr>\n",
       "    <tr>\n",
       "      <th>min</th>\n",
       "      <td>18.000000</td>\n",
       "      <td>-8019.000000</td>\n",
       "      <td>1.000000</td>\n",
       "      <td>0.000000</td>\n",
       "      <td>1.000000</td>\n",
       "      <td>-1.000000</td>\n",
       "      <td>0.000000</td>\n",
       "    </tr>\n",
       "    <tr>\n",
       "      <th>20%</th>\n",
       "      <td>32.000000</td>\n",
       "      <td>19.000000</td>\n",
       "      <td>7.000000</td>\n",
       "      <td>92.000000</td>\n",
       "      <td>1.000000</td>\n",
       "      <td>-1.000000</td>\n",
       "      <td>0.000000</td>\n",
       "    </tr>\n",
       "    <tr>\n",
       "      <th>40%</th>\n",
       "      <td>36.000000</td>\n",
       "      <td>260.800000</td>\n",
       "      <td>13.000000</td>\n",
       "      <td>149.000000</td>\n",
       "      <td>1.000000</td>\n",
       "      <td>-1.000000</td>\n",
       "      <td>0.000000</td>\n",
       "    </tr>\n",
       "    <tr>\n",
       "      <th>50%</th>\n",
       "      <td>39.000000</td>\n",
       "      <td>434.000000</td>\n",
       "      <td>16.000000</td>\n",
       "      <td>182.000000</td>\n",
       "      <td>2.000000</td>\n",
       "      <td>-1.000000</td>\n",
       "      <td>0.000000</td>\n",
       "    </tr>\n",
       "    <tr>\n",
       "      <th>60%</th>\n",
       "      <td>42.000000</td>\n",
       "      <td>680.000000</td>\n",
       "      <td>18.000000</td>\n",
       "      <td>224.000000</td>\n",
       "      <td>2.000000</td>\n",
       "      <td>-1.000000</td>\n",
       "      <td>0.000000</td>\n",
       "    </tr>\n",
       "    <tr>\n",
       "      <th>80%</th>\n",
       "      <td>50.000000</td>\n",
       "      <td>1815.000000</td>\n",
       "      <td>23.000000</td>\n",
       "      <td>370.000000</td>\n",
       "      <td>3.000000</td>\n",
       "      <td>-1.000000</td>\n",
       "      <td>0.000000</td>\n",
       "    </tr>\n",
       "    <tr>\n",
       "      <th>max</th>\n",
       "      <td>95.000000</td>\n",
       "      <td>102127.000000</td>\n",
       "      <td>31.000000</td>\n",
       "      <td>4918.000000</td>\n",
       "      <td>6.000000</td>\n",
       "      <td>536.000000</td>\n",
       "      <td>275.000000</td>\n",
       "    </tr>\n",
       "  </tbody>\n",
       "</table>\n",
       "</div>"
      ],
      "text/plain": [
       "                age        balance           day      duration      campaign  \\\n",
       "count  39618.000000   39618.000000  39618.000000  39618.000000  39618.000000   \n",
       "mean      40.765763    1336.687743     15.551290    261.362007      2.152077   \n",
       "std       10.246982    3014.550414      8.218294    258.671154      1.324296   \n",
       "min       18.000000   -8019.000000      1.000000      0.000000      1.000000   \n",
       "20%       32.000000      19.000000      7.000000     92.000000      1.000000   \n",
       "40%       36.000000     260.800000     13.000000    149.000000      1.000000   \n",
       "50%       39.000000     434.000000     16.000000    182.000000      2.000000   \n",
       "60%       42.000000     680.000000     18.000000    224.000000      2.000000   \n",
       "80%       50.000000    1815.000000     23.000000    370.000000      3.000000   \n",
       "max       95.000000  102127.000000     31.000000   4918.000000      6.000000   \n",
       "\n",
       "              pdays      previous  \n",
       "count  39618.000000  39618.000000  \n",
       "mean      35.690368      0.477636  \n",
       "std       93.587313      2.185902  \n",
       "min       -1.000000      0.000000  \n",
       "20%       -1.000000      0.000000  \n",
       "40%       -1.000000      0.000000  \n",
       "50%       -1.000000      0.000000  \n",
       "60%       -1.000000      0.000000  \n",
       "80%       -1.000000      0.000000  \n",
       "max      536.000000    275.000000  "
      ]
     },
     "execution_count": 12,
     "metadata": {},
     "output_type": "execute_result"
    }
   ],
   "source": [
    "df.describe(percentiles=[0.2,0.4,0.6,0.8])"
   ]
  },
  {
   "cell_type": "markdown",
   "metadata": {},
   "source": [
    "Balance Categorical:\n",
    "1. Balance <= Percentile 20\n",
    "2. Percentile 20 < Balance <= Percentile 40\n",
    "3. Percentile 40 < Balance <= Percentile 60\n",
    "4. Percentile 60 < Balance <= Percentile 80\n",
    "5. Balance > Percentile 80"
   ]
  },
  {
   "cell_type": "code",
   "execution_count": 13,
   "metadata": {},
   "outputs": [],
   "source": [
    "def balance(x):\n",
    "    if x['balance'] <= 19:\n",
    "        result = 1\n",
    "    elif x['balance'] >19 and x['balance'] <= 260.8:\n",
    "        result = 2\n",
    "    elif x['balance'] >260.8 and x['balance'] <= 680:\n",
    "        result = 3\n",
    "    elif x['balance'] > 680 and x['balance'] <= 1815:\n",
    "        result = 4\n",
    "    else:\n",
    "        result = 5\n",
    "    return result\n",
    "\n",
    "df['balance_cat'] = df.apply(lambda x : balance(x), axis =1)"
   ]
  },
  {
   "cell_type": "code",
   "execution_count": 14,
   "metadata": {},
   "outputs": [
    {
     "data": {
      "text/plain": [
       "1    7972\n",
       "3    7928\n",
       "5    7922\n",
       "4    7921\n",
       "2    7875\n",
       "Name: balance_cat, dtype: int64"
      ]
     },
     "execution_count": 14,
     "metadata": {},
     "output_type": "execute_result"
    }
   ],
   "source": [
    "df['balance_cat'].value_counts()"
   ]
  },
  {
   "cell_type": "markdown",
   "metadata": {},
   "source": [
    "#### day"
   ]
  },
  {
   "cell_type": "markdown",
   "metadata": {},
   "source": [
    "Day digrouping per week"
   ]
  },
  {
   "cell_type": "code",
   "execution_count": 15,
   "metadata": {},
   "outputs": [],
   "source": [
    "def day_cat(x):\n",
    "    if x['day']  <= 7:\n",
    "        result = 1\n",
    "    elif x['day'] >= 8 and x['day'] <= 14:\n",
    "        result = 2\n",
    "    elif x['day'] >= 15 and x['day'] <= 21:\n",
    "        result = 3\n",
    "    elif x['day'] >= 22:\n",
    "        result = 4\n",
    "    return result\n",
    "\n",
    "df['day_cat'] = df.apply(lambda x : day_cat(x), axis =1)"
   ]
  },
  {
   "cell_type": "code",
   "execution_count": 16,
   "metadata": {},
   "outputs": [
    {
     "data": {
      "text/plain": [
       "3    12497\n",
       "2     9289\n",
       "4     8986\n",
       "1     8846\n",
       "Name: day_cat, dtype: int64"
      ]
     },
     "execution_count": 16,
     "metadata": {},
     "output_type": "execute_result"
    }
   ],
   "source": [
    "df['day_cat'].value_counts()"
   ]
  },
  {
   "cell_type": "markdown",
   "metadata": {},
   "source": [
    "#### pday"
   ]
  },
  {
   "cell_type": "markdown",
   "metadata": {},
   "source": [
    "Pdays digrouping per bulan"
   ]
  },
  {
   "cell_type": "code",
   "execution_count": 17,
   "metadata": {},
   "outputs": [
    {
     "data": {
      "text/plain": [
       "-1      33243\n",
       " 370       96\n",
       " 364       75\n",
       " 350       68\n",
       " 183       65\n",
       "        ...  \n",
       " 47         1\n",
       " 383        1\n",
       " 495        1\n",
       " 401        1\n",
       " 32         1\n",
       "Name: pdays, Length: 417, dtype: int64"
      ]
     },
     "execution_count": 17,
     "metadata": {},
     "output_type": "execute_result"
    }
   ],
   "source": [
    "df['pdays'].value_counts()"
   ]
  },
  {
   "cell_type": "code",
   "execution_count": 18,
   "metadata": {},
   "outputs": [],
   "source": [
    "def pdyas(x):\n",
    "    if x['pdays'] <1:\n",
    "        result = 0\n",
    "    elif x['pdays'] >= 1 and x['pdays'] <= 30:\n",
    "        result = 1\n",
    "    elif x['pdays'] >= 31 and x['pdays'] <= 60:\n",
    "        result = 2\n",
    "    elif x['pdays'] >= 61 and x['pdays'] <= 120:\n",
    "        result = 3 \n",
    "    elif x['pdays'] >= 121 and x['pdays'] <= 150:\n",
    "        result = 4\n",
    "    elif x['pdays'] >= 151 and x['pdays'] <= 180:\n",
    "        result = 5 \n",
    "    elif x['pdays'] >= 181 and x['pdays'] <= 210:\n",
    "        result = 6       \n",
    "    elif x['pdays'] >= 211 and x['pdays'] <= 240:\n",
    "        result = 7 \n",
    "    elif x['pdays'] >= 241 and x['pdays'] <= 270:\n",
    "        result = 8\n",
    "    elif x['pdays'] >= 271 and x['pdays'] <= 300:\n",
    "        result = 9\n",
    "    elif x['pdays'] >= 301 and x['pdays'] <= 330:\n",
    "        result = 10\n",
    "    elif x['pdays'] >= 331 and x['pdays'] <= 360:\n",
    "        result = 11\n",
    "    else:\n",
    "        result = 12\n",
    "    return result\n",
    "\n",
    "df['pdyas_new'] = df.apply(lambda x : pdyas(x), axis =1)"
   ]
  },
  {
   "cell_type": "code",
   "execution_count": 19,
   "metadata": {},
   "outputs": [
    {
     "data": {
      "text/plain": [
       "0     33243\n",
       "3      1091\n",
       "11     1026\n",
       "6       738\n",
       "5       714\n",
       "12      598\n",
       "8       573\n",
       "10      442\n",
       "9       413\n",
       "4       381\n",
       "7       168\n",
       "1       155\n",
       "2        76\n",
       "Name: pdyas_new, dtype: int64"
      ]
     },
     "execution_count": 19,
     "metadata": {},
     "output_type": "execute_result"
    }
   ],
   "source": [
    "df['pdyas_new'].value_counts()"
   ]
  },
  {
   "cell_type": "markdown",
   "metadata": {},
   "source": [
    "#### Campaign"
   ]
  },
  {
   "cell_type": "code",
   "execution_count": 20,
   "metadata": {},
   "outputs": [
    {
     "data": {
      "text/plain": [
       "1    16143\n",
       "2    11877\n",
       "3     5246\n",
       "4     3388\n",
       "5     1710\n",
       "6     1254\n",
       "Name: campaign, dtype: int64"
      ]
     },
     "execution_count": 20,
     "metadata": {},
     "output_type": "execute_result"
    }
   ],
   "source": [
    "df['campaign'].value_counts()"
   ]
  },
  {
   "cell_type": "code",
   "execution_count": 21,
   "metadata": {},
   "outputs": [],
   "source": [
    "def campaign_cat(x):\n",
    "    if x['campaign'] ==1:\n",
    "        result = 'sekali'\n",
    "    elif x['campaign'] >1 and x['campaign'] <= 3:\n",
    "        result = 'jarang'\n",
    "    elif x['campaign'] >= 4 and x['campaign'] <= 5:\n",
    "        result = 'sering'  \n",
    "    else:\n",
    "        result = 'sangat_sering'\n",
    "    return result\n",
    "\n",
    "df['campaign_cat'] = df.apply(lambda x : campaign_cat(x), axis =1)"
   ]
  },
  {
   "cell_type": "code",
   "execution_count": 22,
   "metadata": {},
   "outputs": [
    {
     "data": {
      "text/plain": [
       "jarang           17123\n",
       "sekali           16143\n",
       "sering            5098\n",
       "sangat_sering     1254\n",
       "Name: campaign_cat, dtype: int64"
      ]
     },
     "execution_count": 22,
     "metadata": {},
     "output_type": "execute_result"
    }
   ],
   "source": [
    "df['campaign_cat'].value_counts()"
   ]
  },
  {
   "cell_type": "markdown",
   "metadata": {},
   "source": [
    "### Features yang di drop / tidak digunakan"
   ]
  },
  {
   "cell_type": "markdown",
   "metadata": {},
   "source": [
    "`duration` : Info Duration didapatkan setelah campaign, sehingga tidak bisa digunakan untuk model\n",
    "`default` : Data Default memiliki proporsi yes dan no yang terlalu jamping, sehingga tidak digunakan (sudah dilakukan percobaan pada model dengan atau tanpa feature default, tidak memiliki perbedaan pada performance model\n",
    "`previous` : Info yang diberikan berkorelasi tinggi dengan campaign (informasi yang diberikan mirip)"
   ]
  },
  {
   "cell_type": "markdown",
   "metadata": {},
   "source": [
    "campaign: number of contacts performed during this campaign and for this client (numeric, includes last contact)\n",
    "previous: number of contacts performed before this campaign and for this client (numeric)"
   ]
  },
  {
   "cell_type": "markdown",
   "metadata": {},
   "source": [
    "### Data Invalid"
   ]
  },
  {
   "cell_type": "markdown",
   "metadata": {},
   "source": [
    "JIka dicek terdapat data invalid pada pdays dan campaign"
   ]
  },
  {
   "cell_type": "code",
   "execution_count": 23,
   "metadata": {},
   "outputs": [
    {
     "data": {
      "text/html": [
       "<div>\n",
       "<style scoped>\n",
       "    .dataframe tbody tr th:only-of-type {\n",
       "        vertical-align: middle;\n",
       "    }\n",
       "\n",
       "    .dataframe tbody tr th {\n",
       "        vertical-align: top;\n",
       "    }\n",
       "\n",
       "    .dataframe thead th {\n",
       "        text-align: right;\n",
       "    }\n",
       "</style>\n",
       "<table border=\"1\" class=\"dataframe\">\n",
       "  <thead>\n",
       "    <tr style=\"text-align: right;\">\n",
       "      <th>campaign_cat</th>\n",
       "      <th>jarang</th>\n",
       "      <th>sangat_sering</th>\n",
       "      <th>sekali</th>\n",
       "      <th>sering</th>\n",
       "    </tr>\n",
       "    <tr>\n",
       "      <th>pdays</th>\n",
       "      <th></th>\n",
       "      <th></th>\n",
       "      <th></th>\n",
       "      <th></th>\n",
       "    </tr>\n",
       "  </thead>\n",
       "  <tbody>\n",
       "    <tr>\n",
       "      <th>-1</th>\n",
       "      <td>14554</td>\n",
       "      <td>1118</td>\n",
       "      <td>13035</td>\n",
       "      <td>4536</td>\n",
       "    </tr>\n",
       "    <tr>\n",
       "      <th>1</th>\n",
       "      <td>1</td>\n",
       "      <td>0</td>\n",
       "      <td>2</td>\n",
       "      <td>0</td>\n",
       "    </tr>\n",
       "    <tr>\n",
       "      <th>2</th>\n",
       "      <td>16</td>\n",
       "      <td>0</td>\n",
       "      <td>19</td>\n",
       "      <td>0</td>\n",
       "    </tr>\n",
       "    <tr>\n",
       "      <th>4</th>\n",
       "      <td>0</td>\n",
       "      <td>0</td>\n",
       "      <td>1</td>\n",
       "      <td>0</td>\n",
       "    </tr>\n",
       "    <tr>\n",
       "      <th>5</th>\n",
       "      <td>8</td>\n",
       "      <td>0</td>\n",
       "      <td>3</td>\n",
       "      <td>0</td>\n",
       "    </tr>\n",
       "    <tr>\n",
       "      <th>...</th>\n",
       "      <td>...</td>\n",
       "      <td>...</td>\n",
       "      <td>...</td>\n",
       "      <td>...</td>\n",
       "    </tr>\n",
       "    <tr>\n",
       "      <th>495</th>\n",
       "      <td>0</td>\n",
       "      <td>0</td>\n",
       "      <td>1</td>\n",
       "      <td>0</td>\n",
       "    </tr>\n",
       "    <tr>\n",
       "      <th>515</th>\n",
       "      <td>0</td>\n",
       "      <td>0</td>\n",
       "      <td>1</td>\n",
       "      <td>0</td>\n",
       "    </tr>\n",
       "    <tr>\n",
       "      <th>518</th>\n",
       "      <td>0</td>\n",
       "      <td>0</td>\n",
       "      <td>1</td>\n",
       "      <td>0</td>\n",
       "    </tr>\n",
       "    <tr>\n",
       "      <th>520</th>\n",
       "      <td>0</td>\n",
       "      <td>0</td>\n",
       "      <td>1</td>\n",
       "      <td>0</td>\n",
       "    </tr>\n",
       "    <tr>\n",
       "      <th>536</th>\n",
       "      <td>0</td>\n",
       "      <td>0</td>\n",
       "      <td>0</td>\n",
       "      <td>1</td>\n",
       "    </tr>\n",
       "  </tbody>\n",
       "</table>\n",
       "<p>417 rows × 4 columns</p>\n",
       "</div>"
      ],
      "text/plain": [
       "campaign_cat  jarang  sangat_sering  sekali  sering\n",
       "pdays                                              \n",
       "-1             14554           1118   13035    4536\n",
       " 1                 1              0       2       0\n",
       " 2                16              0      19       0\n",
       " 4                 0              0       1       0\n",
       " 5                 8              0       3       0\n",
       "...              ...            ...     ...     ...\n",
       " 495               0              0       1       0\n",
       " 515               0              0       1       0\n",
       " 518               0              0       1       0\n",
       " 520               0              0       1       0\n",
       " 536               0              0       0       1\n",
       "\n",
       "[417 rows x 4 columns]"
      ]
     },
     "execution_count": 23,
     "metadata": {},
     "output_type": "execute_result"
    }
   ],
   "source": [
    "pd.crosstab(df['pdays'], df.campaign_cat)"
   ]
  },
  {
   "cell_type": "raw",
   "metadata": {},
   "source": [
    "Dimana seharusnya untuk pdays yang -1 adalah customer yang belum pernah dicampaign sebelumnya, sehingga expected value pada campaign adalah 'sekali', namun terdapat beberapa data pday=1 dengan campaign yang lebih dari sekali (informasi kontradiktif). Sehingga dilakukan cleansing data dengan:\n",
    "1. Pada Pdays, jika campaign = sekali dan pdays_new !=  (0), maka value pdays_new akan diubah menjadi -1\n",
    "2. Setelah itu pada Campaign, jika pdays = 0 dan campaign_cat != sekali, maka value Campaign_cat akan diubah menjadi sekali"
   ]
  },
  {
   "cell_type": "markdown",
   "metadata": {},
   "source": [
    "Revisi pdays_new"
   ]
  },
  {
   "cell_type": "code",
   "execution_count": 24,
   "metadata": {},
   "outputs": [],
   "source": [
    "def pdays(x):\n",
    "    if x['campaign'] ==1 and x['pdyas_new'] >0:\n",
    "        result = 1\n",
    "    else:\n",
    "        result = x['pdyas_new']\n",
    "    return result\n",
    "\n",
    "df['pdays_rev'] = df.apply(lambda x : pdays(x), axis =1)"
   ]
  },
  {
   "cell_type": "code",
   "execution_count": 25,
   "metadata": {},
   "outputs": [
    {
     "data": {
      "text/plain": [
       "0     33243\n",
       "1      3191\n",
       "11      556\n",
       "3       484\n",
       "5       374\n",
       "6       360\n",
       "12      326\n",
       "8       303\n",
       "10      236\n",
       "9       231\n",
       "4       189\n",
       "7       104\n",
       "2        21\n",
       "Name: pdays_rev, dtype: int64"
      ]
     },
     "execution_count": 25,
     "metadata": {},
     "output_type": "execute_result"
    }
   ],
   "source": [
    "df['pdays_rev'].value_counts()"
   ]
  },
  {
   "cell_type": "markdown",
   "metadata": {},
   "source": [
    "Revisi campaign_cat"
   ]
  },
  {
   "cell_type": "code",
   "execution_count": 26,
   "metadata": {},
   "outputs": [],
   "source": [
    "def campaign_rev(x):\n",
    "    if x['pdays_rev'] ==0 and x['campaign_cat'] != 'sekali':\n",
    "        result = 'sekali'\n",
    "    else:\n",
    "        result = x['campaign_cat']\n",
    "    return result\n",
    "\n",
    "df['campaign_rev'] = df.apply(lambda x : campaign_rev(x), axis =1)"
   ]
  },
  {
   "cell_type": "code",
   "execution_count": 27,
   "metadata": {},
   "outputs": [
    {
     "data": {
      "text/plain": [
       "sekali           36351\n",
       "jarang            2569\n",
       "sering             562\n",
       "sangat_sering      136\n",
       "Name: campaign_rev, dtype: int64"
      ]
     },
     "execution_count": 27,
     "metadata": {},
     "output_type": "execute_result"
    }
   ],
   "source": [
    "df['campaign_rev'].value_counts()"
   ]
  },
  {
   "cell_type": "code",
   "execution_count": 28,
   "metadata": {},
   "outputs": [
    {
     "data": {
      "text/html": [
       "<div>\n",
       "<style scoped>\n",
       "    .dataframe tbody tr th:only-of-type {\n",
       "        vertical-align: middle;\n",
       "    }\n",
       "\n",
       "    .dataframe tbody tr th {\n",
       "        vertical-align: top;\n",
       "    }\n",
       "\n",
       "    .dataframe thead th {\n",
       "        text-align: right;\n",
       "    }\n",
       "</style>\n",
       "<table border=\"1\" class=\"dataframe\">\n",
       "  <thead>\n",
       "    <tr style=\"text-align: right;\">\n",
       "      <th>campaign_rev</th>\n",
       "      <th>jarang</th>\n",
       "      <th>sangat_sering</th>\n",
       "      <th>sekali</th>\n",
       "      <th>sering</th>\n",
       "    </tr>\n",
       "    <tr>\n",
       "      <th>pdays_rev</th>\n",
       "      <th></th>\n",
       "      <th></th>\n",
       "      <th></th>\n",
       "      <th></th>\n",
       "    </tr>\n",
       "  </thead>\n",
       "  <tbody>\n",
       "    <tr>\n",
       "      <th>0</th>\n",
       "      <td>0</td>\n",
       "      <td>0</td>\n",
       "      <td>33243</td>\n",
       "      <td>0</td>\n",
       "    </tr>\n",
       "    <tr>\n",
       "      <th>1</th>\n",
       "      <td>65</td>\n",
       "      <td>3</td>\n",
       "      <td>3108</td>\n",
       "      <td>15</td>\n",
       "    </tr>\n",
       "    <tr>\n",
       "      <th>2</th>\n",
       "      <td>17</td>\n",
       "      <td>1</td>\n",
       "      <td>0</td>\n",
       "      <td>3</td>\n",
       "    </tr>\n",
       "    <tr>\n",
       "      <th>3</th>\n",
       "      <td>403</td>\n",
       "      <td>16</td>\n",
       "      <td>0</td>\n",
       "      <td>65</td>\n",
       "    </tr>\n",
       "    <tr>\n",
       "      <th>4</th>\n",
       "      <td>160</td>\n",
       "      <td>3</td>\n",
       "      <td>0</td>\n",
       "      <td>26</td>\n",
       "    </tr>\n",
       "    <tr>\n",
       "      <th>5</th>\n",
       "      <td>275</td>\n",
       "      <td>26</td>\n",
       "      <td>0</td>\n",
       "      <td>73</td>\n",
       "    </tr>\n",
       "    <tr>\n",
       "      <th>6</th>\n",
       "      <td>284</td>\n",
       "      <td>15</td>\n",
       "      <td>0</td>\n",
       "      <td>61</td>\n",
       "    </tr>\n",
       "    <tr>\n",
       "      <th>7</th>\n",
       "      <td>87</td>\n",
       "      <td>4</td>\n",
       "      <td>0</td>\n",
       "      <td>13</td>\n",
       "    </tr>\n",
       "    <tr>\n",
       "      <th>8</th>\n",
       "      <td>241</td>\n",
       "      <td>13</td>\n",
       "      <td>0</td>\n",
       "      <td>49</td>\n",
       "    </tr>\n",
       "    <tr>\n",
       "      <th>9</th>\n",
       "      <td>183</td>\n",
       "      <td>7</td>\n",
       "      <td>0</td>\n",
       "      <td>41</td>\n",
       "    </tr>\n",
       "    <tr>\n",
       "      <th>10</th>\n",
       "      <td>185</td>\n",
       "      <td>10</td>\n",
       "      <td>0</td>\n",
       "      <td>41</td>\n",
       "    </tr>\n",
       "    <tr>\n",
       "      <th>11</th>\n",
       "      <td>427</td>\n",
       "      <td>21</td>\n",
       "      <td>0</td>\n",
       "      <td>108</td>\n",
       "    </tr>\n",
       "    <tr>\n",
       "      <th>12</th>\n",
       "      <td>242</td>\n",
       "      <td>17</td>\n",
       "      <td>0</td>\n",
       "      <td>67</td>\n",
       "    </tr>\n",
       "  </tbody>\n",
       "</table>\n",
       "</div>"
      ],
      "text/plain": [
       "campaign_rev  jarang  sangat_sering  sekali  sering\n",
       "pdays_rev                                          \n",
       "0                  0              0   33243       0\n",
       "1                 65              3    3108      15\n",
       "2                 17              1       0       3\n",
       "3                403             16       0      65\n",
       "4                160              3       0      26\n",
       "5                275             26       0      73\n",
       "6                284             15       0      61\n",
       "7                 87              4       0      13\n",
       "8                241             13       0      49\n",
       "9                183              7       0      41\n",
       "10               185             10       0      41\n",
       "11               427             21       0     108\n",
       "12               242             17       0      67"
      ]
     },
     "execution_count": 28,
     "metadata": {},
     "output_type": "execute_result"
    }
   ],
   "source": [
    "pd.crosstab(df['pdays_rev'], df.campaign_rev)"
   ]
  },
  {
   "cell_type": "markdown",
   "metadata": {},
   "source": [
    "Masih terdapat data invalid dimana pdays_rev 1 namun campaignnya pada category sekali. Yang seharusnya pada kategori jarang (>1). Sehingga dilakukan penyesuaian data"
   ]
  },
  {
   "cell_type": "code",
   "execution_count": 29,
   "metadata": {},
   "outputs": [],
   "source": [
    "def campaign_rev(x):\n",
    "    if x['pdays_rev'] ==1 and x['campaign_cat'] == 'sekali':\n",
    "        result = 'jarang'\n",
    "    else:\n",
    "        result = x['campaign_rev']\n",
    "    return result\n",
    "\n",
    "df['campaign_rev'] = df.apply(lambda x : campaign_rev(x), axis =1)"
   ]
  },
  {
   "cell_type": "code",
   "execution_count": 30,
   "metadata": {},
   "outputs": [
    {
     "data": {
      "text/html": [
       "<div>\n",
       "<style scoped>\n",
       "    .dataframe tbody tr th:only-of-type {\n",
       "        vertical-align: middle;\n",
       "    }\n",
       "\n",
       "    .dataframe tbody tr th {\n",
       "        vertical-align: top;\n",
       "    }\n",
       "\n",
       "    .dataframe thead th {\n",
       "        text-align: right;\n",
       "    }\n",
       "</style>\n",
       "<table border=\"1\" class=\"dataframe\">\n",
       "  <thead>\n",
       "    <tr style=\"text-align: right;\">\n",
       "      <th>campaign_rev</th>\n",
       "      <th>jarang</th>\n",
       "      <th>sangat_sering</th>\n",
       "      <th>sekali</th>\n",
       "      <th>sering</th>\n",
       "    </tr>\n",
       "    <tr>\n",
       "      <th>pdays_rev</th>\n",
       "      <th></th>\n",
       "      <th></th>\n",
       "      <th></th>\n",
       "      <th></th>\n",
       "    </tr>\n",
       "  </thead>\n",
       "  <tbody>\n",
       "    <tr>\n",
       "      <th>0</th>\n",
       "      <td>0</td>\n",
       "      <td>0</td>\n",
       "      <td>33243</td>\n",
       "      <td>0</td>\n",
       "    </tr>\n",
       "    <tr>\n",
       "      <th>1</th>\n",
       "      <td>3173</td>\n",
       "      <td>3</td>\n",
       "      <td>0</td>\n",
       "      <td>15</td>\n",
       "    </tr>\n",
       "    <tr>\n",
       "      <th>2</th>\n",
       "      <td>17</td>\n",
       "      <td>1</td>\n",
       "      <td>0</td>\n",
       "      <td>3</td>\n",
       "    </tr>\n",
       "    <tr>\n",
       "      <th>3</th>\n",
       "      <td>403</td>\n",
       "      <td>16</td>\n",
       "      <td>0</td>\n",
       "      <td>65</td>\n",
       "    </tr>\n",
       "    <tr>\n",
       "      <th>4</th>\n",
       "      <td>160</td>\n",
       "      <td>3</td>\n",
       "      <td>0</td>\n",
       "      <td>26</td>\n",
       "    </tr>\n",
       "    <tr>\n",
       "      <th>5</th>\n",
       "      <td>275</td>\n",
       "      <td>26</td>\n",
       "      <td>0</td>\n",
       "      <td>73</td>\n",
       "    </tr>\n",
       "    <tr>\n",
       "      <th>6</th>\n",
       "      <td>284</td>\n",
       "      <td>15</td>\n",
       "      <td>0</td>\n",
       "      <td>61</td>\n",
       "    </tr>\n",
       "    <tr>\n",
       "      <th>7</th>\n",
       "      <td>87</td>\n",
       "      <td>4</td>\n",
       "      <td>0</td>\n",
       "      <td>13</td>\n",
       "    </tr>\n",
       "    <tr>\n",
       "      <th>8</th>\n",
       "      <td>241</td>\n",
       "      <td>13</td>\n",
       "      <td>0</td>\n",
       "      <td>49</td>\n",
       "    </tr>\n",
       "    <tr>\n",
       "      <th>9</th>\n",
       "      <td>183</td>\n",
       "      <td>7</td>\n",
       "      <td>0</td>\n",
       "      <td>41</td>\n",
       "    </tr>\n",
       "    <tr>\n",
       "      <th>10</th>\n",
       "      <td>185</td>\n",
       "      <td>10</td>\n",
       "      <td>0</td>\n",
       "      <td>41</td>\n",
       "    </tr>\n",
       "    <tr>\n",
       "      <th>11</th>\n",
       "      <td>427</td>\n",
       "      <td>21</td>\n",
       "      <td>0</td>\n",
       "      <td>108</td>\n",
       "    </tr>\n",
       "    <tr>\n",
       "      <th>12</th>\n",
       "      <td>242</td>\n",
       "      <td>17</td>\n",
       "      <td>0</td>\n",
       "      <td>67</td>\n",
       "    </tr>\n",
       "  </tbody>\n",
       "</table>\n",
       "</div>"
      ],
      "text/plain": [
       "campaign_rev  jarang  sangat_sering  sekali  sering\n",
       "pdays_rev                                          \n",
       "0                  0              0   33243       0\n",
       "1               3173              3       0      15\n",
       "2                 17              1       0       3\n",
       "3                403             16       0      65\n",
       "4                160              3       0      26\n",
       "5                275             26       0      73\n",
       "6                284             15       0      61\n",
       "7                 87              4       0      13\n",
       "8                241             13       0      49\n",
       "9                183              7       0      41\n",
       "10               185             10       0      41\n",
       "11               427             21       0     108\n",
       "12               242             17       0      67"
      ]
     },
     "execution_count": 30,
     "metadata": {},
     "output_type": "execute_result"
    }
   ],
   "source": [
    "pd.crosstab(df['pdays_rev'], df.campaign_rev)"
   ]
  },
  {
   "cell_type": "markdown",
   "metadata": {},
   "source": [
    "# EDA & Insights"
   ]
  },
  {
   "cell_type": "code",
   "execution_count": 31,
   "metadata": {},
   "outputs": [],
   "source": [
    "df2 = df.copy()\n"
   ]
  },
  {
   "cell_type": "code",
   "execution_count": 32,
   "metadata": {},
   "outputs": [],
   "source": [
    "def td(x):\n",
    "    if x['term_deposit'] == 'yes':\n",
    "        data = 1\n",
    "    else:\n",
    "        data = 0\n",
    "    return data\n",
    "\n",
    "df2['term_deposit_num'] = df2.apply(lambda x: td(x), axis =1)"
   ]
  },
  {
   "cell_type": "code",
   "execution_count": 33,
   "metadata": {},
   "outputs": [
    {
     "data": {
      "text/plain": [
       "<AxesSubplot:>"
      ]
     },
     "execution_count": 33,
     "metadata": {},
     "output_type": "execute_result"
    },
    {
     "data": {
      "image/png": "[encoded data removed]",
      "text/plain": [
       "<Figure size 576x576 with 2 Axes>"
      ]
     },
     "metadata": {
      "needs_background": "light"
     },
     "output_type": "display_data"
    }
   ],
   "source": [
    "plt.figure(figsize=(8, 8))\n",
    "sns.heatmap(df2.corr(), cmap='Blues', annot=True, fmt='.2f')"
   ]
  },
  {
   "cell_type": "markdown",
   "metadata": {},
   "source": [
    "Jika dilihat dari heatmap, feature dengan korelasi paling tinggi adalah balance_cat 0.8. Duration dibaikan karena tidak digunakan untuk pemodelan."
   ]
  },
  {
   "cell_type": "markdown",
   "metadata": {},
   "source": [
    "## Age"
   ]
  },
  {
   "cell_type": "code",
   "execution_count": 34,
   "metadata": {
    "scrolled": true
   },
   "outputs": [
    {
     "data": {
      "text/plain": [
       "Adult_2: 30-34     8605\n",
       "Adult_3: 35-39     7368\n",
       "Adult_4: 40-44     5573\n",
       "Adult_5: 45-49     4855\n",
       "Adult_6: 50-54     3988\n",
       "Adult_1: 25-29     3860\n",
       "Adult_7: 55 -59    3515\n",
       "Adult_8: 60 -64     724\n",
       "Youth: <=24         646\n",
       "Senior: >=65        484\n",
       "Name: age_cat, dtype: int64"
      ]
     },
     "execution_count": 34,
     "metadata": {},
     "output_type": "execute_result"
    }
   ],
   "source": [
    "df['age_cat'].value_counts()"
   ]
  },
  {
   "cell_type": "code",
   "execution_count": 35,
   "metadata": {},
   "outputs": [
    {
     "data": {
      "image/png": "[encoded data removed]",
      "text/plain": [
       "<Figure size 1440x576 with 1 Axes>"
      ]
     },
     "metadata": {
      "needs_background": "light"
     },
     "output_type": "display_data"
    },
    {
     "data": {
      "image/png": "[encoded data removed]",
      "text/plain": [
       "<Figure size 1440x576 with 1 Axes>"
      ]
     },
     "metadata": {
      "needs_background": "light"
     },
     "output_type": "display_data"
    },
    {
     "data": {
      "text/plain": [
       "<Figure size 1440x576 with 0 Axes>"
      ]
     },
     "metadata": {},
     "output_type": "display_data"
    },
    {
     "data": {
      "image/png": "[encoded data removed]",
      "text/plain": [
       "<Figure size 720x720 with 1 Axes>"
      ]
     },
     "metadata": {
      "needs_background": "light"
     },
     "output_type": "display_data"
    }
   ],
   "source": [
    "### Distribusi value pada feature Age\n",
    "plt.figure(figsize=(20,8))\n",
    "sns.countplot(x= df['age_cat'], data=df)\n",
    "plt.xlabel('Age',fontsize = 12)\n",
    "plt.ylabel('Customers',fontsize = 12)\n",
    "plt.title(\"Age Distribution\")\n",
    "\n",
    "### Age x Term Deposit (Count)\n",
    "plt.figure(figsize=(20,8))\n",
    "sns.countplot(x= df['age_cat'], data=df, hue='term_deposit')\n",
    "plt.xlabel('Age',fontsize = 12)\n",
    "plt.ylabel('Customers',fontsize = 12)\n",
    "plt.title(\"Age x Term Deposit\")\n",
    "\n",
    "### Age Convesation Rate (%)\n",
    "plt.figure(figsize=(20,8))\n",
    "\n",
    "pal = [\"royalblue\", \"dodgerblue\"]\n",
    "ax= pd.crosstab(df['age_cat'], df['term_deposit']).apply(lambda r: r/r.sum()*100, axis=1)\n",
    "ax_1 = ax.plot.bar(figsize=(10,10),stacked=True, rot=0)\n",
    "\n",
    "plt.legend(loc='upper center', bbox_to_anchor=(0.1, 1.0), title=\"term_deposit\")\n",
    "\n",
    "plt.xlabel('Age',fontsize = 12)\n",
    "plt.ylabel('Percent Distribution',fontsize = 12)\n",
    "plt.title(\"Age Convesation Rate\")\n",
    "locs, labels = plt.xticks() #rotate label x axis\n",
    "plt.setp(labels, rotation=90)\n",
    "\n",
    "for rec in ax_1.patches:\n",
    "    height = rec.get_height()\n",
    "    ax_1.text(rec.get_x() + rec.get_width() / 2, \n",
    "              rec.get_y() + height / 2,\n",
    "              \"{:.0f}%\".format(height),\n",
    "              ha='center', \n",
    "              va='bottom',\n",
    "             fontsize = 12)\n",
    "plt.show()"
   ]
  },
  {
   "cell_type": "markdown",
   "metadata": {},
   "source": [
    "### Conclucion"
   ]
  },
  {
   "cell_type": "code",
   "execution_count": 36,
   "metadata": {},
   "outputs": [
    {
     "data": {
      "text/html": [
       "<div>\n",
       "<style scoped>\n",
       "    .dataframe tbody tr th:only-of-type {\n",
       "        vertical-align: middle;\n",
       "    }\n",
       "\n",
       "    .dataframe tbody tr th {\n",
       "        vertical-align: top;\n",
       "    }\n",
       "\n",
       "    .dataframe thead th {\n",
       "        text-align: right;\n",
       "    }\n",
       "</style>\n",
       "<table border=\"1\" class=\"dataframe\">\n",
       "  <thead>\n",
       "    <tr style=\"text-align: right;\">\n",
       "      <th>term_deposit</th>\n",
       "      <th>no</th>\n",
       "      <th>yes</th>\n",
       "      <th>total_data</th>\n",
       "      <th>conversation_rate</th>\n",
       "      <th>%conversation</th>\n",
       "    </tr>\n",
       "    <tr>\n",
       "      <th>age_cat</th>\n",
       "      <th></th>\n",
       "      <th></th>\n",
       "      <th></th>\n",
       "      <th></th>\n",
       "      <th></th>\n",
       "    </tr>\n",
       "  </thead>\n",
       "  <tbody>\n",
       "    <tr>\n",
       "      <th>Adult_2: 30-34</th>\n",
       "      <td>7809</td>\n",
       "      <td>796</td>\n",
       "      <td>8605</td>\n",
       "      <td>0.092504</td>\n",
       "      <td>0.208595</td>\n",
       "    </tr>\n",
       "    <tr>\n",
       "      <th>Adult_3: 35-39</th>\n",
       "      <td>6748</td>\n",
       "      <td>620</td>\n",
       "      <td>7368</td>\n",
       "      <td>0.084148</td>\n",
       "      <td>0.162474</td>\n",
       "    </tr>\n",
       "    <tr>\n",
       "      <th>Adult_1: 25-29</th>\n",
       "      <td>3343</td>\n",
       "      <td>517</td>\n",
       "      <td>3860</td>\n",
       "      <td>0.133938</td>\n",
       "      <td>0.135482</td>\n",
       "    </tr>\n",
       "    <tr>\n",
       "      <th>Adult_4: 40-44</th>\n",
       "      <td>5132</td>\n",
       "      <td>441</td>\n",
       "      <td>5573</td>\n",
       "      <td>0.079132</td>\n",
       "      <td>0.115566</td>\n",
       "    </tr>\n",
       "    <tr>\n",
       "      <th>Adult_5: 45-49</th>\n",
       "      <td>4464</td>\n",
       "      <td>391</td>\n",
       "      <td>4855</td>\n",
       "      <td>0.080536</td>\n",
       "      <td>0.102463</td>\n",
       "    </tr>\n",
       "    <tr>\n",
       "      <th>Adult_6: 50-54</th>\n",
       "      <td>3682</td>\n",
       "      <td>306</td>\n",
       "      <td>3988</td>\n",
       "      <td>0.076730</td>\n",
       "      <td>0.080189</td>\n",
       "    </tr>\n",
       "    <tr>\n",
       "      <th>Adult_7: 55 -59</th>\n",
       "      <td>3218</td>\n",
       "      <td>297</td>\n",
       "      <td>3515</td>\n",
       "      <td>0.084495</td>\n",
       "      <td>0.077830</td>\n",
       "    </tr>\n",
       "    <tr>\n",
       "      <th>Senior: &gt;=65</th>\n",
       "      <td>296</td>\n",
       "      <td>188</td>\n",
       "      <td>484</td>\n",
       "      <td>0.388430</td>\n",
       "      <td>0.049266</td>\n",
       "    </tr>\n",
       "    <tr>\n",
       "      <th>Adult_8: 60 -64</th>\n",
       "      <td>585</td>\n",
       "      <td>139</td>\n",
       "      <td>724</td>\n",
       "      <td>0.191989</td>\n",
       "      <td>0.036426</td>\n",
       "    </tr>\n",
       "    <tr>\n",
       "      <th>Youth: &lt;=24</th>\n",
       "      <td>525</td>\n",
       "      <td>121</td>\n",
       "      <td>646</td>\n",
       "      <td>0.187307</td>\n",
       "      <td>0.031709</td>\n",
       "    </tr>\n",
       "  </tbody>\n",
       "</table>\n",
       "</div>"
      ],
      "text/plain": [
       "term_deposit       no  yes  total_data  conversation_rate  %conversation\n",
       "age_cat                                                                 \n",
       "Adult_2: 30-34   7809  796        8605           0.092504       0.208595\n",
       "Adult_3: 35-39   6748  620        7368           0.084148       0.162474\n",
       "Adult_1: 25-29   3343  517        3860           0.133938       0.135482\n",
       "Adult_4: 40-44   5132  441        5573           0.079132       0.115566\n",
       "Adult_5: 45-49   4464  391        4855           0.080536       0.102463\n",
       "Adult_6: 50-54   3682  306        3988           0.076730       0.080189\n",
       "Adult_7: 55 -59  3218  297        3515           0.084495       0.077830\n",
       "Senior: >=65      296  188         484           0.388430       0.049266\n",
       "Adult_8: 60 -64   585  139         724           0.191989       0.036426\n",
       "Youth: <=24       525  121         646           0.187307       0.031709"
      ]
     },
     "execution_count": 36,
     "metadata": {},
     "output_type": "execute_result"
    }
   ],
   "source": [
    "age_cat = pd.crosstab(df['age_cat'], df.term_deposit)\n",
    "age_cat ['total_data'] = (age_cat['no'] + age_cat['yes'])\n",
    "age_cat ['conversation_rate'] = age_cat['yes']/(age_cat['no'] + age_cat['yes'])\n",
    "age_cat ['%conversation'] = age_cat['yes']/sum(age_cat['yes'])\n",
    "age_cat.sort_values(['%conversation'], ascending = False)"
   ]
  },
  {
   "cell_type": "markdown",
   "metadata": {},
   "source": [
    "## Balance"
   ]
  },
  {
   "cell_type": "code",
   "execution_count": 37,
   "metadata": {},
   "outputs": [
    {
     "data": {
      "text/plain": [
       "1    7972\n",
       "3    7928\n",
       "5    7922\n",
       "4    7921\n",
       "2    7875\n",
       "Name: balance_cat, dtype: int64"
      ]
     },
     "execution_count": 37,
     "metadata": {},
     "output_type": "execute_result"
    }
   ],
   "source": [
    "df['balance_cat'].value_counts()"
   ]
  },
  {
   "cell_type": "code",
   "execution_count": 38,
   "metadata": {},
   "outputs": [
    {
     "data": {
      "image/png": "[encoded data removed]",
      "text/plain": [
       "<Figure size 1440x576 with 1 Axes>"
      ]
     },
     "metadata": {
      "needs_background": "light"
     },
     "output_type": "display_data"
    },
    {
     "data": {
      "image/png": "[encoded data removed]",
      "text/plain": [
       "<Figure size 1440x576 with 1 Axes>"
      ]
     },
     "metadata": {
      "needs_background": "light"
     },
     "output_type": "display_data"
    },
    {
     "data": {
      "text/plain": [
       "<Figure size 1440x576 with 0 Axes>"
      ]
     },
     "metadata": {},
     "output_type": "display_data"
    },
    {
     "data": {
      "image/png": "[encoded data removed]",
      "text/plain": [
       "<Figure size 720x720 with 1 Axes>"
      ]
     },
     "metadata": {
      "needs_background": "light"
     },
     "output_type": "display_data"
    }
   ],
   "source": [
    "### Distribusi value pada feature Balance\n",
    "plt.figure(figsize=(20,8))\n",
    "sns.countplot(x= df['balance_cat'], data=df)\n",
    "plt.xlabel('Balance',fontsize = 12)\n",
    "plt.ylabel('Customers',fontsize = 12)\n",
    "plt.title(\"Balance Distribution\")\n",
    "\n",
    "### Balance x Term Deposit (Count)\n",
    "plt.figure(figsize=(20,8))\n",
    "sns.countplot(x= df['balance_cat'], data=df, hue='term_deposit')\n",
    "plt.xlabel('Balance',fontsize = 12)\n",
    "plt.ylabel('Customers',fontsize = 12)\n",
    "plt.title(\"Balance x Term Deposit\")\n",
    "\n",
    "### Balance Conversation Rate (%)\n",
    "plt.figure(figsize=(20,8))\n",
    "\n",
    "pal = [\"royalblue\", \"dodgerblue\"]\n",
    "ax= pd.crosstab(df['balance_cat'], df['term_deposit']).apply(lambda r: r/r.sum()*100, axis=1)\n",
    "ax_1 = ax.plot.bar(figsize=(10,10),stacked=True, rot=0)\n",
    "\n",
    "plt.legend(loc='upper center', bbox_to_anchor=(0.1, 1.0), title=\"term_deposit\")\n",
    "\n",
    "plt.xlabel('Balance',fontsize = 12)\n",
    "plt.ylabel('Percent Distribution',fontsize = 12)\n",
    "plt.title(\"Balance Convesation Rate\")\n",
    "locs, labels = plt.xticks() #rotate label x axis\n",
    "plt.setp(labels, rotation=90)\n",
    "\n",
    "for rec in ax_1.patches:\n",
    "    height = rec.get_height()\n",
    "    ax_1.text(rec.get_x() + rec.get_width() / 2, \n",
    "              rec.get_y() + height / 2,\n",
    "              \"{:.0f}%\".format(height),\n",
    "              ha='center', \n",
    "              va='bottom',\n",
    "             fontsize = 12)\n",
    "plt.show()"
   ]
  },
  {
   "cell_type": "markdown",
   "metadata": {},
   "source": [
    "### Conclusion"
   ]
  },
  {
   "cell_type": "code",
   "execution_count": 39,
   "metadata": {},
   "outputs": [
    {
     "data": {
      "text/html": [
       "<div>\n",
       "<style scoped>\n",
       "    .dataframe tbody tr th:only-of-type {\n",
       "        vertical-align: middle;\n",
       "    }\n",
       "\n",
       "    .dataframe tbody tr th {\n",
       "        vertical-align: top;\n",
       "    }\n",
       "\n",
       "    .dataframe thead th {\n",
       "        text-align: right;\n",
       "    }\n",
       "</style>\n",
       "<table border=\"1\" class=\"dataframe\">\n",
       "  <thead>\n",
       "    <tr style=\"text-align: right;\">\n",
       "      <th>term_deposit</th>\n",
       "      <th>no</th>\n",
       "      <th>yes</th>\n",
       "      <th>total_data</th>\n",
       "      <th>convesation_rate</th>\n",
       "      <th>%convesation</th>\n",
       "    </tr>\n",
       "    <tr>\n",
       "      <th>balance_cat</th>\n",
       "      <th></th>\n",
       "      <th></th>\n",
       "      <th></th>\n",
       "      <th></th>\n",
       "      <th></th>\n",
       "    </tr>\n",
       "  </thead>\n",
       "  <tbody>\n",
       "    <tr>\n",
       "      <th>5</th>\n",
       "      <td>6860</td>\n",
       "      <td>1062</td>\n",
       "      <td>7922</td>\n",
       "      <td>0.134057</td>\n",
       "      <td>0.278302</td>\n",
       "    </tr>\n",
       "    <tr>\n",
       "      <th>4</th>\n",
       "      <td>7035</td>\n",
       "      <td>886</td>\n",
       "      <td>7921</td>\n",
       "      <td>0.111855</td>\n",
       "      <td>0.232180</td>\n",
       "    </tr>\n",
       "    <tr>\n",
       "      <th>3</th>\n",
       "      <td>7207</td>\n",
       "      <td>721</td>\n",
       "      <td>7928</td>\n",
       "      <td>0.090943</td>\n",
       "      <td>0.188941</td>\n",
       "    </tr>\n",
       "    <tr>\n",
       "      <th>2</th>\n",
       "      <td>7234</td>\n",
       "      <td>641</td>\n",
       "      <td>7875</td>\n",
       "      <td>0.081397</td>\n",
       "      <td>0.167977</td>\n",
       "    </tr>\n",
       "    <tr>\n",
       "      <th>1</th>\n",
       "      <td>7466</td>\n",
       "      <td>506</td>\n",
       "      <td>7972</td>\n",
       "      <td>0.063472</td>\n",
       "      <td>0.132600</td>\n",
       "    </tr>\n",
       "  </tbody>\n",
       "</table>\n",
       "</div>"
      ],
      "text/plain": [
       "term_deposit    no   yes  total_data  convesation_rate  %convesation\n",
       "balance_cat                                                         \n",
       "5             6860  1062        7922          0.134057      0.278302\n",
       "4             7035   886        7921          0.111855      0.232180\n",
       "3             7207   721        7928          0.090943      0.188941\n",
       "2             7234   641        7875          0.081397      0.167977\n",
       "1             7466   506        7972          0.063472      0.132600"
      ]
     },
     "execution_count": 39,
     "metadata": {},
     "output_type": "execute_result"
    }
   ],
   "source": [
    "balance_cat = pd.crosstab(df['balance_cat'], df.term_deposit)\n",
    "balance_cat ['total_data'] = (balance_cat['no'] + balance_cat['yes'])\n",
    "balance_cat ['convesation_rate'] = balance_cat['yes']/(balance_cat['no'] + balance_cat['yes'])\n",
    "balance_cat ['%convesation'] = balance_cat['yes']/sum(balance_cat['yes'])\n",
    "balance_cat.sort_values(['%convesation'], ascending = False)"
   ]
  },
  {
   "cell_type": "markdown",
   "metadata": {},
   "source": [
    "## Day"
   ]
  },
  {
   "cell_type": "markdown",
   "metadata": {},
   "source": [
    "### Distribusi value pada feature Day"
   ]
  },
  {
   "cell_type": "code",
   "execution_count": 40,
   "metadata": {},
   "outputs": [
    {
     "data": {
      "text/plain": [
       "3    12497\n",
       "2     9289\n",
       "4     8986\n",
       "1     8846\n",
       "Name: day_cat, dtype: int64"
      ]
     },
     "execution_count": 40,
     "metadata": {},
     "output_type": "execute_result"
    }
   ],
   "source": [
    "df['day_cat'].value_counts()"
   ]
  },
  {
   "cell_type": "code",
   "execution_count": 41,
   "metadata": {},
   "outputs": [
    {
     "data": {
      "image/png": "[encoded data removed]",
      "text/plain": [
       "<Figure size 1440x576 with 1 Axes>"
      ]
     },
     "metadata": {
      "needs_background": "light"
     },
     "output_type": "display_data"
    },
    {
     "data": {
      "image/png": "[encoded data removed]",
      "text/plain": [
       "<Figure size 1440x576 with 1 Axes>"
      ]
     },
     "metadata": {
      "needs_background": "light"
     },
     "output_type": "display_data"
    },
    {
     "data": {
      "text/plain": [
       "<Figure size 1440x576 with 0 Axes>"
      ]
     },
     "metadata": {},
     "output_type": "display_data"
    },
    {
     "data": {
      "image/png": "[encoded data removed]",
      "text/plain": [
       "<Figure size 720x720 with 1 Axes>"
      ]
     },
     "metadata": {
      "needs_background": "light"
     },
     "output_type": "display_data"
    }
   ],
   "source": [
    "### Distribusi value pada feature Day\n",
    "plt.figure(figsize=(20,8))\n",
    "sns.countplot(x= df['day_cat'], data=df)\n",
    "plt.xlabel('Week',fontsize = 12)\n",
    "plt.ylabel('Customers',fontsize = 12)\n",
    "plt.title(\"Week Distribution\")\n",
    "\n",
    "### Day x Term Deposit (Count)\n",
    "plt.figure(figsize=(20,8))\n",
    "sns.countplot(x= df['day_cat'], data=df, hue='term_deposit')\n",
    "plt.xlabel('Week',fontsize = 12)\n",
    "plt.ylabel('Customers',fontsize = 12)\n",
    "plt.title(\"Week x Term Deposit\")\n",
    "\n",
    "### Day Conversation Rate (%)\n",
    "plt.figure(figsize=(20,8))\n",
    "\n",
    "pal = [\"royalblue\", \"dodgerblue\"]\n",
    "ax= pd.crosstab(df['day_cat'], df['term_deposit']).apply(lambda r: r/r.sum()*100, axis=1)\n",
    "ax_1 = ax.plot.bar(figsize=(10,10),stacked=True, rot=0)\n",
    "\n",
    "plt.legend(loc='upper center', bbox_to_anchor=(0.1, 1.0), title=\"term_deposit\")\n",
    "\n",
    "plt.xlabel('Week',fontsize = 12)\n",
    "plt.ylabel('Percent Distribution',fontsize = 12)\n",
    "plt.title(\"Week Convesation Rate\")\n",
    "locs, labels = plt.xticks() #rotate label x axis\n",
    "plt.setp(labels, rotation=90)\n",
    "\n",
    "for rec in ax_1.patches:\n",
    "    height = rec.get_height()\n",
    "    ax_1.text(rec.get_x() + rec.get_width() / 2, \n",
    "              rec.get_y() + height / 2,\n",
    "              \"{:.0f}%\".format(height),\n",
    "              ha='center', \n",
    "              va='bottom',\n",
    "             fontsize = 12)\n",
    "plt.show()"
   ]
  },
  {
   "cell_type": "markdown",
   "metadata": {},
   "source": [
    "### Conclusion"
   ]
  },
  {
   "cell_type": "code",
   "execution_count": 42,
   "metadata": {},
   "outputs": [
    {
     "data": {
      "text/html": [
       "<div>\n",
       "<style scoped>\n",
       "    .dataframe tbody tr th:only-of-type {\n",
       "        vertical-align: middle;\n",
       "    }\n",
       "\n",
       "    .dataframe tbody tr th {\n",
       "        vertical-align: top;\n",
       "    }\n",
       "\n",
       "    .dataframe thead th {\n",
       "        text-align: right;\n",
       "    }\n",
       "</style>\n",
       "<table border=\"1\" class=\"dataframe\">\n",
       "  <thead>\n",
       "    <tr style=\"text-align: right;\">\n",
       "      <th>term_deposit</th>\n",
       "      <th>no</th>\n",
       "      <th>yes</th>\n",
       "      <th>total_data</th>\n",
       "      <th>convesation_rate</th>\n",
       "      <th>%convesation</th>\n",
       "    </tr>\n",
       "    <tr>\n",
       "      <th>day_cat</th>\n",
       "      <th></th>\n",
       "      <th></th>\n",
       "      <th></th>\n",
       "      <th></th>\n",
       "      <th></th>\n",
       "    </tr>\n",
       "  </thead>\n",
       "  <tbody>\n",
       "    <tr>\n",
       "      <th>3</th>\n",
       "      <td>11449</td>\n",
       "      <td>1048</td>\n",
       "      <td>12497</td>\n",
       "      <td>0.083860</td>\n",
       "      <td>0.274633</td>\n",
       "    </tr>\n",
       "    <tr>\n",
       "      <th>2</th>\n",
       "      <td>8342</td>\n",
       "      <td>947</td>\n",
       "      <td>9289</td>\n",
       "      <td>0.101949</td>\n",
       "      <td>0.248166</td>\n",
       "    </tr>\n",
       "    <tr>\n",
       "      <th>1</th>\n",
       "      <td>7921</td>\n",
       "      <td>925</td>\n",
       "      <td>8846</td>\n",
       "      <td>0.104567</td>\n",
       "      <td>0.242400</td>\n",
       "    </tr>\n",
       "    <tr>\n",
       "      <th>4</th>\n",
       "      <td>8090</td>\n",
       "      <td>896</td>\n",
       "      <td>8986</td>\n",
       "      <td>0.099711</td>\n",
       "      <td>0.234801</td>\n",
       "    </tr>\n",
       "  </tbody>\n",
       "</table>\n",
       "</div>"
      ],
      "text/plain": [
       "term_deposit     no   yes  total_data  convesation_rate  %convesation\n",
       "day_cat                                                              \n",
       "3             11449  1048       12497          0.083860      0.274633\n",
       "2              8342   947        9289          0.101949      0.248166\n",
       "1              7921   925        8846          0.104567      0.242400\n",
       "4              8090   896        8986          0.099711      0.234801"
      ]
     },
     "execution_count": 42,
     "metadata": {},
     "output_type": "execute_result"
    }
   ],
   "source": [
    "day_cat = pd.crosstab(df['day_cat'], df.term_deposit)\n",
    "day_cat ['total_data'] = (day_cat['no'] + day_cat['yes'])\n",
    "day_cat ['convesation_rate'] = day_cat['yes']/(day_cat['no'] + day_cat['yes'])\n",
    "day_cat ['%convesation'] = day_cat['yes']/sum(day_cat['yes'])\n",
    "day_cat.sort_values(['%convesation'], ascending = False)"
   ]
  },
  {
   "cell_type": "markdown",
   "metadata": {},
   "source": [
    "## Campaign"
   ]
  },
  {
   "cell_type": "code",
   "execution_count": 43,
   "metadata": {},
   "outputs": [
    {
     "data": {
      "text/plain": [
       "sekali           33243\n",
       "jarang            5677\n",
       "sering             562\n",
       "sangat_sering      136\n",
       "Name: campaign_rev, dtype: int64"
      ]
     },
     "execution_count": 43,
     "metadata": {},
     "output_type": "execute_result"
    }
   ],
   "source": [
    "df['campaign_rev'].value_counts()"
   ]
  },
  {
   "cell_type": "code",
   "execution_count": 44,
   "metadata": {},
   "outputs": [
    {
     "data": {
      "image/png": "[encoded data removed]",
      "text/plain": [
       "<Figure size 1440x576 with 1 Axes>"
      ]
     },
     "metadata": {
      "needs_background": "light"
     },
     "output_type": "display_data"
    },
    {
     "data": {
      "image/png": "[encoded data removed]",
      "text/plain": [
       "<Figure size 1440x576 with 1 Axes>"
      ]
     },
     "metadata": {
      "needs_background": "light"
     },
     "output_type": "display_data"
    },
    {
     "data": {
      "text/plain": [
       "<Figure size 1440x576 with 0 Axes>"
      ]
     },
     "metadata": {},
     "output_type": "display_data"
    },
    {
     "data": {
      "image/png": "[encoded data removed]",
      "text/plain": [
       "<Figure size 720x720 with 1 Axes>"
      ]
     },
     "metadata": {
      "needs_background": "light"
     },
     "output_type": "display_data"
    }
   ],
   "source": [
    "### Distribusi value pada feature Campaign\n",
    "plt.figure(figsize=(20,8))\n",
    "sns.countplot(x= df['campaign_rev'], data=df)\n",
    "plt.xlabel('Campaign',fontsize = 12)\n",
    "plt.ylabel('Customers',fontsize = 12)\n",
    "plt.title(\"Campaign Distribution\")\n",
    "\n",
    "### Campaign x Term Deposit (Count)\n",
    "plt.figure(figsize=(20,8))\n",
    "sns.countplot(x= df['campaign_rev'], data=df, hue='term_deposit')\n",
    "plt.xlabel('Campaign',fontsize = 12)\n",
    "plt.ylabel('Customers',fontsize = 12)\n",
    "plt.title(\"Campaign x Term Deposit\")\n",
    "\n",
    "### Campaign Conversation Rate (%)\n",
    "plt.figure(figsize=(20,8))\n",
    "\n",
    "pal = [\"royalblue\", \"dodgerblue\"]\n",
    "ax= pd.crosstab(df['campaign_rev'], df['term_deposit']).apply(lambda r: r/r.sum()*100, axis=1)\n",
    "ax_1 = ax.plot.bar(figsize=(10,10),stacked=True, rot=0)\n",
    "\n",
    "plt.legend(loc='upper center', bbox_to_anchor=(0.1, 1.0), title=\"term_deposit\")\n",
    "\n",
    "plt.xlabel('Campaign',fontsize = 12)\n",
    "plt.ylabel('Percent Distribution',fontsize = 12)\n",
    "plt.title(\"Campaign Convesation Rate\")\n",
    "locs, labels = plt.xticks() #rotate label x axis\n",
    "plt.setp(labels, rotation=90)\n",
    "\n",
    "for rec in ax_1.patches:\n",
    "    height = rec.get_height()\n",
    "    ax_1.text(rec.get_x() + rec.get_width() / 2, \n",
    "              rec.get_y() + height / 2,\n",
    "              \"{:.0f}%\".format(height),\n",
    "              ha='center', \n",
    "              va='bottom',\n",
    "             fontsize = 12)\n",
    "plt.show()"
   ]
  },
  {
   "cell_type": "markdown",
   "metadata": {},
   "source": [
    "### Conclusion"
   ]
  },
  {
   "cell_type": "code",
   "execution_count": 45,
   "metadata": {},
   "outputs": [
    {
     "data": {
      "text/html": [
       "<div>\n",
       "<style scoped>\n",
       "    .dataframe tbody tr th:only-of-type {\n",
       "        vertical-align: middle;\n",
       "    }\n",
       "\n",
       "    .dataframe tbody tr th {\n",
       "        vertical-align: top;\n",
       "    }\n",
       "\n",
       "    .dataframe thead th {\n",
       "        text-align: right;\n",
       "    }\n",
       "</style>\n",
       "<table border=\"1\" class=\"dataframe\">\n",
       "  <thead>\n",
       "    <tr style=\"text-align: right;\">\n",
       "      <th>term_deposit</th>\n",
       "      <th>no</th>\n",
       "      <th>yes</th>\n",
       "      <th>total_data</th>\n",
       "      <th>convesation_rate</th>\n",
       "      <th>%conversation</th>\n",
       "    </tr>\n",
       "    <tr>\n",
       "      <th>campaign_rev</th>\n",
       "      <th></th>\n",
       "      <th></th>\n",
       "      <th></th>\n",
       "      <th></th>\n",
       "      <th></th>\n",
       "    </tr>\n",
       "  </thead>\n",
       "  <tbody>\n",
       "    <tr>\n",
       "      <th>sekali</th>\n",
       "      <td>30396</td>\n",
       "      <td>2847</td>\n",
       "      <td>33243</td>\n",
       "      <td>0.085642</td>\n",
       "      <td>0.746069</td>\n",
       "    </tr>\n",
       "    <tr>\n",
       "      <th>jarang</th>\n",
       "      <td>4767</td>\n",
       "      <td>910</td>\n",
       "      <td>5677</td>\n",
       "      <td>0.160296</td>\n",
       "      <td>0.238470</td>\n",
       "    </tr>\n",
       "    <tr>\n",
       "      <th>sering</th>\n",
       "      <td>511</td>\n",
       "      <td>51</td>\n",
       "      <td>562</td>\n",
       "      <td>0.090747</td>\n",
       "      <td>0.013365</td>\n",
       "    </tr>\n",
       "    <tr>\n",
       "      <th>sangat_sering</th>\n",
       "      <td>128</td>\n",
       "      <td>8</td>\n",
       "      <td>136</td>\n",
       "      <td>0.058824</td>\n",
       "      <td>0.002096</td>\n",
       "    </tr>\n",
       "  </tbody>\n",
       "</table>\n",
       "</div>"
      ],
      "text/plain": [
       "term_deposit      no   yes  total_data  convesation_rate  %conversation\n",
       "campaign_rev                                                           \n",
       "sekali         30396  2847       33243          0.085642       0.746069\n",
       "jarang          4767   910        5677          0.160296       0.238470\n",
       "sering           511    51         562          0.090747       0.013365\n",
       "sangat_sering    128     8         136          0.058824       0.002096"
      ]
     },
     "execution_count": 45,
     "metadata": {},
     "output_type": "execute_result"
    }
   ],
   "source": [
    "campaign_rev = pd.crosstab(df['campaign_rev'], df.term_deposit)\n",
    "campaign_rev ['total_data'] = (campaign_rev['no'] + campaign_rev['yes'])\n",
    "campaign_rev ['convesation_rate'] = campaign_rev['yes']/(campaign_rev['no'] + campaign_rev['yes'])\n",
    "campaign_rev ['%conversation'] = campaign_rev['yes']/sum(campaign_rev['yes'])\n",
    "campaign_rev.sort_values(['%conversation'], ascending = False)"
   ]
  },
  {
   "cell_type": "markdown",
   "metadata": {},
   "source": [
    "## Pdays"
   ]
  },
  {
   "cell_type": "code",
   "execution_count": 46,
   "metadata": {},
   "outputs": [
    {
     "data": {
      "text/plain": [
       "0     33243\n",
       "1      3191\n",
       "11      556\n",
       "3       484\n",
       "5       374\n",
       "6       360\n",
       "12      326\n",
       "8       303\n",
       "10      236\n",
       "9       231\n",
       "4       189\n",
       "7       104\n",
       "2        21\n",
       "Name: pdays_rev, dtype: int64"
      ]
     },
     "execution_count": 46,
     "metadata": {},
     "output_type": "execute_result"
    }
   ],
   "source": [
    "df['pdays_rev'].value_counts()"
   ]
  },
  {
   "cell_type": "code",
   "execution_count": 47,
   "metadata": {},
   "outputs": [
    {
     "data": {
      "image/png": "[encoded data removed]",
      "text/plain": [
       "<Figure size 1440x576 with 1 Axes>"
      ]
     },
     "metadata": {
      "needs_background": "light"
     },
     "output_type": "display_data"
    },
    {
     "data": {
      "image/png": "[encoded data removed]",
      "text/plain": [
       "<Figure size 1440x576 with 1 Axes>"
      ]
     },
     "metadata": {
      "needs_background": "light"
     },
     "output_type": "display_data"
    },
    {
     "data": {
      "text/plain": [
       "<Figure size 1440x576 with 0 Axes>"
      ]
     },
     "metadata": {},
     "output_type": "display_data"
    },
    {
     "data": {
      "image/png": "[encoded data removed]",
      "text/plain": [
       "<Figure size 720x720 with 1 Axes>"
      ]
     },
     "metadata": {
      "needs_background": "light"
     },
     "output_type": "display_data"
    }
   ],
   "source": [
    "### Distribusi value pada feature pdays\n",
    "plt.figure(figsize=(20,8))\n",
    "sns.countplot(x= df['pdays_rev'], data=df)\n",
    "plt.xlabel('Pdays',fontsize = 12)\n",
    "plt.ylabel('Customers',fontsize = 12)\n",
    "plt.title(\"Pdays Distribution\")\n",
    "\n",
    "### Pdays x Term Deposit (Count)\n",
    "plt.figure(figsize=(20,8))\n",
    "sns.countplot(x= df['pdays_rev'], data=df, hue='term_deposit')\n",
    "plt.xlabel('Balance',fontsize = 12)\n",
    "plt.ylabel('Customers',fontsize = 12)\n",
    "plt.title(\"Pdays x Term Deposit\")\n",
    "\n",
    "### Pdays Conversation Rate (%)\n",
    "plt.figure(figsize=(20,8))\n",
    "\n",
    "pal = [\"royalblue\", \"dodgerblue\"]\n",
    "ax= pd.crosstab(df['pdays_rev'], df['term_deposit']).apply(lambda r: r/r.sum()*100, axis=1)\n",
    "ax_1 = ax.plot.bar(figsize=(10,10),stacked=True, rot=0)\n",
    "\n",
    "plt.legend(loc='upper center', bbox_to_anchor=(0.1, 1.0), title=\"term_deposit\")\n",
    "\n",
    "plt.xlabel('Pdays',fontsize = 12)\n",
    "plt.ylabel('Percent Distribution',fontsize = 12)\n",
    "plt.title(\"Pdays Convesation Rate\")\n",
    "locs, labels = plt.xticks() #rotate label x axis\n",
    "plt.setp(labels, rotation=90)\n",
    "\n",
    "for rec in ax_1.patches:\n",
    "    height = rec.get_height()\n",
    "    ax_1.text(rec.get_x() + rec.get_width() / 2, \n",
    "              rec.get_y() + height / 2,\n",
    "              \"{:.0f}%\".format(height),\n",
    "              ha='center', \n",
    "              va='bottom',\n",
    "             fontsize = 12)\n",
    "plt.show()"
   ]
  },
  {
   "cell_type": "code",
   "execution_count": 48,
   "metadata": {},
   "outputs": [
    {
     "data": {
      "text/html": [
       "<div>\n",
       "<style scoped>\n",
       "    .dataframe tbody tr th:only-of-type {\n",
       "        vertical-align: middle;\n",
       "    }\n",
       "\n",
       "    .dataframe tbody tr th {\n",
       "        vertical-align: top;\n",
       "    }\n",
       "\n",
       "    .dataframe thead th {\n",
       "        text-align: right;\n",
       "    }\n",
       "</style>\n",
       "<table border=\"1\" class=\"dataframe\">\n",
       "  <thead>\n",
       "    <tr style=\"text-align: right;\">\n",
       "      <th>term_deposit</th>\n",
       "      <th>no</th>\n",
       "      <th>yes</th>\n",
       "      <th>total_data</th>\n",
       "      <th>convesation_rate</th>\n",
       "      <th>%conversation</th>\n",
       "    </tr>\n",
       "    <tr>\n",
       "      <th>pdays_rev</th>\n",
       "      <th></th>\n",
       "      <th></th>\n",
       "      <th></th>\n",
       "      <th></th>\n",
       "      <th></th>\n",
       "    </tr>\n",
       "  </thead>\n",
       "  <tbody>\n",
       "    <tr>\n",
       "      <th>0</th>\n",
       "      <td>30396</td>\n",
       "      <td>2847</td>\n",
       "      <td>33243</td>\n",
       "      <td>0.085642</td>\n",
       "      <td>0.746069</td>\n",
       "    </tr>\n",
       "    <tr>\n",
       "      <th>1</th>\n",
       "      <td>2667</td>\n",
       "      <td>524</td>\n",
       "      <td>3191</td>\n",
       "      <td>0.164212</td>\n",
       "      <td>0.137317</td>\n",
       "    </tr>\n",
       "    <tr>\n",
       "      <th>3</th>\n",
       "      <td>316</td>\n",
       "      <td>168</td>\n",
       "      <td>484</td>\n",
       "      <td>0.347107</td>\n",
       "      <td>0.044025</td>\n",
       "    </tr>\n",
       "    <tr>\n",
       "      <th>6</th>\n",
       "      <td>294</td>\n",
       "      <td>66</td>\n",
       "      <td>360</td>\n",
       "      <td>0.183333</td>\n",
       "      <td>0.017296</td>\n",
       "    </tr>\n",
       "    <tr>\n",
       "      <th>11</th>\n",
       "      <td>515</td>\n",
       "      <td>41</td>\n",
       "      <td>556</td>\n",
       "      <td>0.073741</td>\n",
       "      <td>0.010744</td>\n",
       "    </tr>\n",
       "    <tr>\n",
       "      <th>4</th>\n",
       "      <td>157</td>\n",
       "      <td>32</td>\n",
       "      <td>189</td>\n",
       "      <td>0.169312</td>\n",
       "      <td>0.008386</td>\n",
       "    </tr>\n",
       "    <tr>\n",
       "      <th>12</th>\n",
       "      <td>294</td>\n",
       "      <td>32</td>\n",
       "      <td>326</td>\n",
       "      <td>0.098160</td>\n",
       "      <td>0.008386</td>\n",
       "    </tr>\n",
       "    <tr>\n",
       "      <th>5</th>\n",
       "      <td>346</td>\n",
       "      <td>28</td>\n",
       "      <td>374</td>\n",
       "      <td>0.074866</td>\n",
       "      <td>0.007338</td>\n",
       "    </tr>\n",
       "    <tr>\n",
       "      <th>9</th>\n",
       "      <td>206</td>\n",
       "      <td>25</td>\n",
       "      <td>231</td>\n",
       "      <td>0.108225</td>\n",
       "      <td>0.006551</td>\n",
       "    </tr>\n",
       "    <tr>\n",
       "      <th>10</th>\n",
       "      <td>216</td>\n",
       "      <td>20</td>\n",
       "      <td>236</td>\n",
       "      <td>0.084746</td>\n",
       "      <td>0.005241</td>\n",
       "    </tr>\n",
       "    <tr>\n",
       "      <th>8</th>\n",
       "      <td>286</td>\n",
       "      <td>17</td>\n",
       "      <td>303</td>\n",
       "      <td>0.056106</td>\n",
       "      <td>0.004455</td>\n",
       "    </tr>\n",
       "    <tr>\n",
       "      <th>2</th>\n",
       "      <td>13</td>\n",
       "      <td>8</td>\n",
       "      <td>21</td>\n",
       "      <td>0.380952</td>\n",
       "      <td>0.002096</td>\n",
       "    </tr>\n",
       "    <tr>\n",
       "      <th>7</th>\n",
       "      <td>96</td>\n",
       "      <td>8</td>\n",
       "      <td>104</td>\n",
       "      <td>0.076923</td>\n",
       "      <td>0.002096</td>\n",
       "    </tr>\n",
       "  </tbody>\n",
       "</table>\n",
       "</div>"
      ],
      "text/plain": [
       "term_deposit     no   yes  total_data  convesation_rate  %conversation\n",
       "pdays_rev                                                             \n",
       "0             30396  2847       33243          0.085642       0.746069\n",
       "1              2667   524        3191          0.164212       0.137317\n",
       "3               316   168         484          0.347107       0.044025\n",
       "6               294    66         360          0.183333       0.017296\n",
       "11              515    41         556          0.073741       0.010744\n",
       "4               157    32         189          0.169312       0.008386\n",
       "12              294    32         326          0.098160       0.008386\n",
       "5               346    28         374          0.074866       0.007338\n",
       "9               206    25         231          0.108225       0.006551\n",
       "10              216    20         236          0.084746       0.005241\n",
       "8               286    17         303          0.056106       0.004455\n",
       "2                13     8          21          0.380952       0.002096\n",
       "7                96     8         104          0.076923       0.002096"
      ]
     },
     "execution_count": 48,
     "metadata": {},
     "output_type": "execute_result"
    }
   ],
   "source": [
    "pdays_rev = pd.crosstab(df['pdays_rev'], df.term_deposit)\n",
    "pdays_rev ['total_data'] = (pdays_rev['no'] + pdays_rev['yes'])\n",
    "pdays_rev ['convesation_rate'] = pdays_rev['yes']/(pdays_rev['no'] + pdays_rev['yes'])\n",
    "pdays_rev ['%conversation'] = pdays_rev['yes']/sum(pdays_rev['yes'])\n",
    "pdays_rev.sort_values(['%conversation'], ascending = False)"
   ]
  },
  {
   "cell_type": "markdown",
   "metadata": {},
   "source": [
    "## Job"
   ]
  },
  {
   "cell_type": "code",
   "execution_count": 49,
   "metadata": {},
   "outputs": [
    {
     "data": {
      "image/png": "[encoded data removed]",
      "text/plain": [
       "<Figure size 1440x576 with 1 Axes>"
      ]
     },
     "metadata": {
      "needs_background": "light"
     },
     "output_type": "display_data"
    },
    {
     "data": {
      "image/png": "[encoded data removed]",
      "text/plain": [
       "<Figure size 1440x576 with 1 Axes>"
      ]
     },
     "metadata": {
      "needs_background": "light"
     },
     "output_type": "display_data"
    },
    {
     "data": {
      "text/plain": [
       "<Figure size 1440x576 with 0 Axes>"
      ]
     },
     "metadata": {},
     "output_type": "display_data"
    },
    {
     "data": {
      "image/png": "[encoded data removed]",
      "text/plain": [
       "<Figure size 720x720 with 1 Axes>"
      ]
     },
     "metadata": {
      "needs_background": "light"
     },
     "output_type": "display_data"
    }
   ],
   "source": [
    "### Distribusi value pada feature Job\n",
    "plt.figure(figsize=(20,8))\n",
    "sns.countplot(x= df['job'], data=df)\n",
    "plt.xlabel('Job',fontsize = 12)\n",
    "plt.ylabel('Customers',fontsize = 12)\n",
    "plt.title(\"Job Distribution\")\n",
    "\n",
    "### Job x Term Deposit (Count)\n",
    "plt.figure(figsize=(20,8))\n",
    "sns.countplot(x= df['job'], data=df, hue='term_deposit')\n",
    "plt.xlabel('Job',fontsize = 12)\n",
    "plt.ylabel('Customers',fontsize = 12)\n",
    "plt.title(\"Job x Term Deposit\")\n",
    "\n",
    "### Job Conversation Rate (%)\n",
    "plt.figure(figsize=(20,8))\n",
    "\n",
    "pal = [\"royalblue\", \"dodgerblue\"]\n",
    "ax= pd.crosstab(df['job'], df['term_deposit']).apply(lambda r: r/r.sum()*100, axis=1)\n",
    "ax_1 = ax.plot.bar(figsize=(10,10),stacked=True, rot=0)\n",
    "\n",
    "plt.legend(loc='upper center', bbox_to_anchor=(0.1, 1.0), title=\"term_deposit\")\n",
    "\n",
    "plt.xlabel('Job',fontsize = 12)\n",
    "plt.ylabel('Percent Distribution',fontsize = 12)\n",
    "plt.title(\"Job Convesation Rate\")\n",
    "locs, labels = plt.xticks() #rotate label x axis\n",
    "plt.setp(labels, rotation=90)\n",
    "\n",
    "for rec in ax_1.patches:\n",
    "    height = rec.get_height()\n",
    "    ax_1.text(rec.get_x() + rec.get_width() / 2, \n",
    "              rec.get_y() + height / 2,\n",
    "              \"{:.0f}%\".format(height),\n",
    "              ha='center', \n",
    "              va='bottom',\n",
    "             fontsize = 12)\n",
    "plt.show()"
   ]
  },
  {
   "cell_type": "markdown",
   "metadata": {},
   "source": [
    "### Conclucion"
   ]
  },
  {
   "cell_type": "code",
   "execution_count": 50,
   "metadata": {},
   "outputs": [
    {
     "data": {
      "text/html": [
       "<div>\n",
       "<style scoped>\n",
       "    .dataframe tbody tr th:only-of-type {\n",
       "        vertical-align: middle;\n",
       "    }\n",
       "\n",
       "    .dataframe tbody tr th {\n",
       "        vertical-align: top;\n",
       "    }\n",
       "\n",
       "    .dataframe thead th {\n",
       "        text-align: right;\n",
       "    }\n",
       "</style>\n",
       "<table border=\"1\" class=\"dataframe\">\n",
       "  <thead>\n",
       "    <tr style=\"text-align: right;\">\n",
       "      <th>term_deposit</th>\n",
       "      <th>no</th>\n",
       "      <th>yes</th>\n",
       "      <th>total_data</th>\n",
       "      <th>convesation_rate</th>\n",
       "      <th>%conversation</th>\n",
       "    </tr>\n",
       "    <tr>\n",
       "      <th>job</th>\n",
       "      <th></th>\n",
       "      <th></th>\n",
       "      <th></th>\n",
       "      <th></th>\n",
       "      <th></th>\n",
       "    </tr>\n",
       "  </thead>\n",
       "  <tbody>\n",
       "    <tr>\n",
       "      <th>management</th>\n",
       "      <td>7244</td>\n",
       "      <td>931</td>\n",
       "      <td>8175</td>\n",
       "      <td>0.113884</td>\n",
       "      <td>0.243973</td>\n",
       "    </tr>\n",
       "    <tr>\n",
       "      <th>technician</th>\n",
       "      <td>6032</td>\n",
       "      <td>625</td>\n",
       "      <td>6657</td>\n",
       "      <td>0.093886</td>\n",
       "      <td>0.163784</td>\n",
       "    </tr>\n",
       "    <tr>\n",
       "      <th>blue-collar</th>\n",
       "      <td>8281</td>\n",
       "      <td>586</td>\n",
       "      <td>8867</td>\n",
       "      <td>0.066088</td>\n",
       "      <td>0.153564</td>\n",
       "    </tr>\n",
       "    <tr>\n",
       "      <th>admin.</th>\n",
       "      <td>4053</td>\n",
       "      <td>445</td>\n",
       "      <td>4498</td>\n",
       "      <td>0.098933</td>\n",
       "      <td>0.116614</td>\n",
       "    </tr>\n",
       "    <tr>\n",
       "      <th>retired</th>\n",
       "      <td>1480</td>\n",
       "      <td>315</td>\n",
       "      <td>1795</td>\n",
       "      <td>0.175487</td>\n",
       "      <td>0.082547</td>\n",
       "    </tr>\n",
       "    <tr>\n",
       "      <th>services</th>\n",
       "      <td>3465</td>\n",
       "      <td>293</td>\n",
       "      <td>3758</td>\n",
       "      <td>0.077967</td>\n",
       "      <td>0.076782</td>\n",
       "    </tr>\n",
       "    <tr>\n",
       "      <th>student</th>\n",
       "      <td>536</td>\n",
       "      <td>149</td>\n",
       "      <td>685</td>\n",
       "      <td>0.217518</td>\n",
       "      <td>0.039046</td>\n",
       "    </tr>\n",
       "    <tr>\n",
       "      <th>self-employed</th>\n",
       "      <td>1244</td>\n",
       "      <td>141</td>\n",
       "      <td>1385</td>\n",
       "      <td>0.101805</td>\n",
       "      <td>0.036950</td>\n",
       "    </tr>\n",
       "    <tr>\n",
       "      <th>unemployed</th>\n",
       "      <td>1000</td>\n",
       "      <td>134</td>\n",
       "      <td>1134</td>\n",
       "      <td>0.118166</td>\n",
       "      <td>0.035115</td>\n",
       "    </tr>\n",
       "    <tr>\n",
       "      <th>entrepreneur</th>\n",
       "      <td>1243</td>\n",
       "      <td>98</td>\n",
       "      <td>1341</td>\n",
       "      <td>0.073080</td>\n",
       "      <td>0.025681</td>\n",
       "    </tr>\n",
       "    <tr>\n",
       "      <th>housemaid</th>\n",
       "      <td>1016</td>\n",
       "      <td>76</td>\n",
       "      <td>1092</td>\n",
       "      <td>0.069597</td>\n",
       "      <td>0.019916</td>\n",
       "    </tr>\n",
       "    <tr>\n",
       "      <th>unknown</th>\n",
       "      <td>208</td>\n",
       "      <td>23</td>\n",
       "      <td>231</td>\n",
       "      <td>0.099567</td>\n",
       "      <td>0.006027</td>\n",
       "    </tr>\n",
       "  </tbody>\n",
       "</table>\n",
       "</div>"
      ],
      "text/plain": [
       "term_deposit     no  yes  total_data  convesation_rate  %conversation\n",
       "job                                                                  \n",
       "management     7244  931        8175          0.113884       0.243973\n",
       "technician     6032  625        6657          0.093886       0.163784\n",
       "blue-collar    8281  586        8867          0.066088       0.153564\n",
       "admin.         4053  445        4498          0.098933       0.116614\n",
       "retired        1480  315        1795          0.175487       0.082547\n",
       "services       3465  293        3758          0.077967       0.076782\n",
       "student         536  149         685          0.217518       0.039046\n",
       "self-employed  1244  141        1385          0.101805       0.036950\n",
       "unemployed     1000  134        1134          0.118166       0.035115\n",
       "entrepreneur   1243   98        1341          0.073080       0.025681\n",
       "housemaid      1016   76        1092          0.069597       0.019916\n",
       "unknown         208   23         231          0.099567       0.006027"
      ]
     },
     "execution_count": 50,
     "metadata": {},
     "output_type": "execute_result"
    }
   ],
   "source": [
    "job = pd.crosstab(df['job'], df.term_deposit)\n",
    "job ['total_data'] = (job['no'] + job['yes'])\n",
    "job ['convesation_rate'] = job['yes']/(job['no'] + job['yes'])\n",
    "job ['%conversation'] = job['yes']/sum(job['yes'])\n",
    "job.sort_values(['%conversation'], ascending = False)"
   ]
  },
  {
   "cell_type": "markdown",
   "metadata": {},
   "source": [
    "## Marital"
   ]
  },
  {
   "cell_type": "code",
   "execution_count": 51,
   "metadata": {},
   "outputs": [
    {
     "data": {
      "image/png": "[encoded data removed]",
      "text/plain": [
       "<Figure size 1440x576 with 1 Axes>"
      ]
     },
     "metadata": {
      "needs_background": "light"
     },
     "output_type": "display_data"
    },
    {
     "data": {
      "image/png": "[encoded data removed]",
      "text/plain": [
       "<Figure size 1440x576 with 1 Axes>"
      ]
     },
     "metadata": {
      "needs_background": "light"
     },
     "output_type": "display_data"
    },
    {
     "data": {
      "text/plain": [
       "<Figure size 1440x576 with 0 Axes>"
      ]
     },
     "metadata": {},
     "output_type": "display_data"
    },
    {
     "data": {
      "image/png": "[encoded data removed]",
      "text/plain": [
       "<Figure size 720x720 with 1 Axes>"
      ]
     },
     "metadata": {
      "needs_background": "light"
     },
     "output_type": "display_data"
    }
   ],
   "source": [
    "### Distribusi value pada feature marital\n",
    "plt.figure(figsize=(20,8))\n",
    "sns.countplot(x= df['marital'], data=df)\n",
    "plt.xlabel('marital',fontsize = 12)\n",
    "plt.ylabel('Customers',fontsize = 12)\n",
    "plt.title(\"marital Distribution\")\n",
    "\n",
    "### marital x Term Deposit (Count)\n",
    "plt.figure(figsize=(20,8))\n",
    "sns.countplot(x= df['marital'], data=df, hue='term_deposit')\n",
    "plt.xlabel('marital',fontsize = 12)\n",
    "plt.ylabel('Customers',fontsize = 12)\n",
    "plt.title(\"marital x Term Deposit\")\n",
    "\n",
    "### marital Conversation Rate (%)\n",
    "plt.figure(figsize=(20,8))\n",
    "\n",
    "pal = [\"royalblue\", \"dodgerblue\"]\n",
    "ax= pd.crosstab(df['marital'], df['term_deposit']).apply(lambda r: r/r.sum()*100, axis=1)\n",
    "ax_1 = ax.plot.bar(figsize=(10,10),stacked=True, rot=0)\n",
    "\n",
    "plt.legend(loc='upper center', bbox_to_anchor=(0.1, 1.0), title=\"term_deposit\")\n",
    "\n",
    "plt.xlabel('marital',fontsize = 12)\n",
    "plt.ylabel('Percent Distribution',fontsize = 12)\n",
    "plt.title(\"marital Convesation Rate\")\n",
    "\n",
    "\n",
    "for rec in ax_1.patches:\n",
    "    height = rec.get_height()\n",
    "    ax_1.text(rec.get_x() + rec.get_width() / 2, \n",
    "              rec.get_y() + height / 2,\n",
    "              \"{:.0f}%\".format(height),\n",
    "              ha='center', \n",
    "              va='bottom',\n",
    "             fontsize = 12)\n",
    "plt.show()"
   ]
  },
  {
   "cell_type": "markdown",
   "metadata": {},
   "source": [
    "### Conclucion"
   ]
  },
  {
   "cell_type": "code",
   "execution_count": 52,
   "metadata": {},
   "outputs": [
    {
     "data": {
      "text/html": [
       "<div>\n",
       "<style scoped>\n",
       "    .dataframe tbody tr th:only-of-type {\n",
       "        vertical-align: middle;\n",
       "    }\n",
       "\n",
       "    .dataframe tbody tr th {\n",
       "        vertical-align: top;\n",
       "    }\n",
       "\n",
       "    .dataframe thead th {\n",
       "        text-align: right;\n",
       "    }\n",
       "</style>\n",
       "<table border=\"1\" class=\"dataframe\">\n",
       "  <thead>\n",
       "    <tr style=\"text-align: right;\">\n",
       "      <th>term_deposit</th>\n",
       "      <th>no</th>\n",
       "      <th>yes</th>\n",
       "      <th>total_data</th>\n",
       "      <th>convesation_rate</th>\n",
       "      <th>%conversation</th>\n",
       "    </tr>\n",
       "    <tr>\n",
       "      <th>marital</th>\n",
       "      <th></th>\n",
       "      <th></th>\n",
       "      <th></th>\n",
       "      <th></th>\n",
       "      <th></th>\n",
       "    </tr>\n",
       "  </thead>\n",
       "  <tbody>\n",
       "    <tr>\n",
       "      <th>married</th>\n",
       "      <td>21951</td>\n",
       "      <td>1979</td>\n",
       "      <td>23930</td>\n",
       "      <td>0.082700</td>\n",
       "      <td>0.518606</td>\n",
       "    </tr>\n",
       "    <tr>\n",
       "      <th>single</th>\n",
       "      <td>9674</td>\n",
       "      <td>1348</td>\n",
       "      <td>11022</td>\n",
       "      <td>0.122301</td>\n",
       "      <td>0.353249</td>\n",
       "    </tr>\n",
       "    <tr>\n",
       "      <th>divorced</th>\n",
       "      <td>4177</td>\n",
       "      <td>489</td>\n",
       "      <td>4666</td>\n",
       "      <td>0.104801</td>\n",
       "      <td>0.128145</td>\n",
       "    </tr>\n",
       "  </tbody>\n",
       "</table>\n",
       "</div>"
      ],
      "text/plain": [
       "term_deposit     no   yes  total_data  convesation_rate  %conversation\n",
       "marital                                                               \n",
       "married       21951  1979       23930          0.082700       0.518606\n",
       "single         9674  1348       11022          0.122301       0.353249\n",
       "divorced       4177   489        4666          0.104801       0.128145"
      ]
     },
     "execution_count": 52,
     "metadata": {},
     "output_type": "execute_result"
    }
   ],
   "source": [
    "marital = pd.crosstab(df['marital'], df.term_deposit)\n",
    "marital ['total_data'] = (marital['no'] + marital['yes'])\n",
    "marital ['convesation_rate'] = marital['yes']/(marital['no'] + marital['yes'])\n",
    "marital ['%conversation'] = marital['yes']/sum(marital['yes'])\n",
    "marital.sort_values(['%conversation'], ascending = False)"
   ]
  },
  {
   "cell_type": "markdown",
   "metadata": {},
   "source": [
    "## Housing"
   ]
  },
  {
   "cell_type": "code",
   "execution_count": 53,
   "metadata": {},
   "outputs": [
    {
     "data": {
      "image/png": "[encoded data removed]",
      "text/plain": [
       "<Figure size 1440x576 with 1 Axes>"
      ]
     },
     "metadata": {
      "needs_background": "light"
     },
     "output_type": "display_data"
    },
    {
     "data": {
      "image/png": "[encoded data removed]",
      "text/plain": [
       "<Figure size 1440x576 with 1 Axes>"
      ]
     },
     "metadata": {
      "needs_background": "light"
     },
     "output_type": "display_data"
    },
    {
     "data": {
      "text/plain": [
       "<Figure size 1440x576 with 0 Axes>"
      ]
     },
     "metadata": {},
     "output_type": "display_data"
    },
    {
     "data": {
      "image/png": "[encoded data removed]",
      "text/plain": [
       "<Figure size 720x720 with 1 Axes>"
      ]
     },
     "metadata": {
      "needs_background": "light"
     },
     "output_type": "display_data"
    }
   ],
   "source": [
    "### Distribusi value pada feature housing\n",
    "plt.figure(figsize=(20,8))\n",
    "sns.countplot(x= df['housing'], data=df)\n",
    "plt.xlabel('housing',fontsize = 12)\n",
    "plt.ylabel('Customers',fontsize = 12)\n",
    "plt.title(\"housing Distribution\")\n",
    "\n",
    "### housing x Term Deposit (Count)\n",
    "plt.figure(figsize=(20,8))\n",
    "sns.countplot(x= df['housing'], data=df, hue='term_deposit')\n",
    "plt.xlabel('housing',fontsize = 12)\n",
    "plt.ylabel('Customers',fontsize = 12)\n",
    "plt.title(\"housing x Term Deposit\")\n",
    "\n",
    "### housing Conversation Rate (%)\n",
    "plt.figure(figsize=(20,8))\n",
    "\n",
    "pal = [\"royalblue\", \"dodgerblue\"]\n",
    "ax= pd.crosstab(df['housing'], df['term_deposit']).apply(lambda r: r/r.sum()*100, axis=1)\n",
    "ax_1 = ax.plot.bar(figsize=(10,10),stacked=True, rot=0)\n",
    "\n",
    "plt.legend(loc='upper center', bbox_to_anchor=(0.1, 1.0), title=\"term_deposit\")\n",
    "\n",
    "plt.xlabel('housing',fontsize = 12)\n",
    "plt.ylabel('Percent Distribution',fontsize = 12)\n",
    "plt.title(\"housing Convesation Rate\")\n",
    "\n",
    "\n",
    "for rec in ax_1.patches:\n",
    "    height = rec.get_height()\n",
    "    ax_1.text(rec.get_x() + rec.get_width() / 2, \n",
    "              rec.get_y() + height / 2,\n",
    "              \"{:.0f}%\".format(height),\n",
    "              ha='center', \n",
    "              va='bottom',\n",
    "             fontsize = 12)\n",
    "plt.show()"
   ]
  },
  {
   "cell_type": "markdown",
   "metadata": {},
   "source": [
    "### Conclucion"
   ]
  },
  {
   "cell_type": "code",
   "execution_count": 54,
   "metadata": {},
   "outputs": [
    {
     "data": {
      "text/html": [
       "<div>\n",
       "<style scoped>\n",
       "    .dataframe tbody tr th:only-of-type {\n",
       "        vertical-align: middle;\n",
       "    }\n",
       "\n",
       "    .dataframe tbody tr th {\n",
       "        vertical-align: top;\n",
       "    }\n",
       "\n",
       "    .dataframe thead th {\n",
       "        text-align: right;\n",
       "    }\n",
       "</style>\n",
       "<table border=\"1\" class=\"dataframe\">\n",
       "  <thead>\n",
       "    <tr style=\"text-align: right;\">\n",
       "      <th>term_deposit</th>\n",
       "      <th>no</th>\n",
       "      <th>yes</th>\n",
       "      <th>total_data</th>\n",
       "      <th>convesation_rate</th>\n",
       "      <th>%conversation</th>\n",
       "    </tr>\n",
       "    <tr>\n",
       "      <th>housing</th>\n",
       "      <th></th>\n",
       "      <th></th>\n",
       "      <th></th>\n",
       "      <th></th>\n",
       "      <th></th>\n",
       "    </tr>\n",
       "  </thead>\n",
       "  <tbody>\n",
       "    <tr>\n",
       "      <th>no</th>\n",
       "      <td>14395</td>\n",
       "      <td>2207</td>\n",
       "      <td>16602</td>\n",
       "      <td>0.132936</td>\n",
       "      <td>0.578354</td>\n",
       "    </tr>\n",
       "    <tr>\n",
       "      <th>yes</th>\n",
       "      <td>21407</td>\n",
       "      <td>1609</td>\n",
       "      <td>23016</td>\n",
       "      <td>0.069908</td>\n",
       "      <td>0.421646</td>\n",
       "    </tr>\n",
       "  </tbody>\n",
       "</table>\n",
       "</div>"
      ],
      "text/plain": [
       "term_deposit     no   yes  total_data  convesation_rate  %conversation\n",
       "housing                                                               \n",
       "no            14395  2207       16602          0.132936       0.578354\n",
       "yes           21407  1609       23016          0.069908       0.421646"
      ]
     },
     "execution_count": 54,
     "metadata": {},
     "output_type": "execute_result"
    }
   ],
   "source": [
    "housing = pd.crosstab(df['housing'], df.term_deposit)\n",
    "housing ['total_data'] = (housing['no'] + housing['yes'])\n",
    "housing ['convesation_rate'] = housing['yes']/(housing['no'] + housing['yes'])\n",
    "housing ['%conversation'] = housing['yes']/sum(housing['yes'])\n",
    "housing.sort_values(['%conversation'], ascending = False)"
   ]
  },
  {
   "cell_type": "markdown",
   "metadata": {},
   "source": [
    "## Loan"
   ]
  },
  {
   "cell_type": "code",
   "execution_count": 55,
   "metadata": {},
   "outputs": [
    {
     "data": {
      "image/png": "[encoded data removed]",
      "text/plain": [
       "<Figure size 1440x576 with 1 Axes>"
      ]
     },
     "metadata": {
      "needs_background": "light"
     },
     "output_type": "display_data"
    },
    {
     "data": {
      "image/png": "[encoded data removed]",
      "text/plain": [
       "<Figure size 1440x576 with 1 Axes>"
      ]
     },
     "metadata": {
      "needs_background": "light"
     },
     "output_type": "display_data"
    },
    {
     "data": {
      "text/plain": [
       "<Figure size 1440x576 with 0 Axes>"
      ]
     },
     "metadata": {},
     "output_type": "display_data"
    },
    {
     "data": {
      "image/png": "[encoded data removed]",
      "text/plain": [
       "<Figure size 720x720 with 1 Axes>"
      ]
     },
     "metadata": {
      "needs_background": "light"
     },
     "output_type": "display_data"
    }
   ],
   "source": [
    "### Distribusi value pada feature housing\n",
    "plt.figure(figsize=(20,8))\n",
    "sns.countplot(x= df['loan'], data=df)\n",
    "plt.xlabel('loan',fontsize = 12)\n",
    "plt.ylabel('Customers',fontsize = 12)\n",
    "plt.title(\"loan Distribution\")\n",
    "\n",
    "### housing x Term Deposit (Count)\n",
    "plt.figure(figsize=(20,8))\n",
    "sns.countplot(x= df['loan'], data=df, hue='term_deposit')\n",
    "plt.xlabel('loan',fontsize = 12)\n",
    "plt.ylabel('Customers',fontsize = 12)\n",
    "plt.title(\"loan x Term Deposit\")\n",
    "\n",
    "### housing Conversation Rate (%)\n",
    "plt.figure(figsize=(20,8))\n",
    "\n",
    "pal = [\"royalblue\", \"dodgerblue\"]\n",
    "ax= pd.crosstab(df['loan'], df['term_deposit']).apply(lambda r: r/r.sum()*100, axis=1)\n",
    "ax_1 = ax.plot.bar(figsize=(10,10),stacked=True, rot=0)\n",
    "\n",
    "plt.legend(loc='upper center', bbox_to_anchor=(0.1, 1.0), title=\"term_deposit\")\n",
    "\n",
    "plt.xlabel('loan',fontsize = 12)\n",
    "plt.ylabel('Percent Distribution',fontsize = 12)\n",
    "plt.title(\"loan Convesation Rate\")\n",
    "\n",
    "\n",
    "for rec in ax_1.patches:\n",
    "    height = rec.get_height()\n",
    "    ax_1.text(rec.get_x() + rec.get_width() / 2, \n",
    "              rec.get_y() + height / 2,\n",
    "              \"{:.0f}%\".format(height),\n",
    "              ha='center', \n",
    "              va='bottom',\n",
    "             fontsize = 12)\n",
    "plt.show()"
   ]
  },
  {
   "cell_type": "markdown",
   "metadata": {},
   "source": [
    "### Conclusion"
   ]
  },
  {
   "cell_type": "code",
   "execution_count": 56,
   "metadata": {},
   "outputs": [
    {
     "data": {
      "text/html": [
       "<div>\n",
       "<style scoped>\n",
       "    .dataframe tbody tr th:only-of-type {\n",
       "        vertical-align: middle;\n",
       "    }\n",
       "\n",
       "    .dataframe tbody tr th {\n",
       "        vertical-align: top;\n",
       "    }\n",
       "\n",
       "    .dataframe thead th {\n",
       "        text-align: right;\n",
       "    }\n",
       "</style>\n",
       "<table border=\"1\" class=\"dataframe\">\n",
       "  <thead>\n",
       "    <tr style=\"text-align: right;\">\n",
       "      <th>term_deposit</th>\n",
       "      <th>no</th>\n",
       "      <th>yes</th>\n",
       "      <th>total_data</th>\n",
       "      <th>convesation_rate</th>\n",
       "      <th>%conversation</th>\n",
       "    </tr>\n",
       "    <tr>\n",
       "      <th>loan</th>\n",
       "      <th></th>\n",
       "      <th></th>\n",
       "      <th></th>\n",
       "      <th></th>\n",
       "      <th></th>\n",
       "    </tr>\n",
       "  </thead>\n",
       "  <tbody>\n",
       "    <tr>\n",
       "      <th>no</th>\n",
       "      <td>29639</td>\n",
       "      <td>3407</td>\n",
       "      <td>33046</td>\n",
       "      <td>0.103099</td>\n",
       "      <td>0.89282</td>\n",
       "    </tr>\n",
       "    <tr>\n",
       "      <th>yes</th>\n",
       "      <td>6163</td>\n",
       "      <td>409</td>\n",
       "      <td>6572</td>\n",
       "      <td>0.062234</td>\n",
       "      <td>0.10718</td>\n",
       "    </tr>\n",
       "  </tbody>\n",
       "</table>\n",
       "</div>"
      ],
      "text/plain": [
       "term_deposit     no   yes  total_data  convesation_rate  %conversation\n",
       "loan                                                                  \n",
       "no            29639  3407       33046          0.103099        0.89282\n",
       "yes            6163   409        6572          0.062234        0.10718"
      ]
     },
     "execution_count": 56,
     "metadata": {},
     "output_type": "execute_result"
    }
   ],
   "source": [
    "loan = pd.crosstab(df['loan'], df.term_deposit)\n",
    "loan ['total_data'] = (loan['no'] + loan['yes'])\n",
    "loan ['convesation_rate'] = loan['yes']/(loan['no'] + loan['yes'])\n",
    "loan ['%conversation'] = loan['yes']/sum(loan['yes'])\n",
    "loan.sort_values(['%conversation'], ascending = False)"
   ]
  },
  {
   "cell_type": "markdown",
   "metadata": {},
   "source": [
    "## Term Deposit (Target)"
   ]
  },
  {
   "cell_type": "code",
   "execution_count": 57,
   "metadata": {},
   "outputs": [
    {
     "data": {
      "text/plain": [
       "Text(0.5, 1.0, 'term_deposit Distribution')"
      ]
     },
     "execution_count": 57,
     "metadata": {},
     "output_type": "execute_result"
    },
    {
     "data": {
      "image/png": "[encoded data removed]",
      "text/plain": [
       "<Figure size 1440x576 with 1 Axes>"
      ]
     },
     "metadata": {
      "needs_background": "light"
     },
     "output_type": "display_data"
    }
   ],
   "source": [
    "plt.figure(figsize=(20,8))\n",
    "sns.countplot(x= df['term_deposit'], data=df)\n",
    "plt.xlabel('term_deposit',fontsize = 12)\n",
    "plt.ylabel('Customers',fontsize = 12)\n",
    "plt.title(\"term_deposit Distribution\")"
   ]
  },
  {
   "cell_type": "markdown",
   "metadata": {},
   "source": [
    "Term Deposit memiliki distribusi data yang imbalance, pada model akan menggunakan class weigh untuk menangani class imbalance"
   ]
  },
  {
   "cell_type": "markdown",
   "metadata": {},
   "source": [
    "## Job X Month X Term Deposit"
   ]
  },
  {
   "cell_type": "markdown",
   "metadata": {},
   "source": [
    "Analisa lanjutan untuk populasi terbesar pada job yaitu : \n",
    "1. management\n",
    "2. blue-collar\n",
    "3. technician\n",
    "4. admin"
   ]
  },
  {
   "cell_type": "markdown",
   "metadata": {},
   "source": [
    "### Management"
   ]
  },
  {
   "cell_type": "code",
   "execution_count": 58,
   "metadata": {},
   "outputs": [
    {
     "data": {
      "text/html": [
       "<div>\n",
       "<style scoped>\n",
       "    .dataframe tbody tr th:only-of-type {\n",
       "        vertical-align: middle;\n",
       "    }\n",
       "\n",
       "    .dataframe tbody tr th {\n",
       "        vertical-align: top;\n",
       "    }\n",
       "\n",
       "    .dataframe thead th {\n",
       "        text-align: right;\n",
       "    }\n",
       "</style>\n",
       "<table border=\"1\" class=\"dataframe\">\n",
       "  <thead>\n",
       "    <tr style=\"text-align: right;\">\n",
       "      <th>job</th>\n",
       "      <th>management</th>\n",
       "      <th>yes</th>\n",
       "      <th>no</th>\n",
       "      <th>total</th>\n",
       "      <th>All_campaign</th>\n",
       "      <th>percent_campaign</th>\n",
       "    </tr>\n",
       "    <tr>\n",
       "      <th>month</th>\n",
       "      <th></th>\n",
       "      <th></th>\n",
       "      <th></th>\n",
       "      <th></th>\n",
       "      <th></th>\n",
       "      <th></th>\n",
       "    </tr>\n",
       "  </thead>\n",
       "  <tbody>\n",
       "    <tr>\n",
       "      <th>may</th>\n",
       "      <td>6.802383</td>\n",
       "      <td>137</td>\n",
       "      <td>1877</td>\n",
       "      <td>2014</td>\n",
       "      <td>12882</td>\n",
       "      <td>0.156342</td>\n",
       "    </tr>\n",
       "    <tr>\n",
       "      <th>aug</th>\n",
       "      <td>10.104103</td>\n",
       "      <td>165</td>\n",
       "      <td>1468</td>\n",
       "      <td>1633</td>\n",
       "      <td>5122</td>\n",
       "      <td>0.318821</td>\n",
       "    </tr>\n",
       "    <tr>\n",
       "      <th>jul</th>\n",
       "      <td>6.613757</td>\n",
       "      <td>75</td>\n",
       "      <td>1059</td>\n",
       "      <td>1134</td>\n",
       "      <td>5826</td>\n",
       "      <td>0.194645</td>\n",
       "    </tr>\n",
       "    <tr>\n",
       "      <th>nov</th>\n",
       "      <td>9.107981</td>\n",
       "      <td>97</td>\n",
       "      <td>968</td>\n",
       "      <td>1065</td>\n",
       "      <td>3824</td>\n",
       "      <td>0.278504</td>\n",
       "    </tr>\n",
       "    <tr>\n",
       "      <th>jun</th>\n",
       "      <td>13.164557</td>\n",
       "      <td>104</td>\n",
       "      <td>686</td>\n",
       "      <td>790</td>\n",
       "      <td>4634</td>\n",
       "      <td>0.170479</td>\n",
       "    </tr>\n",
       "    <tr>\n",
       "      <th>apr</th>\n",
       "      <td>23.076923</td>\n",
       "      <td>114</td>\n",
       "      <td>380</td>\n",
       "      <td>494</td>\n",
       "      <td>2686</td>\n",
       "      <td>0.183917</td>\n",
       "    </tr>\n",
       "    <tr>\n",
       "      <th>feb</th>\n",
       "      <td>13.968958</td>\n",
       "      <td>63</td>\n",
       "      <td>388</td>\n",
       "      <td>451</td>\n",
       "      <td>2173</td>\n",
       "      <td>0.207547</td>\n",
       "    </tr>\n",
       "    <tr>\n",
       "      <th>jan</th>\n",
       "      <td>2.766798</td>\n",
       "      <td>7</td>\n",
       "      <td>246</td>\n",
       "      <td>253</td>\n",
       "      <td>1224</td>\n",
       "      <td>0.206699</td>\n",
       "    </tr>\n",
       "    <tr>\n",
       "      <th>oct</th>\n",
       "      <td>47.200000</td>\n",
       "      <td>59</td>\n",
       "      <td>66</td>\n",
       "      <td>125</td>\n",
       "      <td>518</td>\n",
       "      <td>0.241313</td>\n",
       "    </tr>\n",
       "    <tr>\n",
       "      <th>sep</th>\n",
       "      <td>45.882353</td>\n",
       "      <td>39</td>\n",
       "      <td>46</td>\n",
       "      <td>85</td>\n",
       "      <td>278</td>\n",
       "      <td>0.305755</td>\n",
       "    </tr>\n",
       "    <tr>\n",
       "      <th>mar</th>\n",
       "      <td>58.024691</td>\n",
       "      <td>47</td>\n",
       "      <td>34</td>\n",
       "      <td>81</td>\n",
       "      <td>243</td>\n",
       "      <td>0.333333</td>\n",
       "    </tr>\n",
       "    <tr>\n",
       "      <th>dec</th>\n",
       "      <td>48.000000</td>\n",
       "      <td>24</td>\n",
       "      <td>26</td>\n",
       "      <td>50</td>\n",
       "      <td>208</td>\n",
       "      <td>0.240385</td>\n",
       "    </tr>\n",
       "  </tbody>\n",
       "</table>\n",
       "</div>"
      ],
      "text/plain": [
       "job    management  yes    no  total  All_campaign  percent_campaign\n",
       "month                                                              \n",
       "may      6.802383  137  1877   2014         12882          0.156342\n",
       "aug     10.104103  165  1468   1633          5122          0.318821\n",
       "jul      6.613757   75  1059   1134          5826          0.194645\n",
       "nov      9.107981   97   968   1065          3824          0.278504\n",
       "jun     13.164557  104   686    790          4634          0.170479\n",
       "apr     23.076923  114   380    494          2686          0.183917\n",
       "feb     13.968958   63   388    451          2173          0.207547\n",
       "jan      2.766798    7   246    253          1224          0.206699\n",
       "oct     47.200000   59    66    125           518          0.241313\n",
       "sep     45.882353   39    46     85           278          0.305755\n",
       "mar     58.024691   47    34     81           243          0.333333\n",
       "dec     48.000000   24    26     50           208          0.240385"
      ]
     },
     "execution_count": 58,
     "metadata": {},
     "output_type": "execute_result"
    }
   ],
   "source": [
    "yes = df[(df['term_deposit']=='yes')]\n",
    "no = df[(df['term_deposit']=='no')]\n",
    "bulano= pd.crosstab(no['month'], no['job']).apply(lambda r: r, axis=1)\n",
    "data_pop = df[(df['job']=='management')]\n",
    "data_pop = pd.crosstab(data_pop['month'], data_pop['job']).apply(lambda r: r, axis=1)\n",
    "yes_data = yes[(yes['job']=='management')]\n",
    "no_data = no[(no['job']=='management')]\n",
    "bulanyes_data = pd.crosstab(yes_data['month'], yes_data['job']).apply(lambda r: r, axis=1)\n",
    "ration = (bulanyes_data/data_pop)*100\n",
    "ration['yes'] = yes_data.groupby(['month'])['term_deposit'].count()\n",
    "ration['no'] = no_data.groupby(['month'])['term_deposit'].count()\n",
    "ration['total'] = ration['no'] + ration['yes']\n",
    "ration['All_campaign'] = df.groupby(['month'])['term_deposit'].count()\n",
    "ration['percent_campaign'] = ration['total']/ration['All_campaign']\n",
    "ration.sort_values(['total'], ascending = False)"
   ]
  },
  {
   "cell_type": "markdown",
   "metadata": {},
   "source": [
    "Best Month for management\n",
    "- April\n",
    "- juni"
   ]
  },
  {
   "cell_type": "markdown",
   "metadata": {},
   "source": [
    "### Admin"
   ]
  },
  {
   "cell_type": "code",
   "execution_count": 59,
   "metadata": {},
   "outputs": [
    {
     "data": {
      "text/html": [
       "<div>\n",
       "<style scoped>\n",
       "    .dataframe tbody tr th:only-of-type {\n",
       "        vertical-align: middle;\n",
       "    }\n",
       "\n",
       "    .dataframe tbody tr th {\n",
       "        vertical-align: top;\n",
       "    }\n",
       "\n",
       "    .dataframe thead th {\n",
       "        text-align: right;\n",
       "    }\n",
       "</style>\n",
       "<table border=\"1\" class=\"dataframe\">\n",
       "  <thead>\n",
       "    <tr style=\"text-align: right;\">\n",
       "      <th>job</th>\n",
       "      <th>admin.</th>\n",
       "      <th>yes</th>\n",
       "      <th>no</th>\n",
       "      <th>total</th>\n",
       "      <th>All_campaign</th>\n",
       "      <th>percent_campaign</th>\n",
       "    </tr>\n",
       "    <tr>\n",
       "      <th>month</th>\n",
       "      <th></th>\n",
       "      <th></th>\n",
       "      <th></th>\n",
       "      <th></th>\n",
       "      <th></th>\n",
       "      <th></th>\n",
       "    </tr>\n",
       "  </thead>\n",
       "  <tbody>\n",
       "    <tr>\n",
       "      <th>may</th>\n",
       "      <td>7.030303</td>\n",
       "      <td>116</td>\n",
       "      <td>1534</td>\n",
       "      <td>1650</td>\n",
       "      <td>12882</td>\n",
       "      <td>0.128086</td>\n",
       "    </tr>\n",
       "    <tr>\n",
       "      <th>apr</th>\n",
       "      <td>14.784946</td>\n",
       "      <td>55</td>\n",
       "      <td>317</td>\n",
       "      <td>372</td>\n",
       "      <td>2686</td>\n",
       "      <td>0.138496</td>\n",
       "    </tr>\n",
       "    <tr>\n",
       "      <th>jun</th>\n",
       "      <td>9.902913</td>\n",
       "      <td>51</td>\n",
       "      <td>464</td>\n",
       "      <td>515</td>\n",
       "      <td>4634</td>\n",
       "      <td>0.111135</td>\n",
       "    </tr>\n",
       "    <tr>\n",
       "      <th>jul</th>\n",
       "      <td>5.823864</td>\n",
       "      <td>41</td>\n",
       "      <td>663</td>\n",
       "      <td>704</td>\n",
       "      <td>5826</td>\n",
       "      <td>0.120838</td>\n",
       "    </tr>\n",
       "    <tr>\n",
       "      <th>aug</th>\n",
       "      <td>13.937282</td>\n",
       "      <td>40</td>\n",
       "      <td>247</td>\n",
       "      <td>287</td>\n",
       "      <td>5122</td>\n",
       "      <td>0.056033</td>\n",
       "    </tr>\n",
       "    <tr>\n",
       "      <th>nov</th>\n",
       "      <td>8.955224</td>\n",
       "      <td>36</td>\n",
       "      <td>366</td>\n",
       "      <td>402</td>\n",
       "      <td>3824</td>\n",
       "      <td>0.105126</td>\n",
       "    </tr>\n",
       "    <tr>\n",
       "      <th>feb</th>\n",
       "      <td>12.109375</td>\n",
       "      <td>31</td>\n",
       "      <td>225</td>\n",
       "      <td>256</td>\n",
       "      <td>2173</td>\n",
       "      <td>0.117809</td>\n",
       "    </tr>\n",
       "    <tr>\n",
       "      <th>oct</th>\n",
       "      <td>33.823529</td>\n",
       "      <td>23</td>\n",
       "      <td>45</td>\n",
       "      <td>68</td>\n",
       "      <td>518</td>\n",
       "      <td>0.131274</td>\n",
       "    </tr>\n",
       "    <tr>\n",
       "      <th>mar</th>\n",
       "      <td>41.463415</td>\n",
       "      <td>17</td>\n",
       "      <td>24</td>\n",
       "      <td>41</td>\n",
       "      <td>243</td>\n",
       "      <td>0.168724</td>\n",
       "    </tr>\n",
       "    <tr>\n",
       "      <th>sep</th>\n",
       "      <td>50.000000</td>\n",
       "      <td>17</td>\n",
       "      <td>17</td>\n",
       "      <td>34</td>\n",
       "      <td>278</td>\n",
       "      <td>0.122302</td>\n",
       "    </tr>\n",
       "    <tr>\n",
       "      <th>dec</th>\n",
       "      <td>52.173913</td>\n",
       "      <td>12</td>\n",
       "      <td>11</td>\n",
       "      <td>23</td>\n",
       "      <td>208</td>\n",
       "      <td>0.110577</td>\n",
       "    </tr>\n",
       "    <tr>\n",
       "      <th>jan</th>\n",
       "      <td>4.109589</td>\n",
       "      <td>6</td>\n",
       "      <td>140</td>\n",
       "      <td>146</td>\n",
       "      <td>1224</td>\n",
       "      <td>0.119281</td>\n",
       "    </tr>\n",
       "  </tbody>\n",
       "</table>\n",
       "</div>"
      ],
      "text/plain": [
       "job       admin.  yes    no  total  All_campaign  percent_campaign\n",
       "month                                                             \n",
       "may     7.030303  116  1534   1650         12882          0.128086\n",
       "apr    14.784946   55   317    372          2686          0.138496\n",
       "jun     9.902913   51   464    515          4634          0.111135\n",
       "jul     5.823864   41   663    704          5826          0.120838\n",
       "aug    13.937282   40   247    287          5122          0.056033\n",
       "nov     8.955224   36   366    402          3824          0.105126\n",
       "feb    12.109375   31   225    256          2173          0.117809\n",
       "oct    33.823529   23    45     68           518          0.131274\n",
       "mar    41.463415   17    24     41           243          0.168724\n",
       "sep    50.000000   17    17     34           278          0.122302\n",
       "dec    52.173913   12    11     23           208          0.110577\n",
       "jan     4.109589    6   140    146          1224          0.119281"
      ]
     },
     "execution_count": 59,
     "metadata": {},
     "output_type": "execute_result"
    }
   ],
   "source": [
    "no = df[(df['term_deposit']=='no')]\n",
    "bulano= pd.crosstab(no['month'], no['job']).apply(lambda r: r, axis=1)\n",
    "data_pop = df[(df['job']=='admin.')]\n",
    "data_pop = pd.crosstab(data_pop['month'], data_pop['job']).apply(lambda r: r, axis=1)\n",
    "yes_data = yes[(yes['job']=='admin.')]\n",
    "no_data = no[(no['job']=='admin.')]\n",
    "bulanyes_data = pd.crosstab(yes_data['month'], yes_data['job']).apply(lambda r: r, axis=1)\n",
    "ration = (bulanyes_data/data_pop)*100\n",
    "ration['yes'] = yes_data.groupby(['month'])['term_deposit'].count()\n",
    "ration['no'] = no_data.groupby(['month'])['term_deposit'].count()\n",
    "ration['total'] = ration['no'] + ration['yes']\n",
    "ration['All_campaign'] = df.groupby(['month'])['term_deposit'].count()\n",
    "ration['percent_campaign'] = ration['total']/ration['All_campaign']\n",
    "ration.sort_values(['yes'], ascending = False)"
   ]
  },
  {
   "cell_type": "markdown",
   "metadata": {},
   "source": [
    "Best Month for Admin\n",
    "- April\n",
    "- Aug"
   ]
  },
  {
   "cell_type": "markdown",
   "metadata": {},
   "source": [
    "### technician"
   ]
  },
  {
   "cell_type": "code",
   "execution_count": 60,
   "metadata": {},
   "outputs": [
    {
     "data": {
      "text/html": [
       "<div>\n",
       "<style scoped>\n",
       "    .dataframe tbody tr th:only-of-type {\n",
       "        vertical-align: middle;\n",
       "    }\n",
       "\n",
       "    .dataframe tbody tr th {\n",
       "        vertical-align: top;\n",
       "    }\n",
       "\n",
       "    .dataframe thead th {\n",
       "        text-align: right;\n",
       "    }\n",
       "</style>\n",
       "<table border=\"1\" class=\"dataframe\">\n",
       "  <thead>\n",
       "    <tr style=\"text-align: right;\">\n",
       "      <th>job</th>\n",
       "      <th>technician</th>\n",
       "      <th>yes</th>\n",
       "      <th>no</th>\n",
       "      <th>total</th>\n",
       "      <th>All_campaign</th>\n",
       "      <th>percent_campaign</th>\n",
       "    </tr>\n",
       "    <tr>\n",
       "      <th>month</th>\n",
       "      <th></th>\n",
       "      <th></th>\n",
       "      <th></th>\n",
       "      <th></th>\n",
       "      <th></th>\n",
       "      <th></th>\n",
       "    </tr>\n",
       "  </thead>\n",
       "  <tbody>\n",
       "    <tr>\n",
       "      <th>aug</th>\n",
       "      <td>7.594937</td>\n",
       "      <td>114</td>\n",
       "      <td>1387</td>\n",
       "      <td>1501</td>\n",
       "      <td>5122</td>\n",
       "      <td>0.293050</td>\n",
       "    </tr>\n",
       "    <tr>\n",
       "      <th>may</th>\n",
       "      <td>5.848564</td>\n",
       "      <td>112</td>\n",
       "      <td>1803</td>\n",
       "      <td>1915</td>\n",
       "      <td>12882</td>\n",
       "      <td>0.148657</td>\n",
       "    </tr>\n",
       "    <tr>\n",
       "      <th>apr</th>\n",
       "      <td>19.587629</td>\n",
       "      <td>76</td>\n",
       "      <td>312</td>\n",
       "      <td>388</td>\n",
       "      <td>2686</td>\n",
       "      <td>0.144453</td>\n",
       "    </tr>\n",
       "    <tr>\n",
       "      <th>jun</th>\n",
       "      <td>10.634648</td>\n",
       "      <td>62</td>\n",
       "      <td>521</td>\n",
       "      <td>583</td>\n",
       "      <td>4634</td>\n",
       "      <td>0.125809</td>\n",
       "    </tr>\n",
       "    <tr>\n",
       "      <th>jul</th>\n",
       "      <td>6.652126</td>\n",
       "      <td>61</td>\n",
       "      <td>856</td>\n",
       "      <td>917</td>\n",
       "      <td>5826</td>\n",
       "      <td>0.157398</td>\n",
       "    </tr>\n",
       "    <tr>\n",
       "      <th>nov</th>\n",
       "      <td>9.430894</td>\n",
       "      <td>58</td>\n",
       "      <td>557</td>\n",
       "      <td>615</td>\n",
       "      <td>3824</td>\n",
       "      <td>0.160826</td>\n",
       "    </tr>\n",
       "    <tr>\n",
       "      <th>feb</th>\n",
       "      <td>13.005780</td>\n",
       "      <td>45</td>\n",
       "      <td>301</td>\n",
       "      <td>346</td>\n",
       "      <td>2173</td>\n",
       "      <td>0.159227</td>\n",
       "    </tr>\n",
       "    <tr>\n",
       "      <th>oct</th>\n",
       "      <td>58.571429</td>\n",
       "      <td>41</td>\n",
       "      <td>29</td>\n",
       "      <td>70</td>\n",
       "      <td>518</td>\n",
       "      <td>0.135135</td>\n",
       "    </tr>\n",
       "    <tr>\n",
       "      <th>mar</th>\n",
       "      <td>47.222222</td>\n",
       "      <td>17</td>\n",
       "      <td>19</td>\n",
       "      <td>36</td>\n",
       "      <td>243</td>\n",
       "      <td>0.148148</td>\n",
       "    </tr>\n",
       "    <tr>\n",
       "      <th>sep</th>\n",
       "      <td>53.125000</td>\n",
       "      <td>17</td>\n",
       "      <td>15</td>\n",
       "      <td>32</td>\n",
       "      <td>278</td>\n",
       "      <td>0.115108</td>\n",
       "    </tr>\n",
       "    <tr>\n",
       "      <th>dec</th>\n",
       "      <td>36.666667</td>\n",
       "      <td>11</td>\n",
       "      <td>19</td>\n",
       "      <td>30</td>\n",
       "      <td>208</td>\n",
       "      <td>0.144231</td>\n",
       "    </tr>\n",
       "    <tr>\n",
       "      <th>jan</th>\n",
       "      <td>4.910714</td>\n",
       "      <td>11</td>\n",
       "      <td>213</td>\n",
       "      <td>224</td>\n",
       "      <td>1224</td>\n",
       "      <td>0.183007</td>\n",
       "    </tr>\n",
       "  </tbody>\n",
       "</table>\n",
       "</div>"
      ],
      "text/plain": [
       "job    technician  yes    no  total  All_campaign  percent_campaign\n",
       "month                                                              \n",
       "aug      7.594937  114  1387   1501          5122          0.293050\n",
       "may      5.848564  112  1803   1915         12882          0.148657\n",
       "apr     19.587629   76   312    388          2686          0.144453\n",
       "jun     10.634648   62   521    583          4634          0.125809\n",
       "jul      6.652126   61   856    917          5826          0.157398\n",
       "nov      9.430894   58   557    615          3824          0.160826\n",
       "feb     13.005780   45   301    346          2173          0.159227\n",
       "oct     58.571429   41    29     70           518          0.135135\n",
       "mar     47.222222   17    19     36           243          0.148148\n",
       "sep     53.125000   17    15     32           278          0.115108\n",
       "dec     36.666667   11    19     30           208          0.144231\n",
       "jan      4.910714   11   213    224          1224          0.183007"
      ]
     },
     "execution_count": 60,
     "metadata": {},
     "output_type": "execute_result"
    }
   ],
   "source": [
    "no = df[(df['term_deposit']=='no')]\n",
    "bulano= pd.crosstab(no['month'], no['job']).apply(lambda r: r, axis=1)\n",
    "data_pop = df[(df['job']=='technician')]\n",
    "data_pop = pd.crosstab(data_pop['month'], data_pop['job']).apply(lambda r: r, axis=1)\n",
    "yes_data = yes[(yes['job']=='technician')]\n",
    "no_data = no[(no['job']=='technician')]\n",
    "bulanyes_data = pd.crosstab(yes_data['month'], yes_data['job']).apply(lambda r: r, axis=1)\n",
    "ration = (bulanyes_data/data_pop)*100\n",
    "ration['yes'] = yes_data.groupby(['month'])['term_deposit'].count()\n",
    "ration['no'] = no_data.groupby(['month'])['term_deposit'].count()\n",
    "ration['total'] = ration['no'] + ration['yes']\n",
    "ration['All_campaign'] = df.groupby(['month'])['term_deposit'].count()\n",
    "ration['percent_campaign'] = ration['total']/ration['All_campaign']\n",
    "ration.sort_values(['yes'], ascending = False)"
   ]
  },
  {
   "cell_type": "markdown",
   "metadata": {},
   "source": [
    "Best Month for technician\n",
    "- April\n",
    "- oct"
   ]
  },
  {
   "cell_type": "markdown",
   "metadata": {},
   "source": [
    "### Blue-collar"
   ]
  },
  {
   "cell_type": "code",
   "execution_count": 61,
   "metadata": {},
   "outputs": [
    {
     "data": {
      "text/html": [
       "<div>\n",
       "<style scoped>\n",
       "    .dataframe tbody tr th:only-of-type {\n",
       "        vertical-align: middle;\n",
       "    }\n",
       "\n",
       "    .dataframe tbody tr th {\n",
       "        vertical-align: top;\n",
       "    }\n",
       "\n",
       "    .dataframe thead th {\n",
       "        text-align: right;\n",
       "    }\n",
       "</style>\n",
       "<table border=\"1\" class=\"dataframe\">\n",
       "  <thead>\n",
       "    <tr style=\"text-align: right;\">\n",
       "      <th>job</th>\n",
       "      <th>blue-collar</th>\n",
       "      <th>yes</th>\n",
       "      <th>no</th>\n",
       "      <th>total</th>\n",
       "      <th>All_campaign</th>\n",
       "      <th>percent_campaign</th>\n",
       "    </tr>\n",
       "    <tr>\n",
       "      <th>month</th>\n",
       "      <th></th>\n",
       "      <th></th>\n",
       "      <th></th>\n",
       "      <th></th>\n",
       "      <th></th>\n",
       "      <th></th>\n",
       "    </tr>\n",
       "  </thead>\n",
       "  <tbody>\n",
       "    <tr>\n",
       "      <th>may</th>\n",
       "      <td>5.104015</td>\n",
       "      <td>211</td>\n",
       "      <td>3923</td>\n",
       "      <td>4134</td>\n",
       "      <td>12882</td>\n",
       "      <td>0.320913</td>\n",
       "    </tr>\n",
       "    <tr>\n",
       "      <th>jul</th>\n",
       "      <td>7.755102</td>\n",
       "      <td>95</td>\n",
       "      <td>1130</td>\n",
       "      <td>1225</td>\n",
       "      <td>5826</td>\n",
       "      <td>0.210264</td>\n",
       "    </tr>\n",
       "    <tr>\n",
       "      <th>jun</th>\n",
       "      <td>6.375228</td>\n",
       "      <td>70</td>\n",
       "      <td>1028</td>\n",
       "      <td>1098</td>\n",
       "      <td>4634</td>\n",
       "      <td>0.236944</td>\n",
       "    </tr>\n",
       "    <tr>\n",
       "      <th>apr</th>\n",
       "      <td>8.991826</td>\n",
       "      <td>66</td>\n",
       "      <td>668</td>\n",
       "      <td>734</td>\n",
       "      <td>2686</td>\n",
       "      <td>0.273269</td>\n",
       "    </tr>\n",
       "    <tr>\n",
       "      <th>nov</th>\n",
       "      <td>7.300509</td>\n",
       "      <td>43</td>\n",
       "      <td>546</td>\n",
       "      <td>589</td>\n",
       "      <td>3824</td>\n",
       "      <td>0.154027</td>\n",
       "    </tr>\n",
       "    <tr>\n",
       "      <th>aug</th>\n",
       "      <td>8.453608</td>\n",
       "      <td>41</td>\n",
       "      <td>444</td>\n",
       "      <td>485</td>\n",
       "      <td>5122</td>\n",
       "      <td>0.094690</td>\n",
       "    </tr>\n",
       "    <tr>\n",
       "      <th>feb</th>\n",
       "      <td>5.397727</td>\n",
       "      <td>19</td>\n",
       "      <td>333</td>\n",
       "      <td>352</td>\n",
       "      <td>2173</td>\n",
       "      <td>0.161988</td>\n",
       "    </tr>\n",
       "    <tr>\n",
       "      <th>oct</th>\n",
       "      <td>39.024390</td>\n",
       "      <td>16</td>\n",
       "      <td>25</td>\n",
       "      <td>41</td>\n",
       "      <td>518</td>\n",
       "      <td>0.079151</td>\n",
       "    </tr>\n",
       "    <tr>\n",
       "      <th>sep</th>\n",
       "      <td>83.333333</td>\n",
       "      <td>10</td>\n",
       "      <td>2</td>\n",
       "      <td>12</td>\n",
       "      <td>278</td>\n",
       "      <td>0.043165</td>\n",
       "    </tr>\n",
       "    <tr>\n",
       "      <th>jan</th>\n",
       "      <td>3.409091</td>\n",
       "      <td>6</td>\n",
       "      <td>170</td>\n",
       "      <td>176</td>\n",
       "      <td>1224</td>\n",
       "      <td>0.143791</td>\n",
       "    </tr>\n",
       "    <tr>\n",
       "      <th>dec</th>\n",
       "      <td>45.454545</td>\n",
       "      <td>5</td>\n",
       "      <td>6</td>\n",
       "      <td>11</td>\n",
       "      <td>208</td>\n",
       "      <td>0.052885</td>\n",
       "    </tr>\n",
       "    <tr>\n",
       "      <th>mar</th>\n",
       "      <td>40.000000</td>\n",
       "      <td>4</td>\n",
       "      <td>6</td>\n",
       "      <td>10</td>\n",
       "      <td>243</td>\n",
       "      <td>0.041152</td>\n",
       "    </tr>\n",
       "  </tbody>\n",
       "</table>\n",
       "</div>"
      ],
      "text/plain": [
       "job    blue-collar  yes    no  total  All_campaign  percent_campaign\n",
       "month                                                               \n",
       "may       5.104015  211  3923   4134         12882          0.320913\n",
       "jul       7.755102   95  1130   1225          5826          0.210264\n",
       "jun       6.375228   70  1028   1098          4634          0.236944\n",
       "apr       8.991826   66   668    734          2686          0.273269\n",
       "nov       7.300509   43   546    589          3824          0.154027\n",
       "aug       8.453608   41   444    485          5122          0.094690\n",
       "feb       5.397727   19   333    352          2173          0.161988\n",
       "oct      39.024390   16    25     41           518          0.079151\n",
       "sep      83.333333   10     2     12           278          0.043165\n",
       "jan       3.409091    6   170    176          1224          0.143791\n",
       "dec      45.454545    5     6     11           208          0.052885\n",
       "mar      40.000000    4     6     10           243          0.041152"
      ]
     },
     "execution_count": 61,
     "metadata": {},
     "output_type": "execute_result"
    }
   ],
   "source": [
    "no = df[(df['term_deposit']=='no')]\n",
    "bulano= pd.crosstab(no['month'], no['job']).apply(lambda r: r, axis=1)\n",
    "data_pop = df[(df['job']=='blue-collar')]\n",
    "data_pop = pd.crosstab(data_pop['month'], data_pop['job']).apply(lambda r: r, axis=1)\n",
    "yes_data = yes[(yes['job']=='blue-collar')]\n",
    "no_data = no[(no['job']=='blue-collar')]\n",
    "bulanyes_data = pd.crosstab(yes_data['month'], yes_data['job']).apply(lambda r: r, axis=1)\n",
    "ration = (bulanyes_data/data_pop)*100\n",
    "ration['yes'] = yes_data.groupby(['month'])['term_deposit'].count()\n",
    "ration['no'] = no_data.groupby(['month'])['term_deposit'].count()\n",
    "ration['total'] = ration['no'] + ration['yes']\n",
    "ration['All_campaign'] = df.groupby(['month'])['term_deposit'].count()\n",
    "ration['percent_campaign'] = ration['total']/ration['All_campaign']\n",
    "ration.sort_values(['yes'], ascending = False)"
   ]
  },
  {
   "cell_type": "markdown",
   "metadata": {},
   "source": [
    "Best Month for Blue Collar\n",
    "- April\n",
    "- Juli"
   ]
  },
  {
   "cell_type": "markdown",
   "metadata": {},
   "source": [
    "## Campaign X Pdays X Term Deposit"
   ]
  },
  {
   "cell_type": "markdown",
   "metadata": {},
   "source": [
    "Analisa lanjutan antara korelasi campaign dengan pdays dengan term deposit, untuk mengetahui jumlah campaign dan jarak antar campaign yang lebih potensial"
   ]
  },
  {
   "cell_type": "markdown",
   "metadata": {},
   "source": [
    "### Kelompok campaign 1 - 3 kali (jarang)"
   ]
  },
  {
   "cell_type": "code",
   "execution_count": 62,
   "metadata": {},
   "outputs": [
    {
     "data": {
      "text/html": [
       "<div>\n",
       "<style scoped>\n",
       "    .dataframe tbody tr th:only-of-type {\n",
       "        vertical-align: middle;\n",
       "    }\n",
       "\n",
       "    .dataframe tbody tr th {\n",
       "        vertical-align: top;\n",
       "    }\n",
       "\n",
       "    .dataframe thead th {\n",
       "        text-align: right;\n",
       "    }\n",
       "</style>\n",
       "<table border=\"1\" class=\"dataframe\">\n",
       "  <thead>\n",
       "    <tr style=\"text-align: right;\">\n",
       "      <th>campaign_rev</th>\n",
       "      <th>jarang</th>\n",
       "      <th>yes</th>\n",
       "      <th>no</th>\n",
       "      <th>total</th>\n",
       "      <th>All_campaign</th>\n",
       "      <th>percent_campaign</th>\n",
       "    </tr>\n",
       "    <tr>\n",
       "      <th>pdays_rev</th>\n",
       "      <th></th>\n",
       "      <th></th>\n",
       "      <th></th>\n",
       "      <th></th>\n",
       "      <th></th>\n",
       "      <th></th>\n",
       "    </tr>\n",
       "  </thead>\n",
       "  <tbody>\n",
       "    <tr>\n",
       "      <th>1</th>\n",
       "      <td>16.514340</td>\n",
       "      <td>524</td>\n",
       "      <td>2649</td>\n",
       "      <td>3173</td>\n",
       "      <td>3191</td>\n",
       "      <td>0.994359</td>\n",
       "    </tr>\n",
       "    <tr>\n",
       "      <th>3</th>\n",
       "      <td>38.709677</td>\n",
       "      <td>156</td>\n",
       "      <td>247</td>\n",
       "      <td>403</td>\n",
       "      <td>484</td>\n",
       "      <td>0.832645</td>\n",
       "    </tr>\n",
       "    <tr>\n",
       "      <th>6</th>\n",
       "      <td>19.366197</td>\n",
       "      <td>55</td>\n",
       "      <td>229</td>\n",
       "      <td>284</td>\n",
       "      <td>360</td>\n",
       "      <td>0.788889</td>\n",
       "    </tr>\n",
       "    <tr>\n",
       "      <th>11</th>\n",
       "      <td>7.025761</td>\n",
       "      <td>30</td>\n",
       "      <td>397</td>\n",
       "      <td>427</td>\n",
       "      <td>556</td>\n",
       "      <td>0.767986</td>\n",
       "    </tr>\n",
       "    <tr>\n",
       "      <th>4</th>\n",
       "      <td>17.500000</td>\n",
       "      <td>28</td>\n",
       "      <td>132</td>\n",
       "      <td>160</td>\n",
       "      <td>189</td>\n",
       "      <td>0.846561</td>\n",
       "    </tr>\n",
       "    <tr>\n",
       "      <th>9</th>\n",
       "      <td>13.661202</td>\n",
       "      <td>25</td>\n",
       "      <td>158</td>\n",
       "      <td>183</td>\n",
       "      <td>231</td>\n",
       "      <td>0.792208</td>\n",
       "    </tr>\n",
       "    <tr>\n",
       "      <th>12</th>\n",
       "      <td>10.330579</td>\n",
       "      <td>25</td>\n",
       "      <td>217</td>\n",
       "      <td>242</td>\n",
       "      <td>326</td>\n",
       "      <td>0.742331</td>\n",
       "    </tr>\n",
       "    <tr>\n",
       "      <th>5</th>\n",
       "      <td>8.000000</td>\n",
       "      <td>22</td>\n",
       "      <td>253</td>\n",
       "      <td>275</td>\n",
       "      <td>374</td>\n",
       "      <td>0.735294</td>\n",
       "    </tr>\n",
       "    <tr>\n",
       "      <th>10</th>\n",
       "      <td>9.189189</td>\n",
       "      <td>17</td>\n",
       "      <td>168</td>\n",
       "      <td>185</td>\n",
       "      <td>236</td>\n",
       "      <td>0.783898</td>\n",
       "    </tr>\n",
       "    <tr>\n",
       "      <th>8</th>\n",
       "      <td>5.394191</td>\n",
       "      <td>13</td>\n",
       "      <td>228</td>\n",
       "      <td>241</td>\n",
       "      <td>303</td>\n",
       "      <td>0.795380</td>\n",
       "    </tr>\n",
       "    <tr>\n",
       "      <th>2</th>\n",
       "      <td>47.058824</td>\n",
       "      <td>8</td>\n",
       "      <td>9</td>\n",
       "      <td>17</td>\n",
       "      <td>21</td>\n",
       "      <td>0.809524</td>\n",
       "    </tr>\n",
       "    <tr>\n",
       "      <th>7</th>\n",
       "      <td>8.045977</td>\n",
       "      <td>7</td>\n",
       "      <td>80</td>\n",
       "      <td>87</td>\n",
       "      <td>104</td>\n",
       "      <td>0.836538</td>\n",
       "    </tr>\n",
       "  </tbody>\n",
       "</table>\n",
       "</div>"
      ],
      "text/plain": [
       "campaign_rev     jarang  yes    no  total  All_campaign  percent_campaign\n",
       "pdays_rev                                                                \n",
       "1             16.514340  524  2649   3173          3191          0.994359\n",
       "3             38.709677  156   247    403           484          0.832645\n",
       "6             19.366197   55   229    284           360          0.788889\n",
       "11             7.025761   30   397    427           556          0.767986\n",
       "4             17.500000   28   132    160           189          0.846561\n",
       "9             13.661202   25   158    183           231          0.792208\n",
       "12            10.330579   25   217    242           326          0.742331\n",
       "5              8.000000   22   253    275           374          0.735294\n",
       "10             9.189189   17   168    185           236          0.783898\n",
       "8              5.394191   13   228    241           303          0.795380\n",
       "2             47.058824    8     9     17            21          0.809524\n",
       "7              8.045977    7    80     87           104          0.836538"
      ]
     },
     "execution_count": 62,
     "metadata": {},
     "output_type": "execute_result"
    }
   ],
   "source": [
    "yes = df[(df['term_deposit']=='yes')]\n",
    "no = df[(df['term_deposit']=='no')]\n",
    "bulano= pd.crosstab(no['pdays_rev'], no['campaign_rev']).apply(lambda r: r, axis=1)\n",
    "data_pop = df[(df['campaign_rev']=='jarang')]\n",
    "data_pop = pd.crosstab(data_pop['pdays_rev'], data_pop['campaign_rev']).apply(lambda r: r, axis=1)\n",
    "yes_data = yes[(yes['campaign_rev']=='jarang')]\n",
    "no_data = no[(no['campaign_rev']=='jarang')]\n",
    "bulanyes_data = pd.crosstab(yes_data['pdays_rev'], yes_data['campaign_rev']).apply(lambda r: r, axis=1)\n",
    "ration = (bulanyes_data/data_pop)*100\n",
    "ration['yes'] = yes_data.groupby(['pdays_rev'])['campaign_rev'].count()\n",
    "ration['no'] = no_data.groupby(['pdays_rev'])['campaign_rev'].count()\n",
    "ration['total'] = ration['no'] + ration['yes']\n",
    "ration['All_campaign'] = df.groupby(['pdays_rev'])['campaign_rev'].count()\n",
    "ration['percent_campaign'] = ration['total']/ration['All_campaign']\n",
    "ration.sort_values(['yes'], ascending = False)"
   ]
  },
  {
   "cell_type": "markdown",
   "metadata": {},
   "source": [
    "Untuk campaign 1 - 3 kali, jarak ideal antar campaign adalah 4 bulan dengan conversation rate 38,70%"
   ]
  },
  {
   "cell_type": "markdown",
   "metadata": {},
   "source": [
    "### Kelompok campaign 4 - 5 kali (Sering)"
   ]
  },
  {
   "cell_type": "code",
   "execution_count": 63,
   "metadata": {},
   "outputs": [
    {
     "data": {
      "text/html": [
       "<div>\n",
       "<style scoped>\n",
       "    .dataframe tbody tr th:only-of-type {\n",
       "        vertical-align: middle;\n",
       "    }\n",
       "\n",
       "    .dataframe tbody tr th {\n",
       "        vertical-align: top;\n",
       "    }\n",
       "\n",
       "    .dataframe thead th {\n",
       "        text-align: right;\n",
       "    }\n",
       "</style>\n",
       "<table border=\"1\" class=\"dataframe\">\n",
       "  <thead>\n",
       "    <tr style=\"text-align: right;\">\n",
       "      <th>campaign_rev</th>\n",
       "      <th>sering</th>\n",
       "      <th>yes</th>\n",
       "      <th>no</th>\n",
       "      <th>total</th>\n",
       "      <th>All_campaign</th>\n",
       "      <th>percent_campaign</th>\n",
       "    </tr>\n",
       "    <tr>\n",
       "      <th>pdays_rev</th>\n",
       "      <th></th>\n",
       "      <th></th>\n",
       "      <th></th>\n",
       "      <th></th>\n",
       "      <th></th>\n",
       "      <th></th>\n",
       "    </tr>\n",
       "  </thead>\n",
       "  <tbody>\n",
       "    <tr>\n",
       "      <th>6</th>\n",
       "      <td>18.032787</td>\n",
       "      <td>11.0</td>\n",
       "      <td>50</td>\n",
       "      <td>61.0</td>\n",
       "      <td>360</td>\n",
       "      <td>0.169444</td>\n",
       "    </tr>\n",
       "    <tr>\n",
       "      <th>11</th>\n",
       "      <td>9.259259</td>\n",
       "      <td>10.0</td>\n",
       "      <td>98</td>\n",
       "      <td>108.0</td>\n",
       "      <td>556</td>\n",
       "      <td>0.194245</td>\n",
       "    </tr>\n",
       "    <tr>\n",
       "      <th>3</th>\n",
       "      <td>12.307692</td>\n",
       "      <td>8.0</td>\n",
       "      <td>57</td>\n",
       "      <td>65.0</td>\n",
       "      <td>484</td>\n",
       "      <td>0.134298</td>\n",
       "    </tr>\n",
       "    <tr>\n",
       "      <th>12</th>\n",
       "      <td>8.955224</td>\n",
       "      <td>6.0</td>\n",
       "      <td>61</td>\n",
       "      <td>67.0</td>\n",
       "      <td>326</td>\n",
       "      <td>0.205521</td>\n",
       "    </tr>\n",
       "    <tr>\n",
       "      <th>5</th>\n",
       "      <td>6.849315</td>\n",
       "      <td>5.0</td>\n",
       "      <td>68</td>\n",
       "      <td>73.0</td>\n",
       "      <td>374</td>\n",
       "      <td>0.195187</td>\n",
       "    </tr>\n",
       "    <tr>\n",
       "      <th>4</th>\n",
       "      <td>15.384615</td>\n",
       "      <td>4.0</td>\n",
       "      <td>22</td>\n",
       "      <td>26.0</td>\n",
       "      <td>189</td>\n",
       "      <td>0.137566</td>\n",
       "    </tr>\n",
       "    <tr>\n",
       "      <th>8</th>\n",
       "      <td>8.163265</td>\n",
       "      <td>4.0</td>\n",
       "      <td>45</td>\n",
       "      <td>49.0</td>\n",
       "      <td>303</td>\n",
       "      <td>0.161716</td>\n",
       "    </tr>\n",
       "    <tr>\n",
       "      <th>10</th>\n",
       "      <td>4.878049</td>\n",
       "      <td>2.0</td>\n",
       "      <td>39</td>\n",
       "      <td>41.0</td>\n",
       "      <td>236</td>\n",
       "      <td>0.173729</td>\n",
       "    </tr>\n",
       "    <tr>\n",
       "      <th>7</th>\n",
       "      <td>7.692308</td>\n",
       "      <td>1.0</td>\n",
       "      <td>12</td>\n",
       "      <td>13.0</td>\n",
       "      <td>104</td>\n",
       "      <td>0.125000</td>\n",
       "    </tr>\n",
       "    <tr>\n",
       "      <th>1</th>\n",
       "      <td>NaN</td>\n",
       "      <td>NaN</td>\n",
       "      <td>15</td>\n",
       "      <td>NaN</td>\n",
       "      <td>3191</td>\n",
       "      <td>NaN</td>\n",
       "    </tr>\n",
       "    <tr>\n",
       "      <th>2</th>\n",
       "      <td>NaN</td>\n",
       "      <td>NaN</td>\n",
       "      <td>3</td>\n",
       "      <td>NaN</td>\n",
       "      <td>21</td>\n",
       "      <td>NaN</td>\n",
       "    </tr>\n",
       "    <tr>\n",
       "      <th>9</th>\n",
       "      <td>NaN</td>\n",
       "      <td>NaN</td>\n",
       "      <td>41</td>\n",
       "      <td>NaN</td>\n",
       "      <td>231</td>\n",
       "      <td>NaN</td>\n",
       "    </tr>\n",
       "  </tbody>\n",
       "</table>\n",
       "</div>"
      ],
      "text/plain": [
       "campaign_rev     sering   yes  no  total  All_campaign  percent_campaign\n",
       "pdays_rev                                                               \n",
       "6             18.032787  11.0  50   61.0           360          0.169444\n",
       "11             9.259259  10.0  98  108.0           556          0.194245\n",
       "3             12.307692   8.0  57   65.0           484          0.134298\n",
       "12             8.955224   6.0  61   67.0           326          0.205521\n",
       "5              6.849315   5.0  68   73.0           374          0.195187\n",
       "4             15.384615   4.0  22   26.0           189          0.137566\n",
       "8              8.163265   4.0  45   49.0           303          0.161716\n",
       "10             4.878049   2.0  39   41.0           236          0.173729\n",
       "7              7.692308   1.0  12   13.0           104          0.125000\n",
       "1                   NaN   NaN  15    NaN          3191               NaN\n",
       "2                   NaN   NaN   3    NaN            21               NaN\n",
       "9                   NaN   NaN  41    NaN           231               NaN"
      ]
     },
     "execution_count": 63,
     "metadata": {},
     "output_type": "execute_result"
    }
   ],
   "source": [
    "yes = df[(df['term_deposit']=='yes')]\n",
    "no = df[(df['term_deposit']=='no')]\n",
    "bulano= pd.crosstab(no['pdays_rev'], no['campaign_rev']).apply(lambda r: r, axis=1)\n",
    "data_pop = df[(df['campaign_rev']=='sering')]\n",
    "data_pop = pd.crosstab(data_pop['pdays_rev'], data_pop['campaign_rev']).apply(lambda r: r, axis=1)\n",
    "yes_data = yes[(yes['campaign_rev']=='sering')]\n",
    "no_data = no[(no['campaign_rev']=='sering')]\n",
    "bulanyes_data = pd.crosstab(yes_data['pdays_rev'], yes_data['campaign_rev']).apply(lambda r: r, axis=1)\n",
    "ration = (bulanyes_data/data_pop)*100\n",
    "ration['yes'] = yes_data.groupby(['pdays_rev'])['campaign_rev'].count()\n",
    "ration['no'] = no_data.groupby(['pdays_rev'])['campaign_rev'].count()\n",
    "ration['total'] = ration['no'] + ration['yes']\n",
    "ration['All_campaign'] = df.groupby(['pdays_rev'])['campaign_rev'].count()\n",
    "ration['percent_campaign'] = ration['total']/ration['All_campaign']\n",
    "ration.sort_values(['yes'], ascending = False)"
   ]
  },
  {
   "cell_type": "markdown",
   "metadata": {},
   "source": [
    "Untuk campaign 4 - 5 kali, jarak ideal antar campaign adalah 7 bulan dengan conversation rate 11%"
   ]
  },
  {
   "cell_type": "markdown",
   "metadata": {},
   "source": [
    "### Kelompok campaign 6 dan seterusnya (Sangat Sering)"
   ]
  },
  {
   "cell_type": "code",
   "execution_count": 64,
   "metadata": {},
   "outputs": [
    {
     "data": {
      "text/html": [
       "<div>\n",
       "<style scoped>\n",
       "    .dataframe tbody tr th:only-of-type {\n",
       "        vertical-align: middle;\n",
       "    }\n",
       "\n",
       "    .dataframe tbody tr th {\n",
       "        vertical-align: top;\n",
       "    }\n",
       "\n",
       "    .dataframe thead th {\n",
       "        text-align: right;\n",
       "    }\n",
       "</style>\n",
       "<table border=\"1\" class=\"dataframe\">\n",
       "  <thead>\n",
       "    <tr style=\"text-align: right;\">\n",
       "      <th>campaign_rev</th>\n",
       "      <th>sangat_sering</th>\n",
       "      <th>yes</th>\n",
       "      <th>no</th>\n",
       "      <th>total</th>\n",
       "      <th>All_campaign</th>\n",
       "      <th>percent_campaign</th>\n",
       "    </tr>\n",
       "    <tr>\n",
       "      <th>pdays_rev</th>\n",
       "      <th></th>\n",
       "      <th></th>\n",
       "      <th></th>\n",
       "      <th></th>\n",
       "      <th></th>\n",
       "      <th></th>\n",
       "    </tr>\n",
       "  </thead>\n",
       "  <tbody>\n",
       "    <tr>\n",
       "      <th>3</th>\n",
       "      <td>25.000000</td>\n",
       "      <td>4.0</td>\n",
       "      <td>12</td>\n",
       "      <td>16.0</td>\n",
       "      <td>484</td>\n",
       "      <td>0.033058</td>\n",
       "    </tr>\n",
       "    <tr>\n",
       "      <th>5</th>\n",
       "      <td>3.846154</td>\n",
       "      <td>1.0</td>\n",
       "      <td>25</td>\n",
       "      <td>26.0</td>\n",
       "      <td>374</td>\n",
       "      <td>0.069519</td>\n",
       "    </tr>\n",
       "    <tr>\n",
       "      <th>10</th>\n",
       "      <td>10.000000</td>\n",
       "      <td>1.0</td>\n",
       "      <td>9</td>\n",
       "      <td>10.0</td>\n",
       "      <td>236</td>\n",
       "      <td>0.042373</td>\n",
       "    </tr>\n",
       "    <tr>\n",
       "      <th>11</th>\n",
       "      <td>4.761905</td>\n",
       "      <td>1.0</td>\n",
       "      <td>20</td>\n",
       "      <td>21.0</td>\n",
       "      <td>556</td>\n",
       "      <td>0.037770</td>\n",
       "    </tr>\n",
       "    <tr>\n",
       "      <th>12</th>\n",
       "      <td>5.882353</td>\n",
       "      <td>1.0</td>\n",
       "      <td>16</td>\n",
       "      <td>17.0</td>\n",
       "      <td>326</td>\n",
       "      <td>0.052147</td>\n",
       "    </tr>\n",
       "    <tr>\n",
       "      <th>1</th>\n",
       "      <td>NaN</td>\n",
       "      <td>NaN</td>\n",
       "      <td>3</td>\n",
       "      <td>NaN</td>\n",
       "      <td>3191</td>\n",
       "      <td>NaN</td>\n",
       "    </tr>\n",
       "    <tr>\n",
       "      <th>2</th>\n",
       "      <td>NaN</td>\n",
       "      <td>NaN</td>\n",
       "      <td>1</td>\n",
       "      <td>NaN</td>\n",
       "      <td>21</td>\n",
       "      <td>NaN</td>\n",
       "    </tr>\n",
       "    <tr>\n",
       "      <th>4</th>\n",
       "      <td>NaN</td>\n",
       "      <td>NaN</td>\n",
       "      <td>3</td>\n",
       "      <td>NaN</td>\n",
       "      <td>189</td>\n",
       "      <td>NaN</td>\n",
       "    </tr>\n",
       "    <tr>\n",
       "      <th>6</th>\n",
       "      <td>NaN</td>\n",
       "      <td>NaN</td>\n",
       "      <td>15</td>\n",
       "      <td>NaN</td>\n",
       "      <td>360</td>\n",
       "      <td>NaN</td>\n",
       "    </tr>\n",
       "    <tr>\n",
       "      <th>7</th>\n",
       "      <td>NaN</td>\n",
       "      <td>NaN</td>\n",
       "      <td>4</td>\n",
       "      <td>NaN</td>\n",
       "      <td>104</td>\n",
       "      <td>NaN</td>\n",
       "    </tr>\n",
       "    <tr>\n",
       "      <th>8</th>\n",
       "      <td>NaN</td>\n",
       "      <td>NaN</td>\n",
       "      <td>13</td>\n",
       "      <td>NaN</td>\n",
       "      <td>303</td>\n",
       "      <td>NaN</td>\n",
       "    </tr>\n",
       "    <tr>\n",
       "      <th>9</th>\n",
       "      <td>NaN</td>\n",
       "      <td>NaN</td>\n",
       "      <td>7</td>\n",
       "      <td>NaN</td>\n",
       "      <td>231</td>\n",
       "      <td>NaN</td>\n",
       "    </tr>\n",
       "  </tbody>\n",
       "</table>\n",
       "</div>"
      ],
      "text/plain": [
       "campaign_rev  sangat_sering  yes  no  total  All_campaign  percent_campaign\n",
       "pdays_rev                                                                  \n",
       "3                 25.000000  4.0  12   16.0           484          0.033058\n",
       "5                  3.846154  1.0  25   26.0           374          0.069519\n",
       "10                10.000000  1.0   9   10.0           236          0.042373\n",
       "11                 4.761905  1.0  20   21.0           556          0.037770\n",
       "12                 5.882353  1.0  16   17.0           326          0.052147\n",
       "1                       NaN  NaN   3    NaN          3191               NaN\n",
       "2                       NaN  NaN   1    NaN            21               NaN\n",
       "4                       NaN  NaN   3    NaN           189               NaN\n",
       "6                       NaN  NaN  15    NaN           360               NaN\n",
       "7                       NaN  NaN   4    NaN           104               NaN\n",
       "8                       NaN  NaN  13    NaN           303               NaN\n",
       "9                       NaN  NaN   7    NaN           231               NaN"
      ]
     },
     "execution_count": 64,
     "metadata": {},
     "output_type": "execute_result"
    }
   ],
   "source": [
    "yes = df[(df['term_deposit']=='yes')]\n",
    "no = df[(df['term_deposit']=='no')]\n",
    "bulano= pd.crosstab(no['pdays_rev'], no['campaign_rev']).apply(lambda r: r, axis=1)\n",
    "data_pop = df[(df['campaign_rev']=='sangat_sering')]\n",
    "data_pop = pd.crosstab(data_pop['pdays_rev'], data_pop['campaign_rev']).apply(lambda r: r, axis=1)\n",
    "yes_data = yes[(yes['campaign_rev']=='sangat_sering')]\n",
    "no_data = no[(no['campaign_rev']=='sangat_sering')]\n",
    "bulanyes_data = pd.crosstab(yes_data['pdays_rev'], yes_data['campaign_rev']).apply(lambda r: r, axis=1)\n",
    "ration = (bulanyes_data/data_pop)*100\n",
    "ration['yes'] = yes_data.groupby(['pdays_rev'])['campaign_rev'].count()\n",
    "ration['no'] = no_data.groupby(['pdays_rev'])['campaign_rev'].count()\n",
    "ration['total'] = ration['no'] + ration['yes']\n",
    "ration['All_campaign'] = df.groupby(['pdays_rev'])['campaign_rev'].count()\n",
    "ration['percent_campaign'] = ration['total']/ration['All_campaign']\n",
    "ration.sort_values(['yes'], ascending = False)"
   ]
  },
  {
   "cell_type": "markdown",
   "metadata": {},
   "source": [
    "Untuk campaign yang ke 6 kali dan seterusnya, jarak ideal antar campaign adalah 4 bulan dengan conversation rate 25%"
   ]
  },
  {
   "cell_type": "markdown",
   "metadata": {},
   "source": [
    "# Modeling"
   ]
  },
  {
   "cell_type": "code",
   "execution_count": 65,
   "metadata": {},
   "outputs": [],
   "source": [
    "y = df[\"term_deposit\"].map({\"no\":0, \"yes\":1})\n",
    "X = df.drop(\"term_deposit\", axis=1)"
   ]
  },
  {
   "cell_type": "code",
   "execution_count": 66,
   "metadata": {},
   "outputs": [],
   "source": [
    "X.drop(\"duration\", inplace=True, axis=1)"
   ]
  },
  {
   "cell_type": "code",
   "execution_count": 67,
   "metadata": {},
   "outputs": [],
   "source": [
    "X.drop(\"default\", inplace=True, axis=1)"
   ]
  },
  {
   "cell_type": "code",
   "execution_count": 68,
   "metadata": {},
   "outputs": [],
   "source": [
    "X.drop(\"previous\", inplace=True, axis=1)"
   ]
  },
  {
   "cell_type": "code",
   "execution_count": 69,
   "metadata": {},
   "outputs": [
    {
     "data": {
      "text/plain": [
       "age              int64\n",
       "job             object\n",
       "marital         object\n",
       "education       object\n",
       "balance          int64\n",
       "housing         object\n",
       "loan            object\n",
       "contact         object\n",
       "day              int64\n",
       "month           object\n",
       "campaign         int64\n",
       "pdays            int64\n",
       "poutcome        object\n",
       "age_cat         object\n",
       "balance_cat      int64\n",
       "day_cat          int64\n",
       "pdyas_new        int64\n",
       "campaign_cat    object\n",
       "pdays_rev        int64\n",
       "campaign_rev    object\n",
       "dtype: object"
      ]
     },
     "execution_count": 69,
     "metadata": {},
     "output_type": "execute_result"
    }
   ],
   "source": [
    "X.dtypes"
   ]
  },
  {
   "cell_type": "code",
   "execution_count": 70,
   "metadata": {},
   "outputs": [],
   "source": [
    "num_features = ['pdays_rev','balance_cat']\n",
    "\n",
    "cat_features = [\"job\",'marital', \"education\",\"housing\", \"loan\",\"contact\",  \"poutcome\",'month','campaign_rev','age_cat']"
   ]
  },
  {
   "cell_type": "markdown",
   "metadata": {},
   "source": [
    "### Feature Encoding"
   ]
  },
  {
   "cell_type": "markdown",
   "metadata": {},
   "source": [
    "We'll define a new ColumnTransformer object. that keeps our numerical features and apply one hot encoding on our categorical features. That will allow us to create a clean pipeline that includes both features engineering (one hot encoding here) and training the model (a nice way to avoid data leakage)"
   ]
  },
  {
   "cell_type": "code",
   "execution_count": 71,
   "metadata": {},
   "outputs": [],
   "source": [
    "preprocessor = ColumnTransformer([(\"numerical\", \"passthrough\", num_features), \n",
    "                                  (\"categorical\", OneHotEncoder(sparse=False, handle_unknown=\"ignore\"),\n",
    "                                   cat_features)])"
   ]
  },
  {
   "cell_type": "markdown",
   "metadata": {},
   "source": [
    "### Creating Model"
   ]
  },
  {
   "cell_type": "markdown",
   "metadata": {},
   "source": [
    "we can define our 4 models as sklearn Pipeline object, containing our preprocessing step and training of one given algorithm."
   ]
  },
  {
   "cell_type": "code",
   "execution_count": 72,
   "metadata": {},
   "outputs": [],
   "source": [
    "# Logistic Regression\n",
    "lr_model = Pipeline([(\"preprocessor\", preprocessor), \n",
    "                     (\"model\", LogisticRegression(class_weight={0: 0.095, 1: 0.905}, solver=\"liblinear\", random_state=42))])\n",
    "\n",
    "# Decision Tree\n",
    "dt_model = Pipeline([(\"preprocessor\", preprocessor), \n",
    "                     (\"model\", DecisionTreeClassifier(class_weight={0: 0.095, 1: 0.905}))])\n",
    "\n",
    "# Random Forest\n",
    "rf_model = Pipeline([(\"preprocessor\", preprocessor), \n",
    "                     (\"model\", RandomForestClassifier(class_weight={0: 0.095, 1: 0.905}, n_estimators=100, n_jobs=-1))])\n",
    "\n",
    "# XGBoost\n",
    "xgb_model = Pipeline([(\"preprocessor\", preprocessor), \n",
    "                      # Add a scale_pos_weight to make it balanced\n",
    "                      (\"model\", XGBClassifier(scale_pos_weight=(1 - y.mean()), n_jobs=-1))])"
   ]
  },
  {
   "cell_type": "markdown",
   "metadata": {},
   "source": [
    "#### Splitting data "
   ]
  },
  {
   "cell_type": "code",
   "execution_count": 73,
   "metadata": {},
   "outputs": [],
   "source": [
    "X_train, X_test, y_train, y_test = train_test_split(X, y, stratify=y, test_size=.3, random_state=42)"
   ]
  },
  {
   "cell_type": "markdown",
   "metadata": {},
   "source": [
    "#### Logistic Regression"
   ]
  },
  {
   "cell_type": "markdown",
   "metadata": {},
   "source": [
    "First let's fine tune our logistic regression and evaluate its performance."
   ]
  },
  {
   "cell_type": "code",
   "execution_count": 74,
   "metadata": {},
   "outputs": [
    {
     "data": {
      "text/plain": [
       "GridSearchCV(cv=5,\n",
       "             estimator=Pipeline(steps=[('preprocessor',\n",
       "                                        ColumnTransformer(transformers=[('numerical',\n",
       "                                                                         'passthrough',\n",
       "                                                                         ['pdays_rev',\n",
       "                                                                          'balance_cat']),\n",
       "                                                                        ('categorical',\n",
       "                                                                         OneHotEncoder(handle_unknown='ignore',\n",
       "                                                                                       sparse=False),\n",
       "                                                                         ['job',\n",
       "                                                                          'marital',\n",
       "                                                                          'education',\n",
       "                                                                          'housing',\n",
       "                                                                          'loan',\n",
       "                                                                          'contact',\n",
       "                                                                          'poutcome',\n",
       "                                                                          'month',\n",
       "                                                                          'campaign_rev',\n",
       "                                                                          'age_cat'])])),\n",
       "                                       ('model',\n",
       "                                        LogisticRegression(class_weight={0: 0.095,\n",
       "                                                                         1: 0.905},\n",
       "                                                           random_state=42,\n",
       "                                                           solver='liblinear'))]),\n",
       "             n_jobs=-1, param_grid={'model__C': [1, 1.3, 1.5]},\n",
       "             scoring='recall')"
      ]
     },
     "execution_count": 74,
     "metadata": {},
     "output_type": "execute_result"
    }
   ],
   "source": [
    "gs = GridSearchCV(lr_model, {\"model__C\": [1, 1.3, 1.5]}, n_jobs=-1, cv=5, scoring=\"recall\")\n",
    "gs.fit(X_train, y_train)"
   ]
  },
  {
   "cell_type": "markdown",
   "metadata": {},
   "source": [
    "Let's see our best parameters and score"
   ]
  },
  {
   "cell_type": "code",
   "execution_count": 75,
   "metadata": {},
   "outputs": [
    {
     "name": "stdout",
     "output_type": "stream",
     "text": [
      "{'model__C': 1}\n",
      "0.6196205677482586\n"
     ]
    }
   ],
   "source": [
    "print(gs.best_params_)\n",
    "print(gs.best_score_)"
   ]
  },
  {
   "cell_type": "code",
   "execution_count": 76,
   "metadata": {},
   "outputs": [
    {
     "data": {
      "text/plain": [
       "Pipeline(steps=[('preprocessor',\n",
       "                 ColumnTransformer(transformers=[('numerical', 'passthrough',\n",
       "                                                  ['pdays_rev', 'balance_cat']),\n",
       "                                                 ('categorical',\n",
       "                                                  OneHotEncoder(handle_unknown='ignore',\n",
       "                                                                sparse=False),\n",
       "                                                  ['job', 'marital',\n",
       "                                                   'education', 'housing',\n",
       "                                                   'loan', 'contact',\n",
       "                                                   'poutcome', 'month',\n",
       "                                                   'campaign_rev',\n",
       "                                                   'age_cat'])])),\n",
       "                ('model',\n",
       "                 LogisticRegression(C=1, class_weight={0: 0.095, 1: 0.905},\n",
       "                                    random_state=42, solver='liblinear'))])"
      ]
     },
     "execution_count": 76,
     "metadata": {},
     "output_type": "execute_result"
    }
   ],
   "source": [
    "lr_model.set_params(**gs.best_params_)"
   ]
  },
  {
   "cell_type": "code",
   "execution_count": 77,
   "metadata": {},
   "outputs": [
    {
     "data": {
      "text/plain": [
       "{'memory': None,\n",
       " 'steps': [('preprocessor',\n",
       "   ColumnTransformer(transformers=[('numerical', 'passthrough',\n",
       "                                    ['pdays_rev', 'balance_cat']),\n",
       "                                   ('categorical',\n",
       "                                    OneHotEncoder(handle_unknown='ignore',\n",
       "                                                  sparse=False),\n",
       "                                    ['job', 'marital', 'education', 'housing',\n",
       "                                     'loan', 'contact', 'poutcome', 'month',\n",
       "                                     'campaign_rev', 'age_cat'])])),\n",
       "  ('model',\n",
       "   LogisticRegression(C=1, class_weight={0: 0.095, 1: 0.905}, random_state=42,\n",
       "                      solver='liblinear'))],\n",
       " 'verbose': False,\n",
       " 'preprocessor': ColumnTransformer(transformers=[('numerical', 'passthrough',\n",
       "                                  ['pdays_rev', 'balance_cat']),\n",
       "                                 ('categorical',\n",
       "                                  OneHotEncoder(handle_unknown='ignore',\n",
       "                                                sparse=False),\n",
       "                                  ['job', 'marital', 'education', 'housing',\n",
       "                                   'loan', 'contact', 'poutcome', 'month',\n",
       "                                   'campaign_rev', 'age_cat'])]),\n",
       " 'model': LogisticRegression(C=1, class_weight={0: 0.095, 1: 0.905}, random_state=42,\n",
       "                    solver='liblinear'),\n",
       " 'preprocessor__n_jobs': None,\n",
       " 'preprocessor__remainder': 'drop',\n",
       " 'preprocessor__sparse_threshold': 0.3,\n",
       " 'preprocessor__transformer_weights': None,\n",
       " 'preprocessor__transformers': [('numerical',\n",
       "   'passthrough',\n",
       "   ['pdays_rev', 'balance_cat']),\n",
       "  ('categorical',\n",
       "   OneHotEncoder(handle_unknown='ignore', sparse=False),\n",
       "   ['job',\n",
       "    'marital',\n",
       "    'education',\n",
       "    'housing',\n",
       "    'loan',\n",
       "    'contact',\n",
       "    'poutcome',\n",
       "    'month',\n",
       "    'campaign_rev',\n",
       "    'age_cat'])],\n",
       " 'preprocessor__verbose': False,\n",
       " 'preprocessor__numerical': 'passthrough',\n",
       " 'preprocessor__categorical': OneHotEncoder(handle_unknown='ignore', sparse=False),\n",
       " 'preprocessor__categorical__categories': 'auto',\n",
       " 'preprocessor__categorical__drop': None,\n",
       " 'preprocessor__categorical__dtype': numpy.float64,\n",
       " 'preprocessor__categorical__handle_unknown': 'ignore',\n",
       " 'preprocessor__categorical__sparse': False,\n",
       " 'model__C': 1,\n",
       " 'model__class_weight': {0: 0.095, 1: 0.905},\n",
       " 'model__dual': False,\n",
       " 'model__fit_intercept': True,\n",
       " 'model__intercept_scaling': 1,\n",
       " 'model__l1_ratio': None,\n",
       " 'model__max_iter': 100,\n",
       " 'model__multi_class': 'auto',\n",
       " 'model__n_jobs': None,\n",
       " 'model__penalty': 'l2',\n",
       " 'model__random_state': 42,\n",
       " 'model__solver': 'liblinear',\n",
       " 'model__tol': 0.0001,\n",
       " 'model__verbose': 0,\n",
       " 'model__warm_start': False}"
      ]
     },
     "execution_count": 77,
     "metadata": {},
     "output_type": "execute_result"
    }
   ],
   "source": [
    "lr_model.get_params(\"model\")"
   ]
  },
  {
   "cell_type": "markdown",
   "metadata": {},
   "source": [
    "### Training"
   ]
  },
  {
   "cell_type": "code",
   "execution_count": 78,
   "metadata": {},
   "outputs": [
    {
     "data": {
      "text/plain": [
       "Pipeline(steps=[('preprocessor',\n",
       "                 ColumnTransformer(transformers=[('numerical', 'passthrough',\n",
       "                                                  ['pdays_rev', 'balance_cat']),\n",
       "                                                 ('categorical',\n",
       "                                                  OneHotEncoder(handle_unknown='ignore',\n",
       "                                                                sparse=False),\n",
       "                                                  ['job', 'marital',\n",
       "                                                   'education', 'housing',\n",
       "                                                   'loan', 'contact',\n",
       "                                                   'poutcome', 'month',\n",
       "                                                   'campaign_rev',\n",
       "                                                   'age_cat'])])),\n",
       "                ('model',\n",
       "                 LogisticRegression(C=1, class_weight={0: 0.095, 1: 0.905},\n",
       "                                    random_state=42, solver='liblinear'))])"
      ]
     },
     "execution_count": 78,
     "metadata": {},
     "output_type": "execute_result"
    }
   ],
   "source": [
    "lr_model.fit(X_train, y_train)"
   ]
  },
  {
   "cell_type": "markdown",
   "metadata": {},
   "source": [
    "### Evaluation"
   ]
  },
  {
   "cell_type": "code",
   "execution_count": 79,
   "metadata": {},
   "outputs": [],
   "source": [
    "y_pred = lr_model.predict(X_test)"
   ]
  },
  {
   "cell_type": "code",
   "execution_count": 80,
   "metadata": {},
   "outputs": [
    {
     "data": {
      "text/plain": [
       "0.7226148409893993"
      ]
     },
     "execution_count": 80,
     "metadata": {},
     "output_type": "execute_result"
    }
   ],
   "source": [
    "accuracy_score(y_test, y_pred)"
   ]
  },
  {
   "cell_type": "code",
   "execution_count": 81,
   "metadata": {},
   "outputs": [],
   "source": [
    "from sklearn.metrics import accuracy_score, precision_score, recall_score, f1_score\n",
    "from sklearn.metrics import roc_curve, auc\n",
    "\n",
    "def eval_classification(model, pred, xtrain, ytrain, xtest, ytest):\n",
    "    print(\"Accuracy (Test Set): %.2f\" % accuracy_score(ytest, pred))\n",
    "    print(\"Precision (Test Set): %.2f\" % precision_score(ytest, pred))\n",
    "    print(\"Recall (Test Set): %.2f\" % recall_score(ytest, pred))\n",
    "    print(\"F1-Score (Test Set): %.2f\" % f1_score(ytest, pred))\n",
    "    \n",
    "    fpr, tpr, thresholds = roc_curve(ytest, pred, pos_label=1) # pos_label: label yang kita anggap positive\n",
    "    print(\"AUC: %.2f\" % auc(fpr, tpr))"
   ]
  },
  {
   "cell_type": "code",
   "execution_count": 82,
   "metadata": {},
   "outputs": [
    {
     "name": "stdout",
     "output_type": "stream",
     "text": [
      "Accuracy (Test Set): 0.72\n",
      "Precision (Test Set): 0.20\n",
      "Recall (Test Set): 0.63\n",
      "F1-Score (Test Set): 0.30\n",
      "AUC: 0.68\n"
     ]
    }
   ],
   "source": [
    "eval_classification(lr_model, y_pred, X_train, y_train, X_test, y_test)"
   ]
  },
  {
   "cell_type": "code",
   "execution_count": 83,
   "metadata": {},
   "outputs": [
    {
     "name": "stdout",
     "output_type": "stream",
     "text": [
      "              precision    recall  f1-score   support\n",
      "\n",
      "           0       0.95      0.73      0.83     10741\n",
      "           1       0.20      0.63      0.30      1145\n",
      "\n",
      "    accuracy                           0.72     11886\n",
      "   macro avg       0.57      0.68      0.57     11886\n",
      "weighted avg       0.88      0.72      0.78     11886\n",
      "\n"
     ]
    }
   ],
   "source": [
    "print(classification_report(y_test, y_pred))"
   ]
  },
  {
   "cell_type": "code",
   "execution_count": 84,
   "metadata": {},
   "outputs": [
    {
     "name": "stdout",
     "output_type": "stream",
     "text": [
      "Train score: 0.7196379633636233\n",
      "Test score:0.7226148409893993\n"
     ]
    }
   ],
   "source": [
    "print('Train score: ' + str(lr_model.score(X_train, y_train))) #accuracy\n",
    "print('Test score:' + str(lr_model.score(X_test, y_test)))"
   ]
  },
  {
   "cell_type": "code",
   "execution_count": 85,
   "metadata": {},
   "outputs": [
    {
     "name": "stdout",
     "output_type": "stream",
     "text": [
      "Requirement already satisfied: eli5 in c:\\users\\user\\anaconda3\\lib\\site-packages (0.11.0)\n",
      "Requirement already satisfied: jinja2 in c:\\users\\user\\anaconda3\\lib\\site-packages (from eli5) (2.11.2)\n",
      "Requirement already satisfied: scikit-learn>=0.20 in c:\\users\\user\\anaconda3\\lib\\site-packages (from eli5) (0.23.2)\n",
      "Requirement already satisfied: attrs>16.0.0 in c:\\users\\user\\anaconda3\\lib\\site-packages (from eli5) (20.3.0)\n",
      "Requirement already satisfied: numpy>=1.9.0 in c:\\users\\user\\anaconda3\\lib\\site-packages (from eli5) (1.19.2)\n",
      "Requirement already satisfied: graphviz in c:\\users\\user\\anaconda3\\lib\\site-packages (from eli5) (0.17)\n",
      "Requirement already satisfied: six in c:\\users\\user\\anaconda3\\lib\\site-packages (from eli5) (1.15.0)\n",
      "Requirement already satisfied: scipy in c:\\users\\user\\anaconda3\\lib\\site-packages (from eli5) (1.5.2)\n",
      "Requirement already satisfied: tabulate>=0.7.7 in c:\\users\\user\\anaconda3\\lib\\site-packages (from eli5) (0.8.9)\n",
      "Requirement already satisfied: MarkupSafe>=0.23 in c:\\users\\user\\anaconda3\\lib\\site-packages (from jinja2->eli5) (1.1.1)\n",
      "Requirement already satisfied: threadpoolctl>=2.0.0 in c:\\users\\user\\anaconda3\\lib\\site-packages (from scikit-learn>=0.20->eli5) (2.1.0)\n",
      "Requirement already satisfied: joblib>=0.11 in c:\\users\\user\\anaconda3\\lib\\site-packages (from scikit-learn>=0.20->eli5) (0.17.0)\n",
      "Note: you may need to restart the kernel to use updated packages.\n"
     ]
    }
   ],
   "source": [
    "pip install eli5"
   ]
  },
  {
   "cell_type": "code",
   "execution_count": 86,
   "metadata": {},
   "outputs": [
    {
     "data": {
      "text/html": [
       "\n",
       "    <style>\n",
       "    table.eli5-weights tr:hover {\n",
       "        filter: brightness(85%);\n",
       "    }\n",
       "</style>\n",
       "\n",
       "\n",
       "\n",
       "    \n",
       "\n",
       "    \n",
       "\n",
       "    \n",
       "\n",
       "    \n",
       "\n",
       "    \n",
       "\n",
       "    \n",
       "\n",
       "\n",
       "    \n",
       "\n",
       "    \n",
       "\n",
       "    \n",
       "\n",
       "    \n",
       "        \n",
       "\n",
       "    \n",
       "\n",
       "        \n",
       "            \n",
       "                \n",
       "                \n",
       "    \n",
       "        <p style=\"margin-bottom: 0.5em; margin-top: 0em\">\n",
       "            <b>\n",
       "    \n",
       "        y=1\n",
       "    \n",
       "</b>\n",
       "\n",
       "top features\n",
       "        </p>\n",
       "    \n",
       "    <table class=\"eli5-weights\"\n",
       "           style=\"border-collapse: collapse; border: none; margin-top: 0em; table-layout: auto; margin-bottom: 2em;\">\n",
       "        <thead>\n",
       "        <tr style=\"border: none;\">\n",
       "            \n",
       "                <th style=\"padding: 0 1em 0 0.5em; text-align: right; border: none;\" title=\"Feature weights. Note that weights do not account for feature value scales, so if feature values have different scales, features with highest weights might not be the most important.\">\n",
       "                    Weight<sup>?</sup>\n",
       "                </th>\n",
       "            \n",
       "            <th style=\"padding: 0 0.5em 0 0.5em; text-align: left; border: none;\">Feature</th>\n",
       "            \n",
       "        </tr>\n",
       "        </thead>\n",
       "        <tbody>\n",
       "        \n",
       "            <tr style=\"background-color: hsl(120, 100.00%, 81.56%); border: none;\">\n",
       "    <td style=\"padding: 0 1em 0 0.5em; text-align: right; border: none;\">\n",
       "        +1.292\n",
       "    </td>\n",
       "    <td style=\"padding: 0 0.5em 0 0.5em; text-align: left; border: none;\">\n",
       "        x39\n",
       "    </td>\n",
       "    \n",
       "</tr>\n",
       "        \n",
       "            <tr style=\"background-color: hsl(120, 100.00%, 82.29%); border: none;\">\n",
       "    <td style=\"padding: 0 1em 0 0.5em; text-align: right; border: none;\">\n",
       "        +1.219\n",
       "    </td>\n",
       "    <td style=\"padding: 0 0.5em 0 0.5em; text-align: left; border: none;\">\n",
       "        x30\n",
       "    </td>\n",
       "    \n",
       "</tr>\n",
       "        \n",
       "            <tr style=\"background-color: hsl(120, 100.00%, 83.20%); border: none;\">\n",
       "    <td style=\"padding: 0 1em 0 0.5em; text-align: right; border: none;\">\n",
       "        +1.130\n",
       "    </td>\n",
       "    <td style=\"padding: 0 0.5em 0 0.5em; text-align: left; border: none;\">\n",
       "        x42\n",
       "    </td>\n",
       "    \n",
       "</tr>\n",
       "        \n",
       "            <tr style=\"background-color: hsl(120, 100.00%, 85.61%); border: none;\">\n",
       "    <td style=\"padding: 0 1em 0 0.5em; text-align: right; border: none;\">\n",
       "        +0.906\n",
       "    </td>\n",
       "    <td style=\"padding: 0 0.5em 0 0.5em; text-align: left; border: none;\">\n",
       "        x43\n",
       "    </td>\n",
       "    \n",
       "</tr>\n",
       "        \n",
       "            <tr style=\"background-color: hsl(120, 100.00%, 86.48%); border: none;\">\n",
       "    <td style=\"padding: 0 1em 0 0.5em; text-align: right; border: none;\">\n",
       "        +0.829\n",
       "    </td>\n",
       "    <td style=\"padding: 0 0.5em 0 0.5em; text-align: left; border: none;\">\n",
       "        x56\n",
       "    </td>\n",
       "    \n",
       "</tr>\n",
       "        \n",
       "            <tr style=\"background-color: hsl(120, 100.00%, 86.86%); border: none;\">\n",
       "    <td style=\"padding: 0 1em 0 0.5em; text-align: right; border: none;\">\n",
       "        +0.796\n",
       "    </td>\n",
       "    <td style=\"padding: 0 0.5em 0 0.5em; text-align: left; border: none;\">\n",
       "        x34\n",
       "    </td>\n",
       "    \n",
       "</tr>\n",
       "        \n",
       "            <tr style=\"background-color: hsl(120, 100.00%, 90.00%); border: none;\">\n",
       "    <td style=\"padding: 0 1em 0 0.5em; text-align: right; border: none;\">\n",
       "        +0.539\n",
       "    </td>\n",
       "    <td style=\"padding: 0 0.5em 0 0.5em; text-align: left; border: none;\">\n",
       "        x25\n",
       "    </td>\n",
       "    \n",
       "</tr>\n",
       "        \n",
       "            <tr style=\"background-color: hsl(120, 100.00%, 91.75%); border: none;\">\n",
       "    <td style=\"padding: 0 1em 0 0.5em; text-align: right; border: none;\">\n",
       "        +0.409\n",
       "    </td>\n",
       "    <td style=\"padding: 0 0.5em 0 0.5em; text-align: left; border: none;\">\n",
       "        x44\n",
       "    </td>\n",
       "    \n",
       "</tr>\n",
       "        \n",
       "        \n",
       "            <tr style=\"background-color: hsl(120, 100.00%, 91.75%); border: none;\">\n",
       "                <td colspan=\"2\" style=\"padding: 0 0.5em 0 0.5em; text-align: center; border: none; white-space: nowrap;\">\n",
       "                    <i>&hellip; 20 more positive &hellip;</i>\n",
       "                </td>\n",
       "            </tr>\n",
       "        \n",
       "\n",
       "        \n",
       "            <tr style=\"background-color: hsl(0, 100.00%, 93.13%); border: none;\">\n",
       "                <td colspan=\"2\" style=\"padding: 0 0.5em 0 0.5em; text-align: center; border: none; white-space: nowrap;\">\n",
       "                    <i>&hellip; 19 more negative &hellip;</i>\n",
       "                </td>\n",
       "            </tr>\n",
       "        \n",
       "        \n",
       "            <tr style=\"background-color: hsl(0, 100.00%, 93.13%); border: none;\">\n",
       "    <td style=\"padding: 0 1em 0 0.5em; text-align: right; border: none;\">\n",
       "        -0.315\n",
       "    </td>\n",
       "    <td style=\"padding: 0 0.5em 0 0.5em; text-align: left; border: none;\">\n",
       "        x5\n",
       "    </td>\n",
       "    \n",
       "</tr>\n",
       "        \n",
       "            <tr style=\"background-color: hsl(0, 100.00%, 93.04%); border: none;\">\n",
       "    <td style=\"padding: 0 1em 0 0.5em; text-align: right; border: none;\">\n",
       "        -0.321\n",
       "    </td>\n",
       "    <td style=\"padding: 0 0.5em 0 0.5em; text-align: left; border: none;\">\n",
       "        x53\n",
       "    </td>\n",
       "    \n",
       "</tr>\n",
       "        \n",
       "            <tr style=\"background-color: hsl(0, 100.00%, 92.74%); border: none;\">\n",
       "    <td style=\"padding: 0 1em 0 0.5em; text-align: right; border: none;\">\n",
       "        -0.341\n",
       "    </td>\n",
       "    <td style=\"padding: 0 0.5em 0 0.5em; text-align: left; border: none;\">\n",
       "        x40\n",
       "    </td>\n",
       "    \n",
       "</tr>\n",
       "        \n",
       "            <tr style=\"background-color: hsl(0, 100.00%, 92.62%); border: none;\">\n",
       "    <td style=\"padding: 0 1em 0 0.5em; text-align: right; border: none;\">\n",
       "        -0.349\n",
       "    </td>\n",
       "    <td style=\"padding: 0 0.5em 0 0.5em; text-align: left; border: none;\">\n",
       "        x54\n",
       "    </td>\n",
       "    \n",
       "</tr>\n",
       "        \n",
       "            <tr style=\"background-color: hsl(0, 100.00%, 92.30%); border: none;\">\n",
       "    <td style=\"padding: 0 1em 0 0.5em; text-align: right; border: none;\">\n",
       "        -0.371\n",
       "    </td>\n",
       "    <td style=\"padding: 0 0.5em 0 0.5em; text-align: left; border: none;\">\n",
       "        x29\n",
       "    </td>\n",
       "    \n",
       "</tr>\n",
       "        \n",
       "            <tr style=\"background-color: hsl(0, 100.00%, 90.02%); border: none;\">\n",
       "    <td style=\"padding: 0 1em 0 0.5em; text-align: right; border: none;\">\n",
       "        -0.537\n",
       "    </td>\n",
       "    <td style=\"padding: 0 0.5em 0 0.5em; text-align: left; border: none;\">\n",
       "        x35\n",
       "    </td>\n",
       "    \n",
       "</tr>\n",
       "        \n",
       "            <tr style=\"background-color: hsl(0, 100.00%, 89.01%); border: none;\">\n",
       "    <td style=\"padding: 0 1em 0 0.5em; text-align: right; border: none;\">\n",
       "        -0.617\n",
       "    </td>\n",
       "    <td style=\"padding: 0 0.5em 0 0.5em; text-align: left; border: none;\">\n",
       "        x41\n",
       "    </td>\n",
       "    \n",
       "</tr>\n",
       "        \n",
       "            <tr style=\"background-color: hsl(0, 100.00%, 88.09%); border: none;\">\n",
       "    <td style=\"padding: 0 1em 0 0.5em; text-align: right; border: none;\">\n",
       "        -0.692\n",
       "    </td>\n",
       "    <td style=\"padding: 0 0.5em 0 0.5em; text-align: left; border: none;\">\n",
       "        x27\n",
       "    </td>\n",
       "    \n",
       "</tr>\n",
       "        \n",
       "            <tr style=\"background-color: hsl(0, 100.00%, 87.98%); border: none;\">\n",
       "    <td style=\"padding: 0 1em 0 0.5em; text-align: right; border: none;\">\n",
       "        -0.701\n",
       "    </td>\n",
       "    <td style=\"padding: 0 0.5em 0 0.5em; text-align: left; border: none;\">\n",
       "        x33\n",
       "    </td>\n",
       "    \n",
       "</tr>\n",
       "        \n",
       "            <tr style=\"background-color: hsl(0, 100.00%, 87.67%); border: none;\">\n",
       "    <td style=\"padding: 0 1em 0 0.5em; text-align: right; border: none;\">\n",
       "        -0.727\n",
       "    </td>\n",
       "    <td style=\"padding: 0 0.5em 0 0.5em; text-align: left; border: none;\">\n",
       "        x37\n",
       "    </td>\n",
       "    \n",
       "</tr>\n",
       "        \n",
       "            <tr style=\"background-color: hsl(0, 100.00%, 86.83%); border: none;\">\n",
       "    <td style=\"padding: 0 1em 0 0.5em; text-align: right; border: none;\">\n",
       "        -0.798\n",
       "    </td>\n",
       "    <td style=\"padding: 0 0.5em 0 0.5em; text-align: left; border: none;\">\n",
       "        x28\n",
       "    </td>\n",
       "    \n",
       "</tr>\n",
       "        \n",
       "            <tr style=\"background-color: hsl(0, 100.00%, 80.00%); border: none;\">\n",
       "    <td style=\"padding: 0 1em 0 0.5em; text-align: right; border: none;\">\n",
       "        -1.451\n",
       "    </td>\n",
       "    <td style=\"padding: 0 0.5em 0 0.5em; text-align: left; border: none;\">\n",
       "        x36\n",
       "    </td>\n",
       "    \n",
       "</tr>\n",
       "        \n",
       "\n",
       "        </tbody>\n",
       "    </table>\n",
       "\n",
       "            \n",
       "        \n",
       "\n",
       "        \n",
       "\n",
       "\n",
       "\n",
       "    \n",
       "\n",
       "    \n",
       "\n",
       "    \n",
       "\n",
       "    \n",
       "\n",
       "\n",
       "    \n",
       "\n",
       "    \n",
       "\n",
       "    \n",
       "\n",
       "    \n",
       "\n",
       "    \n",
       "\n",
       "    \n",
       "\n",
       "\n",
       "    \n",
       "\n",
       "    \n",
       "\n",
       "    \n",
       "\n",
       "    \n",
       "\n",
       "    \n",
       "\n",
       "    \n",
       "\n",
       "\n",
       "\n"
      ],
      "text/plain": [
       "<IPython.core.display.HTML object>"
      ]
     },
     "execution_count": 86,
     "metadata": {},
     "output_type": "execute_result"
    }
   ],
   "source": [
    "import eli5\n",
    "eli5.show_weights(lr_model.named_steps[\"model\"])\n"
   ]
  },
  {
   "cell_type": "code",
   "execution_count": 87,
   "metadata": {},
   "outputs": [],
   "source": [
    "preprocessor = lr_model.named_steps[\"preprocessor\"]"
   ]
  },
  {
   "cell_type": "code",
   "execution_count": 88,
   "metadata": {},
   "outputs": [],
   "source": [
    "ohe_categories = preprocessor.named_transformers_[\"categorical\"].categories_"
   ]
  },
  {
   "cell_type": "code",
   "execution_count": 89,
   "metadata": {},
   "outputs": [],
   "source": [
    "new_ohe_features = [f\"{col}__{val}\" for col, vals in zip(cat_features, ohe_categories) for val in vals]"
   ]
  },
  {
   "cell_type": "code",
   "execution_count": 90,
   "metadata": {},
   "outputs": [],
   "source": [
    "all_features = num_features + new_ohe_features"
   ]
  },
  {
   "cell_type": "code",
   "execution_count": 91,
   "metadata": {},
   "outputs": [
    {
     "data": {
      "text/html": [
       "<div>\n",
       "<style scoped>\n",
       "    .dataframe tbody tr th:only-of-type {\n",
       "        vertical-align: middle;\n",
       "    }\n",
       "\n",
       "    .dataframe tbody tr th {\n",
       "        vertical-align: top;\n",
       "    }\n",
       "\n",
       "    .dataframe thead th {\n",
       "        text-align: right;\n",
       "    }\n",
       "</style>\n",
       "<table border=\"1\" class=\"dataframe\">\n",
       "  <thead>\n",
       "    <tr style=\"text-align: right;\">\n",
       "      <th></th>\n",
       "      <th>pdays_rev</th>\n",
       "      <th>balance_cat</th>\n",
       "      <th>job__admin.</th>\n",
       "      <th>job__blue-collar</th>\n",
       "      <th>job__entrepreneur</th>\n",
       "      <th>job__housemaid</th>\n",
       "      <th>job__management</th>\n",
       "      <th>job__retired</th>\n",
       "      <th>job__self-employed</th>\n",
       "      <th>job__services</th>\n",
       "      <th>...</th>\n",
       "      <th>age_cat__Adult_1: 25-29</th>\n",
       "      <th>age_cat__Adult_2: 30-34</th>\n",
       "      <th>age_cat__Adult_3: 35-39</th>\n",
       "      <th>age_cat__Adult_4: 40-44</th>\n",
       "      <th>age_cat__Adult_5: 45-49</th>\n",
       "      <th>age_cat__Adult_6: 50-54</th>\n",
       "      <th>age_cat__Adult_7: 55 -59</th>\n",
       "      <th>age_cat__Adult_8: 60 -64</th>\n",
       "      <th>age_cat__Senior: &gt;=65</th>\n",
       "      <th>age_cat__Youth: &lt;=24</th>\n",
       "    </tr>\n",
       "  </thead>\n",
       "  <tbody>\n",
       "    <tr>\n",
       "      <th>0</th>\n",
       "      <td>0.0</td>\n",
       "      <td>1.0</td>\n",
       "      <td>0.0</td>\n",
       "      <td>0.0</td>\n",
       "      <td>0.0</td>\n",
       "      <td>0.0</td>\n",
       "      <td>1.0</td>\n",
       "      <td>0.0</td>\n",
       "      <td>0.0</td>\n",
       "      <td>0.0</td>\n",
       "      <td>...</td>\n",
       "      <td>0.0</td>\n",
       "      <td>0.0</td>\n",
       "      <td>0.0</td>\n",
       "      <td>0.0</td>\n",
       "      <td>0.0</td>\n",
       "      <td>0.0</td>\n",
       "      <td>1.0</td>\n",
       "      <td>0.0</td>\n",
       "      <td>0.0</td>\n",
       "      <td>0.0</td>\n",
       "    </tr>\n",
       "    <tr>\n",
       "      <th>1</th>\n",
       "      <td>0.0</td>\n",
       "      <td>3.0</td>\n",
       "      <td>0.0</td>\n",
       "      <td>0.0</td>\n",
       "      <td>0.0</td>\n",
       "      <td>0.0</td>\n",
       "      <td>0.0</td>\n",
       "      <td>0.0</td>\n",
       "      <td>0.0</td>\n",
       "      <td>1.0</td>\n",
       "      <td>...</td>\n",
       "      <td>0.0</td>\n",
       "      <td>1.0</td>\n",
       "      <td>0.0</td>\n",
       "      <td>0.0</td>\n",
       "      <td>0.0</td>\n",
       "      <td>0.0</td>\n",
       "      <td>0.0</td>\n",
       "      <td>0.0</td>\n",
       "      <td>0.0</td>\n",
       "      <td>0.0</td>\n",
       "    </tr>\n",
       "    <tr>\n",
       "      <th>2</th>\n",
       "      <td>0.0</td>\n",
       "      <td>5.0</td>\n",
       "      <td>0.0</td>\n",
       "      <td>0.0</td>\n",
       "      <td>0.0</td>\n",
       "      <td>0.0</td>\n",
       "      <td>0.0</td>\n",
       "      <td>0.0</td>\n",
       "      <td>0.0</td>\n",
       "      <td>0.0</td>\n",
       "      <td>...</td>\n",
       "      <td>0.0</td>\n",
       "      <td>0.0</td>\n",
       "      <td>0.0</td>\n",
       "      <td>1.0</td>\n",
       "      <td>0.0</td>\n",
       "      <td>0.0</td>\n",
       "      <td>0.0</td>\n",
       "      <td>0.0</td>\n",
       "      <td>0.0</td>\n",
       "      <td>0.0</td>\n",
       "    </tr>\n",
       "    <tr>\n",
       "      <th>3</th>\n",
       "      <td>0.0</td>\n",
       "      <td>4.0</td>\n",
       "      <td>0.0</td>\n",
       "      <td>1.0</td>\n",
       "      <td>0.0</td>\n",
       "      <td>0.0</td>\n",
       "      <td>0.0</td>\n",
       "      <td>0.0</td>\n",
       "      <td>0.0</td>\n",
       "      <td>0.0</td>\n",
       "      <td>...</td>\n",
       "      <td>0.0</td>\n",
       "      <td>0.0</td>\n",
       "      <td>0.0</td>\n",
       "      <td>0.0</td>\n",
       "      <td>0.0</td>\n",
       "      <td>0.0</td>\n",
       "      <td>0.0</td>\n",
       "      <td>1.0</td>\n",
       "      <td>0.0</td>\n",
       "      <td>0.0</td>\n",
       "    </tr>\n",
       "    <tr>\n",
       "      <th>4</th>\n",
       "      <td>0.0</td>\n",
       "      <td>4.0</td>\n",
       "      <td>0.0</td>\n",
       "      <td>0.0</td>\n",
       "      <td>0.0</td>\n",
       "      <td>0.0</td>\n",
       "      <td>0.0</td>\n",
       "      <td>0.0</td>\n",
       "      <td>0.0</td>\n",
       "      <td>0.0</td>\n",
       "      <td>...</td>\n",
       "      <td>0.0</td>\n",
       "      <td>0.0</td>\n",
       "      <td>0.0</td>\n",
       "      <td>0.0</td>\n",
       "      <td>0.0</td>\n",
       "      <td>1.0</td>\n",
       "      <td>0.0</td>\n",
       "      <td>0.0</td>\n",
       "      <td>0.0</td>\n",
       "      <td>0.0</td>\n",
       "    </tr>\n",
       "  </tbody>\n",
       "</table>\n",
       "<p>5 rows × 58 columns</p>\n",
       "</div>"
      ],
      "text/plain": [
       "   pdays_rev  balance_cat  job__admin.  job__blue-collar  job__entrepreneur  \\\n",
       "0        0.0          1.0          0.0               0.0                0.0   \n",
       "1        0.0          3.0          0.0               0.0                0.0   \n",
       "2        0.0          5.0          0.0               0.0                0.0   \n",
       "3        0.0          4.0          0.0               1.0                0.0   \n",
       "4        0.0          4.0          0.0               0.0                0.0   \n",
       "\n",
       "   job__housemaid  job__management  job__retired  job__self-employed  \\\n",
       "0             0.0              1.0           0.0                 0.0   \n",
       "1             0.0              0.0           0.0                 0.0   \n",
       "2             0.0              0.0           0.0                 0.0   \n",
       "3             0.0              0.0           0.0                 0.0   \n",
       "4             0.0              0.0           0.0                 0.0   \n",
       "\n",
       "   job__services  ...  age_cat__Adult_1: 25-29  age_cat__Adult_2: 30-34  \\\n",
       "0            0.0  ...                      0.0                      0.0   \n",
       "1            1.0  ...                      0.0                      1.0   \n",
       "2            0.0  ...                      0.0                      0.0   \n",
       "3            0.0  ...                      0.0                      0.0   \n",
       "4            0.0  ...                      0.0                      0.0   \n",
       "\n",
       "   age_cat__Adult_3: 35-39  age_cat__Adult_4: 40-44  age_cat__Adult_5: 45-49  \\\n",
       "0                      0.0                      0.0                      0.0   \n",
       "1                      0.0                      0.0                      0.0   \n",
       "2                      0.0                      1.0                      0.0   \n",
       "3                      0.0                      0.0                      0.0   \n",
       "4                      0.0                      0.0                      0.0   \n",
       "\n",
       "   age_cat__Adult_6: 50-54  age_cat__Adult_7: 55 -59  \\\n",
       "0                      0.0                       1.0   \n",
       "1                      0.0                       0.0   \n",
       "2                      0.0                       0.0   \n",
       "3                      0.0                       0.0   \n",
       "4                      1.0                       0.0   \n",
       "\n",
       "   age_cat__Adult_8: 60 -64  age_cat__Senior: >=65  age_cat__Youth: <=24  \n",
       "0                       0.0                    0.0                   0.0  \n",
       "1                       0.0                    0.0                   0.0  \n",
       "2                       0.0                    0.0                   0.0  \n",
       "3                       1.0                    0.0                   0.0  \n",
       "4                       0.0                    0.0                   0.0  \n",
       "\n",
       "[5 rows x 58 columns]"
      ]
     },
     "execution_count": 91,
     "metadata": {},
     "output_type": "execute_result"
    }
   ],
   "source": [
    "pd.DataFrame(lr_model.named_steps[\"preprocessor\"].transform(X_train), columns=all_features).head()"
   ]
  },
  {
   "cell_type": "code",
   "execution_count": 92,
   "metadata": {},
   "outputs": [
    {
     "data": {
      "text/html": [
       "\n",
       "    <style>\n",
       "    table.eli5-weights tr:hover {\n",
       "        filter: brightness(85%);\n",
       "    }\n",
       "</style>\n",
       "\n",
       "\n",
       "\n",
       "    \n",
       "\n",
       "    \n",
       "\n",
       "    \n",
       "\n",
       "    \n",
       "\n",
       "    \n",
       "\n",
       "    \n",
       "\n",
       "\n",
       "    \n",
       "\n",
       "    \n",
       "\n",
       "    \n",
       "\n",
       "    \n",
       "        \n",
       "\n",
       "    \n",
       "\n",
       "        \n",
       "            \n",
       "                \n",
       "                \n",
       "    \n",
       "        <p style=\"margin-bottom: 0.5em; margin-top: 0em\">\n",
       "            <b>\n",
       "    \n",
       "        y=1\n",
       "    \n",
       "</b>\n",
       "\n",
       "top features\n",
       "        </p>\n",
       "    \n",
       "    <table class=\"eli5-weights\"\n",
       "           style=\"border-collapse: collapse; border: none; margin-top: 0em; table-layout: auto; margin-bottom: 2em;\">\n",
       "        <thead>\n",
       "        <tr style=\"border: none;\">\n",
       "            \n",
       "                <th style=\"padding: 0 1em 0 0.5em; text-align: right; border: none;\" title=\"Feature weights. Note that weights do not account for feature value scales, so if feature values have different scales, features with highest weights might not be the most important.\">\n",
       "                    Weight<sup>?</sup>\n",
       "                </th>\n",
       "            \n",
       "            <th style=\"padding: 0 0.5em 0 0.5em; text-align: left; border: none;\">Feature</th>\n",
       "            \n",
       "        </tr>\n",
       "        </thead>\n",
       "        <tbody>\n",
       "        \n",
       "            <tr style=\"background-color: hsl(120, 100.00%, 81.56%); border: none;\">\n",
       "    <td style=\"padding: 0 1em 0 0.5em; text-align: right; border: none;\">\n",
       "        +1.292\n",
       "    </td>\n",
       "    <td style=\"padding: 0 0.5em 0 0.5em; text-align: left; border: none;\">\n",
       "        month__mar\n",
       "    </td>\n",
       "    \n",
       "</tr>\n",
       "        \n",
       "            <tr style=\"background-color: hsl(120, 100.00%, 82.29%); border: none;\">\n",
       "    <td style=\"padding: 0 1em 0 0.5em; text-align: right; border: none;\">\n",
       "        +1.219\n",
       "    </td>\n",
       "    <td style=\"padding: 0 0.5em 0 0.5em; text-align: left; border: none;\">\n",
       "        poutcome__success\n",
       "    </td>\n",
       "    \n",
       "</tr>\n",
       "        \n",
       "            <tr style=\"background-color: hsl(120, 100.00%, 83.20%); border: none;\">\n",
       "    <td style=\"padding: 0 1em 0 0.5em; text-align: right; border: none;\">\n",
       "        +1.130\n",
       "    </td>\n",
       "    <td style=\"padding: 0 0.5em 0 0.5em; text-align: left; border: none;\">\n",
       "        month__oct\n",
       "    </td>\n",
       "    \n",
       "</tr>\n",
       "        \n",
       "            <tr style=\"background-color: hsl(120, 100.00%, 85.61%); border: none;\">\n",
       "    <td style=\"padding: 0 1em 0 0.5em; text-align: right; border: none;\">\n",
       "        +0.906\n",
       "    </td>\n",
       "    <td style=\"padding: 0 0.5em 0 0.5em; text-align: left; border: none;\">\n",
       "        month__sep\n",
       "    </td>\n",
       "    \n",
       "</tr>\n",
       "        \n",
       "            <tr style=\"background-color: hsl(120, 100.00%, 86.48%); border: none;\">\n",
       "    <td style=\"padding: 0 1em 0 0.5em; text-align: right; border: none;\">\n",
       "        +0.829\n",
       "    </td>\n",
       "    <td style=\"padding: 0 0.5em 0 0.5em; text-align: left; border: none;\">\n",
       "        age_cat__Senior: &gt;=65\n",
       "    </td>\n",
       "    \n",
       "</tr>\n",
       "        \n",
       "            <tr style=\"background-color: hsl(120, 100.00%, 86.86%); border: none;\">\n",
       "    <td style=\"padding: 0 1em 0 0.5em; text-align: right; border: none;\">\n",
       "        +0.796\n",
       "    </td>\n",
       "    <td style=\"padding: 0 0.5em 0 0.5em; text-align: left; border: none;\">\n",
       "        month__dec\n",
       "    </td>\n",
       "    \n",
       "</tr>\n",
       "        \n",
       "            <tr style=\"background-color: hsl(120, 100.00%, 90.00%); border: none;\">\n",
       "    <td style=\"padding: 0 1em 0 0.5em; text-align: right; border: none;\">\n",
       "        +0.539\n",
       "    </td>\n",
       "    <td style=\"padding: 0 0.5em 0 0.5em; text-align: left; border: none;\">\n",
       "        contact__cellular\n",
       "    </td>\n",
       "    \n",
       "</tr>\n",
       "        \n",
       "            <tr style=\"background-color: hsl(120, 100.00%, 91.75%); border: none;\">\n",
       "    <td style=\"padding: 0 1em 0 0.5em; text-align: right; border: none;\">\n",
       "        +0.409\n",
       "    </td>\n",
       "    <td style=\"padding: 0 0.5em 0 0.5em; text-align: left; border: none;\">\n",
       "        campaign_rev__jarang\n",
       "    </td>\n",
       "    \n",
       "</tr>\n",
       "        \n",
       "        \n",
       "            <tr style=\"background-color: hsl(120, 100.00%, 91.75%); border: none;\">\n",
       "                <td colspan=\"2\" style=\"padding: 0 0.5em 0 0.5em; text-align: center; border: none; white-space: nowrap;\">\n",
       "                    <i>&hellip; 20 more positive &hellip;</i>\n",
       "                </td>\n",
       "            </tr>\n",
       "        \n",
       "\n",
       "        \n",
       "            <tr style=\"background-color: hsl(0, 100.00%, 93.13%); border: none;\">\n",
       "                <td colspan=\"2\" style=\"padding: 0 0.5em 0 0.5em; text-align: center; border: none; white-space: nowrap;\">\n",
       "                    <i>&hellip; 19 more negative &hellip;</i>\n",
       "                </td>\n",
       "            </tr>\n",
       "        \n",
       "        \n",
       "            <tr style=\"background-color: hsl(0, 100.00%, 93.13%); border: none;\">\n",
       "    <td style=\"padding: 0 1em 0 0.5em; text-align: right; border: none;\">\n",
       "        -0.315\n",
       "    </td>\n",
       "    <td style=\"padding: 0 0.5em 0 0.5em; text-align: left; border: none;\">\n",
       "        job__housemaid\n",
       "    </td>\n",
       "    \n",
       "</tr>\n",
       "        \n",
       "            <tr style=\"background-color: hsl(0, 100.00%, 93.04%); border: none;\">\n",
       "    <td style=\"padding: 0 1em 0 0.5em; text-align: right; border: none;\">\n",
       "        -0.321\n",
       "    </td>\n",
       "    <td style=\"padding: 0 0.5em 0 0.5em; text-align: left; border: none;\">\n",
       "        age_cat__Adult_6: 50-54\n",
       "    </td>\n",
       "    \n",
       "</tr>\n",
       "        \n",
       "            <tr style=\"background-color: hsl(0, 100.00%, 92.74%); border: none;\">\n",
       "    <td style=\"padding: 0 1em 0 0.5em; text-align: right; border: none;\">\n",
       "        -0.341\n",
       "    </td>\n",
       "    <td style=\"padding: 0 0.5em 0 0.5em; text-align: left; border: none;\">\n",
       "        month__may\n",
       "    </td>\n",
       "    \n",
       "</tr>\n",
       "        \n",
       "            <tr style=\"background-color: hsl(0, 100.00%, 92.62%); border: none;\">\n",
       "    <td style=\"padding: 0 1em 0 0.5em; text-align: right; border: none;\">\n",
       "        -0.349\n",
       "    </td>\n",
       "    <td style=\"padding: 0 0.5em 0 0.5em; text-align: left; border: none;\">\n",
       "        age_cat__Adult_7: 55 -59\n",
       "    </td>\n",
       "    \n",
       "</tr>\n",
       "        \n",
       "            <tr style=\"background-color: hsl(0, 100.00%, 92.30%); border: none;\">\n",
       "    <td style=\"padding: 0 1em 0 0.5em; text-align: right; border: none;\">\n",
       "        -0.371\n",
       "    </td>\n",
       "    <td style=\"padding: 0 0.5em 0 0.5em; text-align: left; border: none;\">\n",
       "        poutcome__other\n",
       "    </td>\n",
       "    \n",
       "</tr>\n",
       "        \n",
       "            <tr style=\"background-color: hsl(0, 100.00%, 90.02%); border: none;\">\n",
       "    <td style=\"padding: 0 1em 0 0.5em; text-align: right; border: none;\">\n",
       "        -0.537\n",
       "    </td>\n",
       "    <td style=\"padding: 0 0.5em 0 0.5em; text-align: left; border: none;\">\n",
       "        month__feb\n",
       "    </td>\n",
       "    \n",
       "</tr>\n",
       "        \n",
       "            <tr style=\"background-color: hsl(0, 100.00%, 89.01%); border: none;\">\n",
       "    <td style=\"padding: 0 1em 0 0.5em; text-align: right; border: none;\">\n",
       "        -0.617\n",
       "    </td>\n",
       "    <td style=\"padding: 0 0.5em 0 0.5em; text-align: left; border: none;\">\n",
       "        month__nov\n",
       "    </td>\n",
       "    \n",
       "</tr>\n",
       "        \n",
       "            <tr style=\"background-color: hsl(0, 100.00%, 88.09%); border: none;\">\n",
       "    <td style=\"padding: 0 1em 0 0.5em; text-align: right; border: none;\">\n",
       "        -0.692\n",
       "    </td>\n",
       "    <td style=\"padding: 0 0.5em 0 0.5em; text-align: left; border: none;\">\n",
       "        contact__unknown\n",
       "    </td>\n",
       "    \n",
       "</tr>\n",
       "        \n",
       "            <tr style=\"background-color: hsl(0, 100.00%, 87.98%); border: none;\">\n",
       "    <td style=\"padding: 0 1em 0 0.5em; text-align: right; border: none;\">\n",
       "        -0.701\n",
       "    </td>\n",
       "    <td style=\"padding: 0 0.5em 0 0.5em; text-align: left; border: none;\">\n",
       "        month__aug\n",
       "    </td>\n",
       "    \n",
       "</tr>\n",
       "        \n",
       "            <tr style=\"background-color: hsl(0, 100.00%, 87.67%); border: none;\">\n",
       "    <td style=\"padding: 0 1em 0 0.5em; text-align: right; border: none;\">\n",
       "        -0.727\n",
       "    </td>\n",
       "    <td style=\"padding: 0 0.5em 0 0.5em; text-align: left; border: none;\">\n",
       "        month__jul\n",
       "    </td>\n",
       "    \n",
       "</tr>\n",
       "        \n",
       "            <tr style=\"background-color: hsl(0, 100.00%, 86.83%); border: none;\">\n",
       "    <td style=\"padding: 0 1em 0 0.5em; text-align: right; border: none;\">\n",
       "        -0.798\n",
       "    </td>\n",
       "    <td style=\"padding: 0 0.5em 0 0.5em; text-align: left; border: none;\">\n",
       "        poutcome__failure\n",
       "    </td>\n",
       "    \n",
       "</tr>\n",
       "        \n",
       "            <tr style=\"background-color: hsl(0, 100.00%, 80.00%); border: none;\">\n",
       "    <td style=\"padding: 0 1em 0 0.5em; text-align: right; border: none;\">\n",
       "        -1.451\n",
       "    </td>\n",
       "    <td style=\"padding: 0 0.5em 0 0.5em; text-align: left; border: none;\">\n",
       "        month__jan\n",
       "    </td>\n",
       "    \n",
       "</tr>\n",
       "        \n",
       "\n",
       "        </tbody>\n",
       "    </table>\n",
       "\n",
       "            \n",
       "        \n",
       "\n",
       "        \n",
       "\n",
       "\n",
       "\n",
       "    \n",
       "\n",
       "    \n",
       "\n",
       "    \n",
       "\n",
       "    \n",
       "\n",
       "\n",
       "    \n",
       "\n",
       "    \n",
       "\n",
       "    \n",
       "\n",
       "    \n",
       "\n",
       "    \n",
       "\n",
       "    \n",
       "\n",
       "\n",
       "    \n",
       "\n",
       "    \n",
       "\n",
       "    \n",
       "\n",
       "    \n",
       "\n",
       "    \n",
       "\n",
       "    \n",
       "\n",
       "\n",
       "\n"
      ],
      "text/plain": [
       "<IPython.core.display.HTML object>"
      ]
     },
     "execution_count": 92,
     "metadata": {},
     "output_type": "execute_result"
    }
   ],
   "source": [
    "eli5.show_weights(lr_model.named_steps[\"model\"], feature_names=all_features)"
   ]
  },
  {
   "cell_type": "markdown",
   "metadata": {},
   "source": [
    "That gives us the weights associated to each feature, that can be seen as the contribution of each feature into predicting that the class will be y=1 (the client will subscribe after the campaign)."
   ]
  },
  {
   "cell_type": "code",
   "execution_count": 93,
   "metadata": {},
   "outputs": [
    {
     "data": {
      "text/html": [
       "<div>\n",
       "<style scoped>\n",
       "    .dataframe tbody tr th:only-of-type {\n",
       "        vertical-align: middle;\n",
       "    }\n",
       "\n",
       "    .dataframe tbody tr th {\n",
       "        vertical-align: top;\n",
       "    }\n",
       "\n",
       "    .dataframe thead th {\n",
       "        text-align: right;\n",
       "    }\n",
       "</style>\n",
       "<table border=\"1\" class=\"dataframe\">\n",
       "  <thead>\n",
       "    <tr style=\"text-align: right;\">\n",
       "      <th></th>\n",
       "      <th>age</th>\n",
       "      <th>job</th>\n",
       "      <th>marital</th>\n",
       "      <th>education</th>\n",
       "      <th>balance</th>\n",
       "      <th>housing</th>\n",
       "      <th>loan</th>\n",
       "      <th>contact</th>\n",
       "      <th>day</th>\n",
       "      <th>month</th>\n",
       "      <th>campaign</th>\n",
       "      <th>pdays</th>\n",
       "      <th>poutcome</th>\n",
       "      <th>age_cat</th>\n",
       "      <th>balance_cat</th>\n",
       "      <th>day_cat</th>\n",
       "      <th>pdyas_new</th>\n",
       "      <th>campaign_cat</th>\n",
       "      <th>pdays_rev</th>\n",
       "      <th>campaign_rev</th>\n",
       "    </tr>\n",
       "  </thead>\n",
       "  <tbody>\n",
       "    <tr>\n",
       "      <th>4793</th>\n",
       "      <td>35</td>\n",
       "      <td>blue-collar</td>\n",
       "      <td>married</td>\n",
       "      <td>secondary</td>\n",
       "      <td>592</td>\n",
       "      <td>yes</td>\n",
       "      <td>no</td>\n",
       "      <td>unknown</td>\n",
       "      <td>21</td>\n",
       "      <td>may</td>\n",
       "      <td>1</td>\n",
       "      <td>-1</td>\n",
       "      <td>unknown</td>\n",
       "      <td>Adult_3: 35-39</td>\n",
       "      <td>3</td>\n",
       "      <td>3</td>\n",
       "      <td>0</td>\n",
       "      <td>sekali</td>\n",
       "      <td>0</td>\n",
       "      <td>sekali</td>\n",
       "    </tr>\n",
       "  </tbody>\n",
       "</table>\n",
       "</div>"
      ],
      "text/plain": [
       "      age          job  marital  education  balance housing loan  contact  \\\n",
       "4793   35  blue-collar  married  secondary      592     yes   no  unknown   \n",
       "\n",
       "      day month  campaign  pdays poutcome         age_cat  balance_cat  \\\n",
       "4793   21   may         1     -1  unknown  Adult_3: 35-39            3   \n",
       "\n",
       "      day_cat  pdyas_new campaign_cat  pdays_rev campaign_rev  \n",
       "4793        3          0       sekali          0       sekali  "
      ]
     },
     "execution_count": 93,
     "metadata": {},
     "output_type": "execute_result"
    }
   ],
   "source": [
    "i = 5\n",
    "X_test.iloc[[i]]"
   ]
  },
  {
   "cell_type": "code",
   "execution_count": 94,
   "metadata": {},
   "outputs": [
    {
     "data": {
      "text/plain": [
       "0"
      ]
     },
     "execution_count": 94,
     "metadata": {},
     "output_type": "execute_result"
    }
   ],
   "source": [
    "y_test.iloc[i]"
   ]
  },
  {
   "cell_type": "code",
   "execution_count": 95,
   "metadata": {},
   "outputs": [
    {
     "data": {
      "text/html": [
       "\n",
       "    <style>\n",
       "    table.eli5-weights tr:hover {\n",
       "        filter: brightness(85%);\n",
       "    }\n",
       "</style>\n",
       "\n",
       "\n",
       "\n",
       "    \n",
       "\n",
       "    \n",
       "\n",
       "    \n",
       "\n",
       "    \n",
       "\n",
       "    \n",
       "\n",
       "    \n",
       "\n",
       "\n",
       "    \n",
       "\n",
       "    \n",
       "\n",
       "    \n",
       "\n",
       "    \n",
       "        \n",
       "\n",
       "    \n",
       "\n",
       "        \n",
       "            \n",
       "                \n",
       "                \n",
       "    \n",
       "        <p style=\"margin-bottom: 0.5em; margin-top: 0em\">\n",
       "            <b>\n",
       "    \n",
       "        y=0\n",
       "    \n",
       "</b>\n",
       "\n",
       "    \n",
       "    (probability <b>0.804</b>, score <b>-1.409</b>)\n",
       "\n",
       "top features\n",
       "        </p>\n",
       "    \n",
       "    <table class=\"eli5-weights\"\n",
       "           style=\"border-collapse: collapse; border: none; margin-top: 0em; table-layout: auto; margin-bottom: 2em;\">\n",
       "        <thead>\n",
       "        <tr style=\"border: none;\">\n",
       "            \n",
       "                <th style=\"padding: 0 1em 0 0.5em; text-align: right; border: none;\" title=\"Feature contribution already accounts for the feature value (for linear models, contribution = weight * feature value), and the sum of feature contributions is equal to the score or, for some classifiers, to the probability. Feature values are shown if &quot;show_feature_values&quot; is True.\">\n",
       "                    Contribution<sup>?</sup>\n",
       "                </th>\n",
       "            \n",
       "            <th style=\"padding: 0 0.5em 0 0.5em; text-align: left; border: none;\">Feature</th>\n",
       "            \n",
       "                <th style=\"padding: 0 0.5em 0 1em; text-align: right; border: none;\">Value</th>\n",
       "            \n",
       "        </tr>\n",
       "        </thead>\n",
       "        <tbody>\n",
       "        \n",
       "            <tr style=\"background-color: hsl(120, 100.00%, 80.00%); border: none;\">\n",
       "    <td style=\"padding: 0 1em 0 0.5em; text-align: right; border: none;\">\n",
       "        +0.692\n",
       "    </td>\n",
       "    <td style=\"padding: 0 0.5em 0 0.5em; text-align: left; border: none;\">\n",
       "        contact__unknown\n",
       "    </td>\n",
       "    \n",
       "        <td style=\"padding: 0 0.5em 0 1em; text-align: right; border: none;\">\n",
       "            1.000\n",
       "        </td>\n",
       "    \n",
       "</tr>\n",
       "        \n",
       "            <tr style=\"background-color: hsl(120, 100.00%, 87.82%); border: none;\">\n",
       "    <td style=\"padding: 0 1em 0 0.5em; text-align: right; border: none;\">\n",
       "        +0.341\n",
       "    </td>\n",
       "    <td style=\"padding: 0 0.5em 0 0.5em; text-align: left; border: none;\">\n",
       "        month__may\n",
       "    </td>\n",
       "    \n",
       "        <td style=\"padding: 0 0.5em 0 1em; text-align: right; border: none;\">\n",
       "            1.000\n",
       "        </td>\n",
       "    \n",
       "</tr>\n",
       "        \n",
       "            <tr style=\"background-color: hsl(120, 100.00%, 89.32%); border: none;\">\n",
       "    <td style=\"padding: 0 1em 0 0.5em; text-align: right; border: none;\">\n",
       "        +0.283\n",
       "    </td>\n",
       "    <td style=\"padding: 0 0.5em 0 0.5em; text-align: left; border: none;\">\n",
       "        campaign_rev__sekali\n",
       "    </td>\n",
       "    \n",
       "        <td style=\"padding: 0 0.5em 0 1em; text-align: right; border: none;\">\n",
       "            1.000\n",
       "        </td>\n",
       "    \n",
       "</tr>\n",
       "        \n",
       "            <tr style=\"background-color: hsl(120, 100.00%, 91.27%); border: none;\">\n",
       "    <td style=\"padding: 0 1em 0 0.5em; text-align: right; border: none;\">\n",
       "        +0.212\n",
       "    </td>\n",
       "    <td style=\"padding: 0 0.5em 0 0.5em; text-align: left; border: none;\">\n",
       "        age_cat__Adult_3: 35-39\n",
       "    </td>\n",
       "    \n",
       "        <td style=\"padding: 0 0.5em 0 1em; text-align: right; border: none;\">\n",
       "            1.000\n",
       "        </td>\n",
       "    \n",
       "</tr>\n",
       "        \n",
       "            <tr style=\"background-color: hsl(120, 100.00%, 91.74%); border: none;\">\n",
       "    <td style=\"padding: 0 1em 0 0.5em; text-align: right; border: none;\">\n",
       "        +0.195\n",
       "    </td>\n",
       "    <td style=\"padding: 0 0.5em 0 0.5em; text-align: left; border: none;\">\n",
       "        marital__married\n",
       "    </td>\n",
       "    \n",
       "        <td style=\"padding: 0 0.5em 0 1em; text-align: right; border: none;\">\n",
       "            1.000\n",
       "        </td>\n",
       "    \n",
       "</tr>\n",
       "        \n",
       "            <tr style=\"background-color: hsl(120, 100.00%, 93.00%); border: none;\">\n",
       "    <td style=\"padding: 0 1em 0 0.5em; text-align: right; border: none;\">\n",
       "        +0.154\n",
       "    </td>\n",
       "    <td style=\"padding: 0 0.5em 0 0.5em; text-align: left; border: none;\">\n",
       "        housing__yes\n",
       "    </td>\n",
       "    \n",
       "        <td style=\"padding: 0 0.5em 0 1em; text-align: right; border: none;\">\n",
       "            1.000\n",
       "        </td>\n",
       "    \n",
       "</tr>\n",
       "        \n",
       "            <tr style=\"background-color: hsl(120, 100.00%, 97.61%); border: none;\">\n",
       "    <td style=\"padding: 0 1em 0 0.5em; text-align: right; border: none;\">\n",
       "        +0.033\n",
       "    </td>\n",
       "    <td style=\"padding: 0 0.5em 0 0.5em; text-align: left; border: none;\">\n",
       "        education__secondary\n",
       "    </td>\n",
       "    \n",
       "        <td style=\"padding: 0 0.5em 0 1em; text-align: right; border: none;\">\n",
       "            1.000\n",
       "        </td>\n",
       "    \n",
       "</tr>\n",
       "        \n",
       "            <tr style=\"background-color: hsl(120, 100.00%, 98.38%); border: none;\">\n",
       "    <td style=\"padding: 0 1em 0 0.5em; text-align: right; border: none;\">\n",
       "        +0.019\n",
       "    </td>\n",
       "    <td style=\"padding: 0 0.5em 0 0.5em; text-align: left; border: none;\">\n",
       "        poutcome__unknown\n",
       "    </td>\n",
       "    \n",
       "        <td style=\"padding: 0 0.5em 0 1em; text-align: right; border: none;\">\n",
       "            1.000\n",
       "        </td>\n",
       "    \n",
       "</tr>\n",
       "        \n",
       "            <tr style=\"background-color: hsl(120, 100.00%, 99.18%); border: none;\">\n",
       "    <td style=\"padding: 0 1em 0 0.5em; text-align: right; border: none;\">\n",
       "        +0.007\n",
       "    </td>\n",
       "    <td style=\"padding: 0 0.5em 0 0.5em; text-align: left; border: none;\">\n",
       "        job__blue-collar\n",
       "    </td>\n",
       "    \n",
       "        <td style=\"padding: 0 0.5em 0 1em; text-align: right; border: none;\">\n",
       "            1.000\n",
       "        </td>\n",
       "    \n",
       "</tr>\n",
       "        \n",
       "        \n",
       "\n",
       "        \n",
       "        \n",
       "            <tr style=\"background-color: hsl(0, 100.00%, 97.72%); border: none;\">\n",
       "    <td style=\"padding: 0 1em 0 0.5em; text-align: right; border: none;\">\n",
       "        -0.031\n",
       "    </td>\n",
       "    <td style=\"padding: 0 0.5em 0 0.5em; text-align: left; border: none;\">\n",
       "        &lt;BIAS&gt;\n",
       "    </td>\n",
       "    \n",
       "        <td style=\"padding: 0 0.5em 0 1em; text-align: right; border: none;\">\n",
       "            1.000\n",
       "        </td>\n",
       "    \n",
       "</tr>\n",
       "        \n",
       "            <tr style=\"background-color: hsl(0, 100.00%, 94.81%); border: none;\">\n",
       "    <td style=\"padding: 0 1em 0 0.5em; text-align: right; border: none;\">\n",
       "        -0.101\n",
       "    </td>\n",
       "    <td style=\"padding: 0 0.5em 0 0.5em; text-align: left; border: none;\">\n",
       "        loan__no\n",
       "    </td>\n",
       "    \n",
       "        <td style=\"padding: 0 0.5em 0 1em; text-align: right; border: none;\">\n",
       "            1.000\n",
       "        </td>\n",
       "    \n",
       "</tr>\n",
       "        \n",
       "            <tr style=\"background-color: hsl(0, 100.00%, 86.47%); border: none;\">\n",
       "    <td style=\"padding: 0 1em 0 0.5em; text-align: right; border: none;\">\n",
       "        -0.396\n",
       "    </td>\n",
       "    <td style=\"padding: 0 0.5em 0 0.5em; text-align: left; border: none;\">\n",
       "        balance_cat\n",
       "    </td>\n",
       "    \n",
       "        <td style=\"padding: 0 0.5em 0 1em; text-align: right; border: none;\">\n",
       "            3.000\n",
       "        </td>\n",
       "    \n",
       "</tr>\n",
       "        \n",
       "\n",
       "        </tbody>\n",
       "    </table>\n",
       "\n",
       "            \n",
       "        \n",
       "\n",
       "        \n",
       "\n",
       "\n",
       "\n",
       "    \n",
       "\n",
       "    \n",
       "\n",
       "    \n",
       "\n",
       "    \n",
       "\n",
       "\n",
       "    \n",
       "\n",
       "    \n",
       "\n",
       "    \n",
       "\n",
       "    \n",
       "\n",
       "    \n",
       "\n",
       "    \n",
       "\n",
       "\n",
       "    \n",
       "\n",
       "    \n",
       "\n",
       "    \n",
       "\n",
       "    \n",
       "\n",
       "    \n",
       "\n",
       "    \n",
       "\n",
       "\n",
       "\n"
      ],
      "text/plain": [
       "<IPython.core.display.HTML object>"
      ]
     },
     "execution_count": 95,
     "metadata": {},
     "output_type": "execute_result"
    }
   ],
   "source": [
    "eli5.show_prediction(lr_model.named_steps[\"model\"], \n",
    "                     lr_model.named_steps[\"preprocessor\"].transform(X_test)[i],\n",
    "                     feature_names=all_features, show_feature_values=True)"
   ]
  },
  {
   "cell_type": "markdown",
   "metadata": {},
   "source": [
    "## Decision Tree"
   ]
  },
  {
   "cell_type": "code",
   "execution_count": 96,
   "metadata": {},
   "outputs": [
    {
     "data": {
      "text/plain": [
       "GridSearchCV(cv=5,\n",
       "             estimator=Pipeline(steps=[('preprocessor',\n",
       "                                        ColumnTransformer(transformers=[('numerical',\n",
       "                                                                         'passthrough',\n",
       "                                                                         ['pdays_rev',\n",
       "                                                                          'balance_cat']),\n",
       "                                                                        ('categorical',\n",
       "                                                                         OneHotEncoder(handle_unknown='ignore',\n",
       "                                                                                       sparse=False),\n",
       "                                                                         ['job',\n",
       "                                                                          'marital',\n",
       "                                                                          'education',\n",
       "                                                                          'housing',\n",
       "                                                                          'loan',\n",
       "                                                                          'contact',\n",
       "                                                                          'poutcome',\n",
       "                                                                          'month',\n",
       "                                                                          'campaign_rev',\n",
       "                                                                          'age_cat'])])),\n",
       "                                       ('model',\n",
       "                                        DecisionTreeClassifier(class_weight={0: 0.095,\n",
       "                                                                             1: 0.905}))]),\n",
       "             n_jobs=-1,\n",
       "             param_grid={'model__max_depth': [3, 5, 7],\n",
       "                         'model__min_samples_split': [2, 5]},\n",
       "             scoring='recall')"
      ]
     },
     "execution_count": 96,
     "metadata": {},
     "output_type": "execute_result"
    }
   ],
   "source": [
    "gs = GridSearchCV(dt_model, {\"model__max_depth\": [3, 5, 7], \n",
    "                             \"model__min_samples_split\": [2, 5]}, \n",
    "                  n_jobs=-1, cv=5, scoring=\"recall\")\n",
    "\n",
    "gs.fit(X_train, y_train)"
   ]
  },
  {
   "cell_type": "markdown",
   "metadata": {},
   "source": [
    "Let's see our best parameters and score"
   ]
  },
  {
   "cell_type": "code",
   "execution_count": 97,
   "metadata": {},
   "outputs": [
    {
     "name": "stdout",
     "output_type": "stream",
     "text": [
      "{'model__max_depth': 3, 'model__min_samples_split': 2}\n",
      "0.5758199446952992\n"
     ]
    }
   ],
   "source": [
    "print(gs.best_params_)\n",
    "print(gs.best_score_)"
   ]
  },
  {
   "cell_type": "code",
   "execution_count": 98,
   "metadata": {},
   "outputs": [
    {
     "data": {
      "text/plain": [
       "Pipeline(steps=[('preprocessor',\n",
       "                 ColumnTransformer(transformers=[('numerical', 'passthrough',\n",
       "                                                  ['pdays_rev', 'balance_cat']),\n",
       "                                                 ('categorical',\n",
       "                                                  OneHotEncoder(handle_unknown='ignore',\n",
       "                                                                sparse=False),\n",
       "                                                  ['job', 'marital',\n",
       "                                                   'education', 'housing',\n",
       "                                                   'loan', 'contact',\n",
       "                                                   'poutcome', 'month',\n",
       "                                                   'campaign_rev',\n",
       "                                                   'age_cat'])])),\n",
       "                ('model',\n",
       "                 DecisionTreeClassifier(class_weight={0: 0.095, 1: 0.905},\n",
       "                                        max_depth=3))])"
      ]
     },
     "execution_count": 98,
     "metadata": {},
     "output_type": "execute_result"
    }
   ],
   "source": [
    "dt_model.set_params(**gs.best_params_)"
   ]
  },
  {
   "cell_type": "markdown",
   "metadata": {},
   "source": [
    "### Training model"
   ]
  },
  {
   "cell_type": "code",
   "execution_count": 99,
   "metadata": {},
   "outputs": [],
   "source": [
    "dt_model.fit(X_train, y_train)\n",
    "y_pred = dt_model.predict(X_test)"
   ]
  },
  {
   "cell_type": "markdown",
   "metadata": {},
   "source": [
    "### Evaluation"
   ]
  },
  {
   "cell_type": "code",
   "execution_count": 100,
   "metadata": {},
   "outputs": [
    {
     "data": {
      "text/plain": [
       "0.6708732963149924"
      ]
     },
     "execution_count": 100,
     "metadata": {},
     "output_type": "execute_result"
    }
   ],
   "source": [
    "accuracy_score(y_test, y_pred)"
   ]
  },
  {
   "cell_type": "code",
   "execution_count": 101,
   "metadata": {},
   "outputs": [
    {
     "name": "stdout",
     "output_type": "stream",
     "text": [
      "Accuracy (Test Set): 0.67\n",
      "Precision (Test Set): 0.16\n",
      "Recall (Test Set): 0.59\n",
      "F1-Score (Test Set): 0.26\n",
      "AUC: 0.64\n"
     ]
    }
   ],
   "source": [
    "eval_classification(dt_model, y_pred, X_train, y_train, X_test, y_test)"
   ]
  },
  {
   "cell_type": "code",
   "execution_count": 102,
   "metadata": {},
   "outputs": [
    {
     "name": "stdout",
     "output_type": "stream",
     "text": [
      "              precision    recall  f1-score   support\n",
      "\n",
      "           0       0.94      0.68      0.79     10741\n",
      "           1       0.16      0.59      0.26      1145\n",
      "\n",
      "    accuracy                           0.67     11886\n",
      "   macro avg       0.55      0.64      0.52     11886\n",
      "weighted avg       0.87      0.67      0.74     11886\n",
      "\n"
     ]
    }
   ],
   "source": [
    "print(classification_report(y_test, y_pred))"
   ]
  },
  {
   "cell_type": "code",
   "execution_count": 103,
   "metadata": {},
   "outputs": [
    {
     "data": {
      "text/html": [
       "\n",
       "    <style>\n",
       "    table.eli5-weights tr:hover {\n",
       "        filter: brightness(85%);\n",
       "    }\n",
       "</style>\n",
       "\n",
       "\n",
       "\n",
       "    \n",
       "\n",
       "    \n",
       "\n",
       "    \n",
       "\n",
       "    \n",
       "\n",
       "    \n",
       "\n",
       "    \n",
       "\n",
       "\n",
       "    \n",
       "\n",
       "    \n",
       "\n",
       "    \n",
       "\n",
       "    \n",
       "\n",
       "    \n",
       "\n",
       "    \n",
       "\n",
       "\n",
       "    \n",
       "\n",
       "    \n",
       "\n",
       "    \n",
       "\n",
       "    \n",
       "\n",
       "    \n",
       "        <table class=\"eli5-weights eli5-feature-importances\" style=\"border-collapse: collapse; border: none; margin-top: 0em; table-layout: auto;\">\n",
       "    <thead>\n",
       "    <tr style=\"border: none;\">\n",
       "        <th style=\"padding: 0 1em 0 0.5em; text-align: right; border: none;\">Weight</th>\n",
       "        <th style=\"padding: 0 0.5em 0 0.5em; text-align: left; border: none;\">Feature</th>\n",
       "    </tr>\n",
       "    </thead>\n",
       "    <tbody>\n",
       "    \n",
       "        <tr style=\"background-color: hsl(120, 100.00%, 80.00%); border: none;\">\n",
       "            <td style=\"padding: 0 1em 0 0.5em; text-align: right; border: none;\">\n",
       "                0.5146\n",
       "                \n",
       "            </td>\n",
       "            <td style=\"padding: 0 0.5em 0 0.5em; text-align: left; border: none;\">\n",
       "                contact__unknown\n",
       "            </td>\n",
       "        </tr>\n",
       "    \n",
       "        <tr style=\"background-color: hsl(120, 100.00%, 87.59%); border: none;\">\n",
       "            <td style=\"padding: 0 1em 0 0.5em; text-align: right; border: none;\">\n",
       "                0.2603\n",
       "                \n",
       "            </td>\n",
       "            <td style=\"padding: 0 0.5em 0 0.5em; text-align: left; border: none;\">\n",
       "                poutcome__success\n",
       "            </td>\n",
       "        </tr>\n",
       "    \n",
       "        <tr style=\"background-color: hsl(120, 100.00%, 91.09%); border: none;\">\n",
       "            <td style=\"padding: 0 1em 0 0.5em; text-align: right; border: none;\">\n",
       "                0.1622\n",
       "                \n",
       "            </td>\n",
       "            <td style=\"padding: 0 0.5em 0 0.5em; text-align: left; border: none;\">\n",
       "                housing__yes\n",
       "            </td>\n",
       "        </tr>\n",
       "    \n",
       "        <tr style=\"background-color: hsl(120, 100.00%, 96.47%); border: none;\">\n",
       "            <td style=\"padding: 0 1em 0 0.5em; text-align: right; border: none;\">\n",
       "                0.0431\n",
       "                \n",
       "            </td>\n",
       "            <td style=\"padding: 0 0.5em 0 0.5em; text-align: left; border: none;\">\n",
       "                month__oct\n",
       "            </td>\n",
       "        </tr>\n",
       "    \n",
       "        <tr style=\"background-color: hsl(120, 100.00%, 98.39%); border: none;\">\n",
       "            <td style=\"padding: 0 1em 0 0.5em; text-align: right; border: none;\">\n",
       "                0.0141\n",
       "                \n",
       "            </td>\n",
       "            <td style=\"padding: 0 0.5em 0 0.5em; text-align: left; border: none;\">\n",
       "                month__may\n",
       "            </td>\n",
       "        </tr>\n",
       "    \n",
       "        <tr style=\"background-color: hsl(120, 100.00%, 99.39%); border: none;\">\n",
       "            <td style=\"padding: 0 1em 0 0.5em; text-align: right; border: none;\">\n",
       "                0.0035\n",
       "                \n",
       "            </td>\n",
       "            <td style=\"padding: 0 0.5em 0 0.5em; text-align: left; border: none;\">\n",
       "                balance_cat\n",
       "            </td>\n",
       "        </tr>\n",
       "    \n",
       "        <tr style=\"background-color: hsl(120, 100.00%, 99.57%); border: none;\">\n",
       "            <td style=\"padding: 0 1em 0 0.5em; text-align: right; border: none;\">\n",
       "                0.0021\n",
       "                \n",
       "            </td>\n",
       "            <td style=\"padding: 0 0.5em 0 0.5em; text-align: left; border: none;\">\n",
       "                housing__no\n",
       "            </td>\n",
       "        </tr>\n",
       "    \n",
       "        <tr style=\"background-color: hsl(0, 100.00%, 100.00%); border: none;\">\n",
       "            <td style=\"padding: 0 1em 0 0.5em; text-align: right; border: none;\">\n",
       "                0\n",
       "                \n",
       "            </td>\n",
       "            <td style=\"padding: 0 0.5em 0 0.5em; text-align: left; border: none;\">\n",
       "                contact__telephone\n",
       "            </td>\n",
       "        </tr>\n",
       "    \n",
       "        <tr style=\"background-color: hsl(0, 100.00%, 100.00%); border: none;\">\n",
       "            <td style=\"padding: 0 1em 0 0.5em; text-align: right; border: none;\">\n",
       "                0\n",
       "                \n",
       "            </td>\n",
       "            <td style=\"padding: 0 0.5em 0 0.5em; text-align: left; border: none;\">\n",
       "                job__admin.\n",
       "            </td>\n",
       "        </tr>\n",
       "    \n",
       "        <tr style=\"background-color: hsl(0, 100.00%, 100.00%); border: none;\">\n",
       "            <td style=\"padding: 0 1em 0 0.5em; text-align: right; border: none;\">\n",
       "                0\n",
       "                \n",
       "            </td>\n",
       "            <td style=\"padding: 0 0.5em 0 0.5em; text-align: left; border: none;\">\n",
       "                contact__cellular\n",
       "            </td>\n",
       "        </tr>\n",
       "    \n",
       "        <tr style=\"background-color: hsl(0, 100.00%, 100.00%); border: none;\">\n",
       "            <td style=\"padding: 0 1em 0 0.5em; text-align: right; border: none;\">\n",
       "                0\n",
       "                \n",
       "            </td>\n",
       "            <td style=\"padding: 0 0.5em 0 0.5em; text-align: left; border: none;\">\n",
       "                loan__yes\n",
       "            </td>\n",
       "        </tr>\n",
       "    \n",
       "        <tr style=\"background-color: hsl(0, 100.00%, 100.00%); border: none;\">\n",
       "            <td style=\"padding: 0 1em 0 0.5em; text-align: right; border: none;\">\n",
       "                0\n",
       "                \n",
       "            </td>\n",
       "            <td style=\"padding: 0 0.5em 0 0.5em; text-align: left; border: none;\">\n",
       "                marital__married\n",
       "            </td>\n",
       "        </tr>\n",
       "    \n",
       "        <tr style=\"background-color: hsl(0, 100.00%, 100.00%); border: none;\">\n",
       "            <td style=\"padding: 0 1em 0 0.5em; text-align: right; border: none;\">\n",
       "                0\n",
       "                \n",
       "            </td>\n",
       "            <td style=\"padding: 0 0.5em 0 0.5em; text-align: left; border: none;\">\n",
       "                education__unknown\n",
       "            </td>\n",
       "        </tr>\n",
       "    \n",
       "        <tr style=\"background-color: hsl(0, 100.00%, 100.00%); border: none;\">\n",
       "            <td style=\"padding: 0 1em 0 0.5em; text-align: right; border: none;\">\n",
       "                0\n",
       "                \n",
       "            </td>\n",
       "            <td style=\"padding: 0 0.5em 0 0.5em; text-align: left; border: none;\">\n",
       "                education__tertiary\n",
       "            </td>\n",
       "        </tr>\n",
       "    \n",
       "        <tr style=\"background-color: hsl(0, 100.00%, 100.00%); border: none;\">\n",
       "            <td style=\"padding: 0 1em 0 0.5em; text-align: right; border: none;\">\n",
       "                0\n",
       "                \n",
       "            </td>\n",
       "            <td style=\"padding: 0 0.5em 0 0.5em; text-align: left; border: none;\">\n",
       "                education__secondary\n",
       "            </td>\n",
       "        </tr>\n",
       "    \n",
       "        <tr style=\"background-color: hsl(0, 100.00%, 100.00%); border: none;\">\n",
       "            <td style=\"padding: 0 1em 0 0.5em; text-align: right; border: none;\">\n",
       "                0\n",
       "                \n",
       "            </td>\n",
       "            <td style=\"padding: 0 0.5em 0 0.5em; text-align: left; border: none;\">\n",
       "                education__primary\n",
       "            </td>\n",
       "        </tr>\n",
       "    \n",
       "        <tr style=\"background-color: hsl(0, 100.00%, 100.00%); border: none;\">\n",
       "            <td style=\"padding: 0 1em 0 0.5em; text-align: right; border: none;\">\n",
       "                0\n",
       "                \n",
       "            </td>\n",
       "            <td style=\"padding: 0 0.5em 0 0.5em; text-align: left; border: none;\">\n",
       "                age_cat__Youth: &lt;=24\n",
       "            </td>\n",
       "        </tr>\n",
       "    \n",
       "        <tr style=\"background-color: hsl(0, 100.00%, 100.00%); border: none;\">\n",
       "            <td style=\"padding: 0 1em 0 0.5em; text-align: right; border: none;\">\n",
       "                0\n",
       "                \n",
       "            </td>\n",
       "            <td style=\"padding: 0 0.5em 0 0.5em; text-align: left; border: none;\">\n",
       "                job__entrepreneur\n",
       "            </td>\n",
       "        </tr>\n",
       "    \n",
       "        <tr style=\"background-color: hsl(0, 100.00%, 100.00%); border: none;\">\n",
       "            <td style=\"padding: 0 1em 0 0.5em; text-align: right; border: none;\">\n",
       "                0\n",
       "                \n",
       "            </td>\n",
       "            <td style=\"padding: 0 0.5em 0 0.5em; text-align: left; border: none;\">\n",
       "                loan__no\n",
       "            </td>\n",
       "        </tr>\n",
       "    \n",
       "        <tr style=\"background-color: hsl(0, 100.00%, 100.00%); border: none;\">\n",
       "            <td style=\"padding: 0 1em 0 0.5em; text-align: right; border: none;\">\n",
       "                0\n",
       "                \n",
       "            </td>\n",
       "            <td style=\"padding: 0 0.5em 0 0.5em; text-align: left; border: none;\">\n",
       "                job__blue-collar\n",
       "            </td>\n",
       "        </tr>\n",
       "    \n",
       "    \n",
       "        \n",
       "            <tr style=\"background-color: hsl(0, 100.00%, 100.00%); border: none;\">\n",
       "                <td colspan=\"2\" style=\"padding: 0 0.5em 0 0.5em; text-align: center; border: none; white-space: nowrap;\">\n",
       "                    <i>&hellip; 38 more &hellip;</i>\n",
       "                </td>\n",
       "            </tr>\n",
       "        \n",
       "    \n",
       "    </tbody>\n",
       "</table>\n",
       "    \n",
       "\n",
       "    \n",
       "\n",
       "\n",
       "    \n",
       "\n",
       "    \n",
       "\n",
       "    \n",
       "\n",
       "    \n",
       "\n",
       "    \n",
       "\n",
       "    \n",
       "        \n",
       "        <br>\n",
       "        <pre>contact__unknown <= 0.500  (70.1%)\n",
       "    poutcome__success <= 0.500  (68.3%)\n",
       "        housing__yes <= 0.500  (32.5%)  ---> 0.610\n",
       "        housing__yes > 0.500  (35.7%)  ---> 0.458\n",
       "    poutcome__success > 0.500  (1.8%)\n",
       "        housing__no <= 0.500  (0.8%)  ---> 0.864\n",
       "        housing__no > 0.500  (1.0%)  ---> 0.930\n",
       "contact__unknown > 0.500  (29.9%)\n",
       "    month__oct <= 0.500  (29.8%)\n",
       "        month__may <= 0.500  (10.9%)  ---> 0.332\n",
       "        month__may > 0.500  (18.9%)  ---> 0.249\n",
       "    month__oct > 0.500  (0.1%)\n",
       "        balance_cat <= 2.500  (0.0%)  ---> 0.000\n",
       "        balance_cat > 2.500  (0.1%)  ---> 0.969</pre>\n",
       "    \n",
       "\n",
       "\n",
       "\n"
      ],
      "text/plain": [
       "<IPython.core.display.HTML object>"
      ]
     },
     "execution_count": 103,
     "metadata": {},
     "output_type": "execute_result"
    }
   ],
   "source": [
    "eli5.show_weights(dt_model.named_steps[\"model\"], feature_names=all_features)"
   ]
  },
  {
   "cell_type": "code",
   "execution_count": 104,
   "metadata": {},
   "outputs": [
    {
     "data": {
      "text/html": [
       "\n",
       "    <style>\n",
       "    table.eli5-weights tr:hover {\n",
       "        filter: brightness(85%);\n",
       "    }\n",
       "</style>\n",
       "\n",
       "\n",
       "\n",
       "    \n",
       "\n",
       "    \n",
       "\n",
       "    \n",
       "\n",
       "    \n",
       "\n",
       "    \n",
       "\n",
       "    \n",
       "\n",
       "\n",
       "    \n",
       "\n",
       "    \n",
       "\n",
       "    \n",
       "\n",
       "    \n",
       "        \n",
       "\n",
       "    \n",
       "\n",
       "        \n",
       "            \n",
       "                \n",
       "                \n",
       "    \n",
       "        <p style=\"margin-bottom: 0.5em; margin-top: 0em\">\n",
       "            <b>\n",
       "    \n",
       "        y=0\n",
       "    \n",
       "</b>\n",
       "\n",
       "    \n",
       "    (probability <b>0.751</b>)\n",
       "\n",
       "top features\n",
       "        </p>\n",
       "    \n",
       "    <table class=\"eli5-weights\"\n",
       "           style=\"border-collapse: collapse; border: none; margin-top: 0em; table-layout: auto; margin-bottom: 2em;\">\n",
       "        <thead>\n",
       "        <tr style=\"border: none;\">\n",
       "            \n",
       "                <th style=\"padding: 0 1em 0 0.5em; text-align: right; border: none;\" title=\"Feature contribution already accounts for the feature value (for linear models, contribution = weight * feature value), and the sum of feature contributions is equal to the score or, for some classifiers, to the probability. Feature values are shown if &quot;show_feature_values&quot; is True.\">\n",
       "                    Contribution<sup>?</sup>\n",
       "                </th>\n",
       "            \n",
       "            <th style=\"padding: 0 0.5em 0 0.5em; text-align: left; border: none;\">Feature</th>\n",
       "            \n",
       "                <th style=\"padding: 0 0.5em 0 1em; text-align: right; border: none;\">Value</th>\n",
       "            \n",
       "        </tr>\n",
       "        </thead>\n",
       "        <tbody>\n",
       "        \n",
       "            <tr style=\"background-color: hsl(120, 100.00%, 80.00%); border: none;\">\n",
       "    <td style=\"padding: 0 1em 0 0.5em; text-align: right; border: none;\">\n",
       "        +0.496\n",
       "    </td>\n",
       "    <td style=\"padding: 0 0.5em 0 0.5em; text-align: left; border: none;\">\n",
       "        &lt;BIAS&gt;\n",
       "    </td>\n",
       "    \n",
       "        <td style=\"padding: 0 0.5em 0 1em; text-align: right; border: none;\">\n",
       "            1.000\n",
       "        </td>\n",
       "    \n",
       "</tr>\n",
       "        \n",
       "            <tr style=\"background-color: hsl(120, 100.00%, 88.86%); border: none;\">\n",
       "    <td style=\"padding: 0 1em 0 0.5em; text-align: right; border: none;\">\n",
       "        +0.215\n",
       "    </td>\n",
       "    <td style=\"padding: 0 0.5em 0 0.5em; text-align: left; border: none;\">\n",
       "        contact__unknown\n",
       "    </td>\n",
       "    \n",
       "        <td style=\"padding: 0 0.5em 0 1em; text-align: right; border: none;\">\n",
       "            1.000\n",
       "        </td>\n",
       "    \n",
       "</tr>\n",
       "        \n",
       "            <tr style=\"background-color: hsl(120, 100.00%, 97.04%); border: none;\">\n",
       "    <td style=\"padding: 0 1em 0 0.5em; text-align: right; border: none;\">\n",
       "        +0.032\n",
       "    </td>\n",
       "    <td style=\"padding: 0 0.5em 0 0.5em; text-align: left; border: none;\">\n",
       "        month__may\n",
       "    </td>\n",
       "    \n",
       "        <td style=\"padding: 0 0.5em 0 1em; text-align: right; border: none;\">\n",
       "            1.000\n",
       "        </td>\n",
       "    \n",
       "</tr>\n",
       "        \n",
       "            <tr style=\"background-color: hsl(120, 100.00%, 98.91%); border: none;\">\n",
       "    <td style=\"padding: 0 1em 0 0.5em; text-align: right; border: none;\">\n",
       "        +0.008\n",
       "    </td>\n",
       "    <td style=\"padding: 0 0.5em 0 0.5em; text-align: left; border: none;\">\n",
       "        month__oct\n",
       "    </td>\n",
       "    \n",
       "        <td style=\"padding: 0 0.5em 0 1em; text-align: right; border: none;\">\n",
       "            0.000\n",
       "        </td>\n",
       "    \n",
       "</tr>\n",
       "        \n",
       "        \n",
       "\n",
       "        \n",
       "        \n",
       "\n",
       "        </tbody>\n",
       "    </table>\n",
       "\n",
       "            \n",
       "        \n",
       "\n",
       "        \n",
       "\n",
       "\n",
       "\n",
       "    \n",
       "\n",
       "    \n",
       "\n",
       "    \n",
       "\n",
       "    \n",
       "\n",
       "\n",
       "    \n",
       "\n",
       "    \n",
       "\n",
       "    \n",
       "\n",
       "    \n",
       "\n",
       "    \n",
       "\n",
       "    \n",
       "\n",
       "\n",
       "    \n",
       "\n",
       "    \n",
       "\n",
       "    \n",
       "\n",
       "    \n",
       "\n",
       "    \n",
       "\n",
       "    \n",
       "\n",
       "\n",
       "\n"
      ],
      "text/plain": [
       "<IPython.core.display.HTML object>"
      ]
     },
     "execution_count": 104,
     "metadata": {},
     "output_type": "execute_result"
    }
   ],
   "source": [
    "eli5.show_prediction(dt_model.named_steps[\"model\"], \n",
    "                     dt_model.named_steps[\"preprocessor\"].transform(X_test)[i],\n",
    "                     feature_names=all_features, show_feature_values=True)"
   ]
  },
  {
   "cell_type": "markdown",
   "metadata": {},
   "source": [
    "## Random Forest"
   ]
  },
  {
   "cell_type": "code",
   "execution_count": 105,
   "metadata": {},
   "outputs": [
    {
     "data": {
      "text/plain": [
       "GridSearchCV(cv=5,\n",
       "             estimator=Pipeline(steps=[('preprocessor',\n",
       "                                        ColumnTransformer(transformers=[('numerical',\n",
       "                                                                         'passthrough',\n",
       "                                                                         ['pdays_rev',\n",
       "                                                                          'balance_cat']),\n",
       "                                                                        ('categorical',\n",
       "                                                                         OneHotEncoder(handle_unknown='ignore',\n",
       "                                                                                       sparse=False),\n",
       "                                                                         ['job',\n",
       "                                                                          'marital',\n",
       "                                                                          'education',\n",
       "                                                                          'housing',\n",
       "                                                                          'loan',\n",
       "                                                                          'contact',\n",
       "                                                                          'poutcome',\n",
       "                                                                          'month',\n",
       "                                                                          'campaign_rev',\n",
       "                                                                          'age_cat'])])),\n",
       "                                       ('model',\n",
       "                                        RandomForestClassifier(class_weight={0: 0.095,\n",
       "                                                                             1: 0.905},\n",
       "                                                               n_jobs=-1))]),\n",
       "             n_jobs=-1,\n",
       "             param_grid={'model__max_depth': [10, 15],\n",
       "                         'model__min_samples_split': [5, 10]},\n",
       "             scoring='recall')"
      ]
     },
     "execution_count": 105,
     "metadata": {},
     "output_type": "execute_result"
    }
   ],
   "source": [
    "gs = GridSearchCV(rf_model, {\"model__max_depth\": [10, 15], \n",
    "                             \"model__min_samples_split\": [5, 10]}, \n",
    "                  n_jobs=-1, cv=5, scoring=\"recall\")\n",
    "\n",
    "gs.fit(X_train, y_train)"
   ]
  },
  {
   "cell_type": "code",
   "execution_count": 106,
   "metadata": {},
   "outputs": [
    {
     "name": "stdout",
     "output_type": "stream",
     "text": [
      "{'model__max_depth': 10, 'model__min_samples_split': 10}\n",
      "0.550369281388918\n"
     ]
    }
   ],
   "source": [
    "print(gs.best_params_)\n",
    "print(gs.best_score_)"
   ]
  },
  {
   "cell_type": "code",
   "execution_count": 107,
   "metadata": {},
   "outputs": [
    {
     "data": {
      "text/plain": [
       "Pipeline(steps=[('preprocessor',\n",
       "                 ColumnTransformer(transformers=[('numerical', 'passthrough',\n",
       "                                                  ['pdays_rev', 'balance_cat']),\n",
       "                                                 ('categorical',\n",
       "                                                  OneHotEncoder(handle_unknown='ignore',\n",
       "                                                                sparse=False),\n",
       "                                                  ['job', 'marital',\n",
       "                                                   'education', 'housing',\n",
       "                                                   'loan', 'contact',\n",
       "                                                   'poutcome', 'month',\n",
       "                                                   'campaign_rev',\n",
       "                                                   'age_cat'])])),\n",
       "                ('model',\n",
       "                 RandomForestClassifier(class_weight={0: 0.095, 1: 0.905},\n",
       "                                        max_depth=10, min_samples_split=10,\n",
       "                                        n_jobs=-1))])"
      ]
     },
     "execution_count": 107,
     "metadata": {},
     "output_type": "execute_result"
    }
   ],
   "source": [
    "rf_model.set_params(**gs.best_params_)"
   ]
  },
  {
   "cell_type": "markdown",
   "metadata": {},
   "source": [
    "### Trainning model"
   ]
  },
  {
   "cell_type": "code",
   "execution_count": 108,
   "metadata": {},
   "outputs": [],
   "source": [
    "rf_model.fit(X_train, y_train)\n",
    "y_pred = rf_model.predict(X_test)"
   ]
  },
  {
   "cell_type": "markdown",
   "metadata": {},
   "source": [
    "### Evaluation"
   ]
  },
  {
   "cell_type": "code",
   "execution_count": 109,
   "metadata": {},
   "outputs": [
    {
     "data": {
      "text/plain": [
       "0.7566044085478715"
      ]
     },
     "execution_count": 109,
     "metadata": {},
     "output_type": "execute_result"
    }
   ],
   "source": [
    "accuracy_score(y_test, y_pred)"
   ]
  },
  {
   "cell_type": "code",
   "execution_count": 110,
   "metadata": {},
   "outputs": [
    {
     "name": "stdout",
     "output_type": "stream",
     "text": [
      "Accuracy (Test Set): 0.76\n",
      "Precision (Test Set): 0.22\n",
      "Recall (Test Set): 0.61\n",
      "F1-Score (Test Set): 0.32\n",
      "AUC: 0.69\n"
     ]
    }
   ],
   "source": [
    "eval_classification(rf_model, y_pred, X_train, y_train, X_test, y_test)"
   ]
  },
  {
   "cell_type": "code",
   "execution_count": 111,
   "metadata": {},
   "outputs": [
    {
     "name": "stdout",
     "output_type": "stream",
     "text": [
      "              precision    recall  f1-score   support\n",
      "\n",
      "           0       0.95      0.77      0.85     10741\n",
      "           1       0.22      0.61      0.32      1145\n",
      "\n",
      "    accuracy                           0.76     11886\n",
      "   macro avg       0.58      0.69      0.59     11886\n",
      "weighted avg       0.88      0.76      0.80     11886\n",
      "\n"
     ]
    }
   ],
   "source": [
    "print(classification_report(y_test, y_pred))"
   ]
  },
  {
   "cell_type": "code",
   "execution_count": 112,
   "metadata": {},
   "outputs": [
    {
     "data": {
      "text/html": [
       "\n",
       "    <style>\n",
       "    table.eli5-weights tr:hover {\n",
       "        filter: brightness(85%);\n",
       "    }\n",
       "</style>\n",
       "\n",
       "\n",
       "\n",
       "    \n",
       "\n",
       "    \n",
       "\n",
       "    \n",
       "\n",
       "    \n",
       "\n",
       "    \n",
       "\n",
       "    \n",
       "\n",
       "\n",
       "    \n",
       "\n",
       "    \n",
       "\n",
       "    \n",
       "\n",
       "    \n",
       "\n",
       "    \n",
       "\n",
       "    \n",
       "\n",
       "\n",
       "    \n",
       "\n",
       "    \n",
       "\n",
       "    \n",
       "\n",
       "    \n",
       "\n",
       "    \n",
       "        <table class=\"eli5-weights eli5-feature-importances\" style=\"border-collapse: collapse; border: none; margin-top: 0em; table-layout: auto;\">\n",
       "    <thead>\n",
       "    <tr style=\"border: none;\">\n",
       "        <th style=\"padding: 0 1em 0 0.5em; text-align: right; border: none;\">Weight</th>\n",
       "        <th style=\"padding: 0 0.5em 0 0.5em; text-align: left; border: none;\">Feature</th>\n",
       "    </tr>\n",
       "    </thead>\n",
       "    <tbody>\n",
       "    \n",
       "        <tr style=\"background-color: hsl(120, 100.00%, 80.00%); border: none;\">\n",
       "            <td style=\"padding: 0 1em 0 0.5em; text-align: right; border: none;\">\n",
       "                0.0991\n",
       "                \n",
       "                    &plusmn; 0.1752\n",
       "                \n",
       "            </td>\n",
       "            <td style=\"padding: 0 0.5em 0 0.5em; text-align: left; border: none;\">\n",
       "                contact__unknown\n",
       "            </td>\n",
       "        </tr>\n",
       "    \n",
       "        <tr style=\"background-color: hsl(120, 100.00%, 82.23%); border: none;\">\n",
       "            <td style=\"padding: 0 1em 0 0.5em; text-align: right; border: none;\">\n",
       "                0.0837\n",
       "                \n",
       "                    &plusmn; 0.1203\n",
       "                \n",
       "            </td>\n",
       "            <td style=\"padding: 0 0.5em 0 0.5em; text-align: left; border: none;\">\n",
       "                poutcome__success\n",
       "            </td>\n",
       "        </tr>\n",
       "    \n",
       "        <tr style=\"background-color: hsl(120, 100.00%, 84.10%); border: none;\">\n",
       "            <td style=\"padding: 0 1em 0 0.5em; text-align: right; border: none;\">\n",
       "                0.0714\n",
       "                \n",
       "                    &plusmn; 0.1372\n",
       "                \n",
       "            </td>\n",
       "            <td style=\"padding: 0 0.5em 0 0.5em; text-align: left; border: none;\">\n",
       "                contact__cellular\n",
       "            </td>\n",
       "        </tr>\n",
       "    \n",
       "        <tr style=\"background-color: hsl(120, 100.00%, 87.26%); border: none;\">\n",
       "            <td style=\"padding: 0 1em 0 0.5em; text-align: right; border: none;\">\n",
       "                0.0520\n",
       "                \n",
       "                    &plusmn; 0.0411\n",
       "                \n",
       "            </td>\n",
       "            <td style=\"padding: 0 0.5em 0 0.5em; text-align: left; border: none;\">\n",
       "                balance_cat\n",
       "            </td>\n",
       "        </tr>\n",
       "    \n",
       "        <tr style=\"background-color: hsl(120, 100.00%, 87.53%); border: none;\">\n",
       "            <td style=\"padding: 0 1em 0 0.5em; text-align: right; border: none;\">\n",
       "                0.0505\n",
       "                \n",
       "                    &plusmn; 0.0959\n",
       "                \n",
       "            </td>\n",
       "            <td style=\"padding: 0 0.5em 0 0.5em; text-align: left; border: none;\">\n",
       "                housing__yes\n",
       "            </td>\n",
       "        </tr>\n",
       "    \n",
       "        <tr style=\"background-color: hsl(120, 100.00%, 88.10%); border: none;\">\n",
       "            <td style=\"padding: 0 1em 0 0.5em; text-align: right; border: none;\">\n",
       "                0.0472\n",
       "                \n",
       "                    &plusmn; 0.0981\n",
       "                \n",
       "            </td>\n",
       "            <td style=\"padding: 0 0.5em 0 0.5em; text-align: left; border: none;\">\n",
       "                housing__no\n",
       "            </td>\n",
       "        </tr>\n",
       "    \n",
       "        <tr style=\"background-color: hsl(120, 100.00%, 89.31%); border: none;\">\n",
       "            <td style=\"padding: 0 1em 0 0.5em; text-align: right; border: none;\">\n",
       "                0.0405\n",
       "                \n",
       "                    &plusmn; 0.0529\n",
       "                \n",
       "            </td>\n",
       "            <td style=\"padding: 0 0.5em 0 0.5em; text-align: left; border: none;\">\n",
       "                month__oct\n",
       "            </td>\n",
       "        </tr>\n",
       "    \n",
       "        <tr style=\"background-color: hsl(120, 100.00%, 90.32%); border: none;\">\n",
       "            <td style=\"padding: 0 1em 0 0.5em; text-align: right; border: none;\">\n",
       "                0.0351\n",
       "                \n",
       "                    &plusmn; 0.0577\n",
       "                \n",
       "            </td>\n",
       "            <td style=\"padding: 0 0.5em 0 0.5em; text-align: left; border: none;\">\n",
       "                month__apr\n",
       "            </td>\n",
       "        </tr>\n",
       "    \n",
       "        <tr style=\"background-color: hsl(120, 100.00%, 91.01%); border: none;\">\n",
       "            <td style=\"padding: 0 1em 0 0.5em; text-align: right; border: none;\">\n",
       "                0.0316\n",
       "                \n",
       "                    &plusmn; 0.0720\n",
       "                \n",
       "            </td>\n",
       "            <td style=\"padding: 0 0.5em 0 0.5em; text-align: left; border: none;\">\n",
       "                month__may\n",
       "            </td>\n",
       "        </tr>\n",
       "    \n",
       "        <tr style=\"background-color: hsl(120, 100.00%, 91.97%); border: none;\">\n",
       "            <td style=\"padding: 0 1em 0 0.5em; text-align: right; border: none;\">\n",
       "                0.0269\n",
       "                \n",
       "                    &plusmn; 0.0408\n",
       "                \n",
       "            </td>\n",
       "            <td style=\"padding: 0 0.5em 0 0.5em; text-align: left; border: none;\">\n",
       "                month__jun\n",
       "            </td>\n",
       "        </tr>\n",
       "    \n",
       "        <tr style=\"background-color: hsl(120, 100.00%, 92.35%); border: none;\">\n",
       "            <td style=\"padding: 0 1em 0 0.5em; text-align: right; border: none;\">\n",
       "                0.0251\n",
       "                \n",
       "                    &plusmn; 0.0440\n",
       "                \n",
       "            </td>\n",
       "            <td style=\"padding: 0 0.5em 0 0.5em; text-align: left; border: none;\">\n",
       "                age_cat__Senior: &gt;=65\n",
       "            </td>\n",
       "        </tr>\n",
       "    \n",
       "        <tr style=\"background-color: hsl(120, 100.00%, 92.37%); border: none;\">\n",
       "            <td style=\"padding: 0 1em 0 0.5em; text-align: right; border: none;\">\n",
       "                0.0250\n",
       "                \n",
       "                    &plusmn; 0.0507\n",
       "                \n",
       "            </td>\n",
       "            <td style=\"padding: 0 0.5em 0 0.5em; text-align: left; border: none;\">\n",
       "                pdays_rev\n",
       "            </td>\n",
       "        </tr>\n",
       "    \n",
       "        <tr style=\"background-color: hsl(120, 100.00%, 92.85%); border: none;\">\n",
       "            <td style=\"padding: 0 1em 0 0.5em; text-align: right; border: none;\">\n",
       "                0.0228\n",
       "                \n",
       "                    &plusmn; 0.0353\n",
       "                \n",
       "            </td>\n",
       "            <td style=\"padding: 0 0.5em 0 0.5em; text-align: left; border: none;\">\n",
       "                month__mar\n",
       "            </td>\n",
       "        </tr>\n",
       "    \n",
       "        <tr style=\"background-color: hsl(120, 100.00%, 93.20%); border: none;\">\n",
       "            <td style=\"padding: 0 1em 0 0.5em; text-align: right; border: none;\">\n",
       "                0.0212\n",
       "                \n",
       "                    &plusmn; 0.0282\n",
       "                \n",
       "            </td>\n",
       "            <td style=\"padding: 0 0.5em 0 0.5em; text-align: left; border: none;\">\n",
       "                marital__married\n",
       "            </td>\n",
       "        </tr>\n",
       "    \n",
       "        <tr style=\"background-color: hsl(120, 100.00%, 94.00%); border: none;\">\n",
       "            <td style=\"padding: 0 1em 0 0.5em; text-align: right; border: none;\">\n",
       "                0.0178\n",
       "                \n",
       "                    &plusmn; 0.0373\n",
       "                \n",
       "            </td>\n",
       "            <td style=\"padding: 0 0.5em 0 0.5em; text-align: left; border: none;\">\n",
       "                month__aug\n",
       "            </td>\n",
       "        </tr>\n",
       "    \n",
       "        <tr style=\"background-color: hsl(120, 100.00%, 94.42%); border: none;\">\n",
       "            <td style=\"padding: 0 1em 0 0.5em; text-align: right; border: none;\">\n",
       "                0.0160\n",
       "                \n",
       "                    &plusmn; 0.0343\n",
       "                \n",
       "            </td>\n",
       "            <td style=\"padding: 0 0.5em 0 0.5em; text-align: left; border: none;\">\n",
       "                month__jul\n",
       "            </td>\n",
       "        </tr>\n",
       "    \n",
       "        <tr style=\"background-color: hsl(120, 100.00%, 94.50%); border: none;\">\n",
       "            <td style=\"padding: 0 1em 0 0.5em; text-align: right; border: none;\">\n",
       "                0.0157\n",
       "                \n",
       "                    &plusmn; 0.0281\n",
       "                \n",
       "            </td>\n",
       "            <td style=\"padding: 0 0.5em 0 0.5em; text-align: left; border: none;\">\n",
       "                loan__no\n",
       "            </td>\n",
       "        </tr>\n",
       "    \n",
       "        <tr style=\"background-color: hsl(120, 100.00%, 94.60%); border: none;\">\n",
       "            <td style=\"padding: 0 1em 0 0.5em; text-align: right; border: none;\">\n",
       "                0.0152\n",
       "                \n",
       "                    &plusmn; 0.0238\n",
       "                \n",
       "            </td>\n",
       "            <td style=\"padding: 0 0.5em 0 0.5em; text-align: left; border: none;\">\n",
       "                month__jan\n",
       "            </td>\n",
       "        </tr>\n",
       "    \n",
       "        <tr style=\"background-color: hsl(120, 100.00%, 94.61%); border: none;\">\n",
       "            <td style=\"padding: 0 1em 0 0.5em; text-align: right; border: none;\">\n",
       "                0.0152\n",
       "                \n",
       "                    &plusmn; 0.0257\n",
       "                \n",
       "            </td>\n",
       "            <td style=\"padding: 0 0.5em 0 0.5em; text-align: left; border: none;\">\n",
       "                marital__single\n",
       "            </td>\n",
       "        </tr>\n",
       "    \n",
       "        <tr style=\"background-color: hsl(120, 100.00%, 94.62%); border: none;\">\n",
       "            <td style=\"padding: 0 1em 0 0.5em; text-align: right; border: none;\">\n",
       "                0.0152\n",
       "                \n",
       "                    &plusmn; 0.0225\n",
       "                \n",
       "            </td>\n",
       "            <td style=\"padding: 0 0.5em 0 0.5em; text-align: left; border: none;\">\n",
       "                loan__yes\n",
       "            </td>\n",
       "        </tr>\n",
       "    \n",
       "    \n",
       "        \n",
       "            <tr style=\"background-color: hsl(120, 100.00%, 94.62%); border: none;\">\n",
       "                <td colspan=\"2\" style=\"padding: 0 0.5em 0 0.5em; text-align: center; border: none; white-space: nowrap;\">\n",
       "                    <i>&hellip; 38 more &hellip;</i>\n",
       "                </td>\n",
       "            </tr>\n",
       "        \n",
       "    \n",
       "    </tbody>\n",
       "</table>\n",
       "    \n",
       "\n",
       "    \n",
       "\n",
       "\n",
       "    \n",
       "\n",
       "    \n",
       "\n",
       "    \n",
       "\n",
       "    \n",
       "\n",
       "    \n",
       "\n",
       "    \n",
       "\n",
       "\n",
       "\n"
      ],
      "text/plain": [
       "<IPython.core.display.HTML object>"
      ]
     },
     "execution_count": 112,
     "metadata": {},
     "output_type": "execute_result"
    }
   ],
   "source": [
    "eli5.show_weights(rf_model.named_steps[\"model\"], \n",
    "                  feature_names=all_features)"
   ]
  },
  {
   "cell_type": "markdown",
   "metadata": {},
   "source": [
    "## XGB"
   ]
  },
  {
   "cell_type": "markdown",
   "metadata": {},
   "source": [
    "### Training model"
   ]
  },
  {
   "cell_type": "code",
   "execution_count": 113,
   "metadata": {},
   "outputs": [
    {
     "name": "stdout",
     "output_type": "stream",
     "text": [
      "[09:45:22] WARNING: C:/Users/Administrator/workspace/xgboost-win64_release_1.4.0/src/learner.cc:1095: Starting in XGBoost 1.3.0, the default evaluation metric used with the objective 'binary:logistic' was changed from 'error' to 'logloss'. Explicitly set eval_metric if you'd like to restore the old behavior.\n"
     ]
    },
    {
     "data": {
      "text/plain": [
       "GridSearchCV(cv=5,\n",
       "             estimator=Pipeline(steps=[('preprocessor',\n",
       "                                        ColumnTransformer(transformers=[('numerical',\n",
       "                                                                         'passthrough',\n",
       "                                                                         ['pdays_rev',\n",
       "                                                                          'balance_cat']),\n",
       "                                                                        ('categorical',\n",
       "                                                                         OneHotEncoder(handle_unknown='ignore',\n",
       "                                                                                       sparse=False),\n",
       "                                                                         ['job',\n",
       "                                                                          'marital',\n",
       "                                                                          'education',\n",
       "                                                                          'housing',\n",
       "                                                                          'loan',\n",
       "                                                                          'contact',\n",
       "                                                                          'poutcome',\n",
       "                                                                          'month',\n",
       "                                                                          'campaign_rev',\n",
       "                                                                          'age_cat'])])),\n",
       "                                       ('model',\n",
       "                                        XGBClassifier(base_sc...\n",
       "                                                      monotone_constraints=None,\n",
       "                                                      n_estimators=100,\n",
       "                                                      n_jobs=-1,\n",
       "                                                      num_parallel_tree=None,\n",
       "                                                      random_state=None,\n",
       "                                                      reg_alpha=None,\n",
       "                                                      reg_lambda=None,\n",
       "                                                      scale_pos_weight=0.9036801453884598,\n",
       "                                                      subsample=None,\n",
       "                                                      tree_method=None,\n",
       "                                                      validate_parameters=None,\n",
       "                                                      verbosity=None))]),\n",
       "             n_jobs=-1,\n",
       "             param_grid={'model__max_depth': [5, 10],\n",
       "                         'model__min_child_weight': [5, 10],\n",
       "                         'model__n_estimators': [25]},\n",
       "             scoring='recall')"
      ]
     },
     "execution_count": 113,
     "metadata": {},
     "output_type": "execute_result"
    }
   ],
   "source": [
    "gs = GridSearchCV(xgb_model, {\"model__max_depth\": [5, 10],\n",
    "                              \"model__min_child_weight\": [5, 10],\n",
    "                              \"model__n_estimators\": [25]},\n",
    "                  n_jobs=-1, cv=5, scoring=\"recall\")\n",
    "\n",
    "gs.fit(X_train, y_train)"
   ]
  },
  {
   "cell_type": "code",
   "execution_count": 114,
   "metadata": {},
   "outputs": [
    {
     "name": "stdout",
     "output_type": "stream",
     "text": [
      "{'model__max_depth': 10, 'model__min_child_weight': 5, 'model__n_estimators': 25}\n",
      "0.1156834330918128\n",
      "[09:45:24] WARNING: C:/Users/Administrator/workspace/xgboost-win64_release_1.4.0/src/learner.cc:1095: Starting in XGBoost 1.3.0, the default evaluation metric used with the objective 'binary:logistic' was changed from 'error' to 'logloss'. Explicitly set eval_metric if you'd like to restore the old behavior.\n"
     ]
    },
    {
     "data": {
      "text/plain": [
       "Pipeline(steps=[('preprocessor',\n",
       "                 ColumnTransformer(transformers=[('numerical', 'passthrough',\n",
       "                                                  ['pdays_rev', 'balance_cat']),\n",
       "                                                 ('categorical',\n",
       "                                                  OneHotEncoder(handle_unknown='ignore',\n",
       "                                                                sparse=False),\n",
       "                                                  ['job', 'marital',\n",
       "                                                   'education', 'housing',\n",
       "                                                   'loan', 'contact',\n",
       "                                                   'poutcome', 'month',\n",
       "                                                   'campaign_rev',\n",
       "                                                   'age_cat'])])),\n",
       "                ('model',\n",
       "                 XGBClassifier(base_score=0.5, booster='gbtree',\n",
       "                               col...\n",
       "                               importance_type='gain',\n",
       "                               interaction_constraints='',\n",
       "                               learning_rate=0.300000012, max_delta_step=0,\n",
       "                               max_depth=10, min_child_weight=5, missing=nan,\n",
       "                               monotone_constraints='()', n_estimators=25,\n",
       "                               n_jobs=-1, num_parallel_tree=1, random_state=0,\n",
       "                               reg_alpha=0, reg_lambda=1,\n",
       "                               scale_pos_weight=0.9036801453884598, subsample=1,\n",
       "                               tree_method='exact', validate_parameters=1,\n",
       "                               verbosity=None))])"
      ]
     },
     "execution_count": 114,
     "metadata": {},
     "output_type": "execute_result"
    }
   ],
   "source": [
    "print(gs.best_params_)\n",
    "print(gs.best_score_)\n",
    "xgb_model.set_params(**gs.best_params_)\n",
    "xgb_model.fit(X_train, y_train)"
   ]
  },
  {
   "cell_type": "markdown",
   "metadata": {},
   "source": [
    "### Evaluation"
   ]
  },
  {
   "cell_type": "code",
   "execution_count": 115,
   "metadata": {},
   "outputs": [],
   "source": [
    "y_pred = xgb_model.predict(X_test)"
   ]
  },
  {
   "cell_type": "code",
   "execution_count": 116,
   "metadata": {},
   "outputs": [
    {
     "data": {
      "text/plain": [
       "0.9051825677267373"
      ]
     },
     "execution_count": 116,
     "metadata": {},
     "output_type": "execute_result"
    }
   ],
   "source": [
    "accuracy_score(y_test, y_pred)"
   ]
  },
  {
   "cell_type": "code",
   "execution_count": 117,
   "metadata": {},
   "outputs": [
    {
     "name": "stdout",
     "output_type": "stream",
     "text": [
      "Accuracy (Test Set): 0.91\n",
      "Precision (Test Set): 0.53\n",
      "Recall (Test Set): 0.13\n",
      "F1-Score (Test Set): 0.21\n",
      "AUC: 0.56\n"
     ]
    }
   ],
   "source": [
    "eval_classification(xgb_model, y_pred, X_train, y_train, X_test, y_test)"
   ]
  },
  {
   "cell_type": "code",
   "execution_count": 118,
   "metadata": {},
   "outputs": [
    {
     "name": "stdout",
     "output_type": "stream",
     "text": [
      "              precision    recall  f1-score   support\n",
      "\n",
      "           0       0.91      0.99      0.95     10741\n",
      "           1       0.53      0.13      0.21      1145\n",
      "\n",
      "    accuracy                           0.91     11886\n",
      "   macro avg       0.72      0.56      0.58     11886\n",
      "weighted avg       0.88      0.91      0.88     11886\n",
      "\n"
     ]
    }
   ],
   "source": [
    "print(classification_report(y_test, y_pred))"
   ]
  },
  {
   "cell_type": "markdown",
   "metadata": {},
   "source": [
    "Pertimbangan dalam pemilihan model adalah nilai  Precision dengan target naik 2x lipat dari conversation rate yang sebelumnya 9,3%, dengan recall yang paling tinggi dan AUC yang tinggi. Sehingga kami memutuskan untuk memilih model *Logistic Regression*"
   ]
  },
  {
   "cell_type": "code",
   "execution_count": null,
   "metadata": {},
   "outputs": [],
   "source": []
  }
 ],
 "metadata": {
  "kernelspec": {
   "display_name": "Python 3",
   "language": "python",
   "name": "python3"
  },
  "language_info": {
   "codemirror_mode": {
    "name": "ipython",
    "version": 3
   },
   "file_extension": ".py",
   "mimetype": "text/x-python",
   "name": "python",
   "nbconvert_exporter": "python",
   "pygments_lexer": "ipython3",
   "version": "3.8.5"
  }
 },
 "nbformat": 4,
 "nbformat_minor": 4
}
